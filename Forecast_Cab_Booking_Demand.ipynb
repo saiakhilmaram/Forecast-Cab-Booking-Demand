{
 "cells": [
  {
   "cell_type": "markdown",
   "metadata": {
    "id": "7ElXS1FjMjqR"
   },
   "source": [
    "Import required libraries"
   ]
  },
  {
   "cell_type": "code",
   "execution_count": 5,
   "metadata": {
    "id": "apXf2efeMjqW"
   },
   "outputs": [],
   "source": [
    "import pandas as pd\n",
    "import numpy as np\n",
    "import datetime\n",
    "import matplotlib.pyplot as plt\n",
    "import seaborn as sns"
   ]
  },
  {
   "cell_type": "markdown",
   "metadata": {
    "id": "Wei4I6lmMjqa"
   },
   "source": [
    "Load the training and testing dataset"
   ]
  },
  {
   "cell_type": "code",
   "execution_count": 6,
   "metadata": {
    "colab": {
     "base_uri": "https://localhost:8080/",
     "height": 424
    },
    "id": "3ubmahQvMjqe",
    "outputId": "d08711b3-e841-4966-c876-3751daae16c7"
   },
   "outputs": [
    {
     "data": {
      "text/html": [
       "<div>\n",
       "<style scoped>\n",
       "    .dataframe tbody tr th:only-of-type {\n",
       "        vertical-align: middle;\n",
       "    }\n",
       "\n",
       "    .dataframe tbody tr th {\n",
       "        vertical-align: top;\n",
       "    }\n",
       "\n",
       "    .dataframe thead th {\n",
       "        text-align: right;\n",
       "    }\n",
       "</style>\n",
       "<table border=\"1\" class=\"dataframe\">\n",
       "  <thead>\n",
       "    <tr style=\"text-align: right;\">\n",
       "      <th></th>\n",
       "      <th>datetime</th>\n",
       "      <th>season</th>\n",
       "      <th>holiday</th>\n",
       "      <th>workingday</th>\n",
       "      <th>weather</th>\n",
       "      <th>temp</th>\n",
       "      <th>atemp</th>\n",
       "      <th>humidity</th>\n",
       "      <th>windspeed</th>\n",
       "    </tr>\n",
       "  </thead>\n",
       "  <tbody>\n",
       "    <tr>\n",
       "      <th>0</th>\n",
       "      <td>5/2/2012 19:00</td>\n",
       "      <td>Summer</td>\n",
       "      <td>0</td>\n",
       "      <td>1</td>\n",
       "      <td>Clear + Few clouds</td>\n",
       "      <td>22.14</td>\n",
       "      <td>25.760</td>\n",
       "      <td>77</td>\n",
       "      <td>16.9979</td>\n",
       "    </tr>\n",
       "    <tr>\n",
       "      <th>1</th>\n",
       "      <td>9/5/2012 4:00</td>\n",
       "      <td>Fall</td>\n",
       "      <td>0</td>\n",
       "      <td>1</td>\n",
       "      <td>Clear + Few clouds</td>\n",
       "      <td>28.70</td>\n",
       "      <td>33.335</td>\n",
       "      <td>79</td>\n",
       "      <td>19.0012</td>\n",
       "    </tr>\n",
       "    <tr>\n",
       "      <th>2</th>\n",
       "      <td>1/13/2011 9:00</td>\n",
       "      <td>Spring</td>\n",
       "      <td>0</td>\n",
       "      <td>1</td>\n",
       "      <td>Clear + Few clouds</td>\n",
       "      <td>5.74</td>\n",
       "      <td>6.060</td>\n",
       "      <td>50</td>\n",
       "      <td>22.0028</td>\n",
       "    </tr>\n",
       "    <tr>\n",
       "      <th>3</th>\n",
       "      <td>11/18/2011 16:00</td>\n",
       "      <td>Winter</td>\n",
       "      <td>0</td>\n",
       "      <td>1</td>\n",
       "      <td>Clear + Few clouds</td>\n",
       "      <td>13.94</td>\n",
       "      <td>16.665</td>\n",
       "      <td>29</td>\n",
       "      <td>8.9981</td>\n",
       "    </tr>\n",
       "    <tr>\n",
       "      <th>4</th>\n",
       "      <td>9/13/2011 13:00</td>\n",
       "      <td>Fall</td>\n",
       "      <td>0</td>\n",
       "      <td>1</td>\n",
       "      <td>Clear + Few clouds</td>\n",
       "      <td>30.34</td>\n",
       "      <td>33.335</td>\n",
       "      <td>51</td>\n",
       "      <td>19.0012</td>\n",
       "    </tr>\n",
       "    <tr>\n",
       "      <th>...</th>\n",
       "      <td>...</td>\n",
       "      <td>...</td>\n",
       "      <td>...</td>\n",
       "      <td>...</td>\n",
       "      <td>...</td>\n",
       "      <td>...</td>\n",
       "      <td>...</td>\n",
       "      <td>...</td>\n",
       "      <td>...</td>\n",
       "    </tr>\n",
       "    <tr>\n",
       "      <th>8703</th>\n",
       "      <td>1/16/2012 6:00</td>\n",
       "      <td>Spring</td>\n",
       "      <td>1</td>\n",
       "      <td>0</td>\n",
       "      <td>Clear + Few clouds</td>\n",
       "      <td>4.10</td>\n",
       "      <td>6.820</td>\n",
       "      <td>54</td>\n",
       "      <td>6.0032</td>\n",
       "    </tr>\n",
       "    <tr>\n",
       "      <th>8704</th>\n",
       "      <td>11/10/2011 1:00</td>\n",
       "      <td>Winter</td>\n",
       "      <td>0</td>\n",
       "      <td>1</td>\n",
       "      <td>Mist + Cloudy</td>\n",
       "      <td>16.40</td>\n",
       "      <td>20.455</td>\n",
       "      <td>87</td>\n",
       "      <td>0.0000</td>\n",
       "    </tr>\n",
       "    <tr>\n",
       "      <th>8705</th>\n",
       "      <td>4/12/2011 3:00</td>\n",
       "      <td>Summer</td>\n",
       "      <td>0</td>\n",
       "      <td>1</td>\n",
       "      <td>Mist + Cloudy</td>\n",
       "      <td>23.78</td>\n",
       "      <td>27.275</td>\n",
       "      <td>56</td>\n",
       "      <td>8.9981</td>\n",
       "    </tr>\n",
       "    <tr>\n",
       "      <th>8706</th>\n",
       "      <td>11/7/2012 1:00</td>\n",
       "      <td>Winter</td>\n",
       "      <td>0</td>\n",
       "      <td>1</td>\n",
       "      <td>Mist + Cloudy</td>\n",
       "      <td>11.48</td>\n",
       "      <td>13.635</td>\n",
       "      <td>61</td>\n",
       "      <td>16.9979</td>\n",
       "    </tr>\n",
       "    <tr>\n",
       "      <th>8707</th>\n",
       "      <td>1/10/2011 10:00</td>\n",
       "      <td>Spring</td>\n",
       "      <td>0</td>\n",
       "      <td>1</td>\n",
       "      <td>Mist + Cloudy</td>\n",
       "      <td>5.74</td>\n",
       "      <td>6.060</td>\n",
       "      <td>50</td>\n",
       "      <td>19.9995</td>\n",
       "    </tr>\n",
       "  </tbody>\n",
       "</table>\n",
       "<p>8708 rows × 9 columns</p>\n",
       "</div>"
      ],
      "text/plain": [
       "              datetime  season  holiday  workingday              weather  \\\n",
       "0       5/2/2012 19:00  Summer        0           1   Clear + Few clouds   \n",
       "1        9/5/2012 4:00    Fall        0           1   Clear + Few clouds   \n",
       "2       1/13/2011 9:00  Spring        0           1   Clear + Few clouds   \n",
       "3     11/18/2011 16:00  Winter        0           1   Clear + Few clouds   \n",
       "4      9/13/2011 13:00    Fall        0           1   Clear + Few clouds   \n",
       "...                ...     ...      ...         ...                  ...   \n",
       "8703    1/16/2012 6:00  Spring        1           0   Clear + Few clouds   \n",
       "8704   11/10/2011 1:00  Winter        0           1       Mist + Cloudy    \n",
       "8705    4/12/2011 3:00  Summer        0           1       Mist + Cloudy    \n",
       "8706    11/7/2012 1:00  Winter        0           1       Mist + Cloudy    \n",
       "8707   1/10/2011 10:00  Spring        0           1       Mist + Cloudy    \n",
       "\n",
       "       temp   atemp  humidity  windspeed  \n",
       "0     22.14  25.760        77    16.9979  \n",
       "1     28.70  33.335        79    19.0012  \n",
       "2      5.74   6.060        50    22.0028  \n",
       "3     13.94  16.665        29     8.9981  \n",
       "4     30.34  33.335        51    19.0012  \n",
       "...     ...     ...       ...        ...  \n",
       "8703   4.10   6.820        54     6.0032  \n",
       "8704  16.40  20.455        87     0.0000  \n",
       "8705  23.78  27.275        56     8.9981  \n",
       "8706  11.48  13.635        61    16.9979  \n",
       "8707   5.74   6.060        50    19.9995  \n",
       "\n",
       "[8708 rows x 9 columns]"
      ]
     },
     "execution_count": 6,
     "metadata": {},
     "output_type": "execute_result"
    }
   ],
   "source": [
    "#Import train dataset\n",
    "df_train = pd.read_csv('train.csv')\n",
    "df_train"
   ]
  },
  {
   "cell_type": "code",
   "execution_count": 7,
   "metadata": {
    "colab": {
     "base_uri": "https://localhost:8080/",
     "height": 424
    },
    "id": "bAd_sLCIMjqh",
    "outputId": "2c6151c9-2cd5-4f91-ccd8-44a8a4e9b236"
   },
   "outputs": [
    {
     "data": {
      "text/html": [
       "<div>\n",
       "<style scoped>\n",
       "    .dataframe tbody tr th:only-of-type {\n",
       "        vertical-align: middle;\n",
       "    }\n",
       "\n",
       "    .dataframe tbody tr th {\n",
       "        vertical-align: top;\n",
       "    }\n",
       "\n",
       "    .dataframe thead th {\n",
       "        text-align: right;\n",
       "    }\n",
       "</style>\n",
       "<table border=\"1\" class=\"dataframe\">\n",
       "  <thead>\n",
       "    <tr style=\"text-align: right;\">\n",
       "      <th></th>\n",
       "      <th>datetime</th>\n",
       "      <th>season</th>\n",
       "      <th>holiday</th>\n",
       "      <th>workingday</th>\n",
       "      <th>weather</th>\n",
       "      <th>temp</th>\n",
       "      <th>atemp</th>\n",
       "      <th>humidity</th>\n",
       "      <th>windspeed</th>\n",
       "    </tr>\n",
       "  </thead>\n",
       "  <tbody>\n",
       "    <tr>\n",
       "      <th>0</th>\n",
       "      <td>5/10/2012 11:00</td>\n",
       "      <td>Summer</td>\n",
       "      <td>0</td>\n",
       "      <td>1</td>\n",
       "      <td>Clear + Few clouds</td>\n",
       "      <td>21.32</td>\n",
       "      <td>25.000</td>\n",
       "      <td>48</td>\n",
       "      <td>35.0008</td>\n",
       "    </tr>\n",
       "    <tr>\n",
       "      <th>1</th>\n",
       "      <td>6/9/2012 7:00</td>\n",
       "      <td>Summer</td>\n",
       "      <td>0</td>\n",
       "      <td>0</td>\n",
       "      <td>Clear + Few clouds</td>\n",
       "      <td>23.78</td>\n",
       "      <td>27.275</td>\n",
       "      <td>64</td>\n",
       "      <td>7.0015</td>\n",
       "    </tr>\n",
       "    <tr>\n",
       "      <th>2</th>\n",
       "      <td>3/6/2011 20:00</td>\n",
       "      <td>Spring</td>\n",
       "      <td>0</td>\n",
       "      <td>0</td>\n",
       "      <td>Light Snow, Light Rain</td>\n",
       "      <td>11.48</td>\n",
       "      <td>12.120</td>\n",
       "      <td>100</td>\n",
       "      <td>27.9993</td>\n",
       "    </tr>\n",
       "    <tr>\n",
       "      <th>3</th>\n",
       "      <td>10/13/2011 11:00</td>\n",
       "      <td>Winter</td>\n",
       "      <td>0</td>\n",
       "      <td>1</td>\n",
       "      <td>Mist + Cloudy</td>\n",
       "      <td>25.42</td>\n",
       "      <td>28.790</td>\n",
       "      <td>83</td>\n",
       "      <td>0.0000</td>\n",
       "    </tr>\n",
       "    <tr>\n",
       "      <th>4</th>\n",
       "      <td>6/2/2012 12:00</td>\n",
       "      <td>Summer</td>\n",
       "      <td>0</td>\n",
       "      <td>0</td>\n",
       "      <td>Clear + Few clouds</td>\n",
       "      <td>25.42</td>\n",
       "      <td>31.060</td>\n",
       "      <td>43</td>\n",
       "      <td>23.9994</td>\n",
       "    </tr>\n",
       "    <tr>\n",
       "      <th>...</th>\n",
       "      <td>...</td>\n",
       "      <td>...</td>\n",
       "      <td>...</td>\n",
       "      <td>...</td>\n",
       "      <td>...</td>\n",
       "      <td>...</td>\n",
       "      <td>...</td>\n",
       "      <td>...</td>\n",
       "      <td>...</td>\n",
       "    </tr>\n",
       "    <tr>\n",
       "      <th>2173</th>\n",
       "      <td>3/8/2012 3:00</td>\n",
       "      <td>Spring</td>\n",
       "      <td>0</td>\n",
       "      <td>1</td>\n",
       "      <td>Clear + Few clouds</td>\n",
       "      <td>18.86</td>\n",
       "      <td>22.725</td>\n",
       "      <td>63</td>\n",
       "      <td>26.0027</td>\n",
       "    </tr>\n",
       "    <tr>\n",
       "      <th>2174</th>\n",
       "      <td>1/12/2012 12:00</td>\n",
       "      <td>Spring</td>\n",
       "      <td>0</td>\n",
       "      <td>1</td>\n",
       "      <td>Mist + Cloudy</td>\n",
       "      <td>13.94</td>\n",
       "      <td>17.425</td>\n",
       "      <td>81</td>\n",
       "      <td>7.0015</td>\n",
       "    </tr>\n",
       "    <tr>\n",
       "      <th>2175</th>\n",
       "      <td>3/7/2012 22:00</td>\n",
       "      <td>Spring</td>\n",
       "      <td>0</td>\n",
       "      <td>1</td>\n",
       "      <td>Clear + Few clouds</td>\n",
       "      <td>18.86</td>\n",
       "      <td>22.725</td>\n",
       "      <td>59</td>\n",
       "      <td>19.9995</td>\n",
       "    </tr>\n",
       "    <tr>\n",
       "      <th>2176</th>\n",
       "      <td>5/12/2011 5:00</td>\n",
       "      <td>Summer</td>\n",
       "      <td>0</td>\n",
       "      <td>1</td>\n",
       "      <td>Clear + Few clouds</td>\n",
       "      <td>17.22</td>\n",
       "      <td>21.210</td>\n",
       "      <td>94</td>\n",
       "      <td>8.9981</td>\n",
       "    </tr>\n",
       "    <tr>\n",
       "      <th>2177</th>\n",
       "      <td>7/18/2012 16:00</td>\n",
       "      <td>Fall</td>\n",
       "      <td>0</td>\n",
       "      <td>1</td>\n",
       "      <td>Clear + Few clouds</td>\n",
       "      <td>30.34</td>\n",
       "      <td>34.850</td>\n",
       "      <td>66</td>\n",
       "      <td>16.9979</td>\n",
       "    </tr>\n",
       "  </tbody>\n",
       "</table>\n",
       "<p>2178 rows × 9 columns</p>\n",
       "</div>"
      ],
      "text/plain": [
       "              datetime  season  holiday  workingday                  weather  \\\n",
       "0      5/10/2012 11:00  Summer        0           1       Clear + Few clouds   \n",
       "1        6/9/2012 7:00  Summer        0           0       Clear + Few clouds   \n",
       "2       3/6/2011 20:00  Spring        0           0   Light Snow, Light Rain   \n",
       "3     10/13/2011 11:00  Winter        0           1           Mist + Cloudy    \n",
       "4       6/2/2012 12:00  Summer        0           0       Clear + Few clouds   \n",
       "...                ...     ...      ...         ...                      ...   \n",
       "2173     3/8/2012 3:00  Spring        0           1       Clear + Few clouds   \n",
       "2174   1/12/2012 12:00  Spring        0           1           Mist + Cloudy    \n",
       "2175    3/7/2012 22:00  Spring        0           1       Clear + Few clouds   \n",
       "2176    5/12/2011 5:00  Summer        0           1       Clear + Few clouds   \n",
       "2177   7/18/2012 16:00    Fall        0           1       Clear + Few clouds   \n",
       "\n",
       "       temp   atemp  humidity  windspeed  \n",
       "0     21.32  25.000        48    35.0008  \n",
       "1     23.78  27.275        64     7.0015  \n",
       "2     11.48  12.120       100    27.9993  \n",
       "3     25.42  28.790        83     0.0000  \n",
       "4     25.42  31.060        43    23.9994  \n",
       "...     ...     ...       ...        ...  \n",
       "2173  18.86  22.725        63    26.0027  \n",
       "2174  13.94  17.425        81     7.0015  \n",
       "2175  18.86  22.725        59    19.9995  \n",
       "2176  17.22  21.210        94     8.9981  \n",
       "2177  30.34  34.850        66    16.9979  \n",
       "\n",
       "[2178 rows x 9 columns]"
      ]
     },
     "execution_count": 7,
     "metadata": {},
     "output_type": "execute_result"
    }
   ],
   "source": [
    "#Import test dataset\n",
    "df_test = pd.read_csv('test.csv')\n",
    "df_test"
   ]
  },
  {
   "cell_type": "code",
   "execution_count": 8,
   "metadata": {
    "colab": {
     "base_uri": "https://localhost:8080/",
     "height": 424
    },
    "id": "owxLT_vrMjqk",
    "outputId": "0464a9dc-05a3-4c25-d687-632e8ddb72be"
   },
   "outputs": [
    {
     "data": {
      "text/html": [
       "<div>\n",
       "<style scoped>\n",
       "    .dataframe tbody tr th:only-of-type {\n",
       "        vertical-align: middle;\n",
       "    }\n",
       "\n",
       "    .dataframe tbody tr th {\n",
       "        vertical-align: top;\n",
       "    }\n",
       "\n",
       "    .dataframe thead th {\n",
       "        text-align: right;\n",
       "    }\n",
       "</style>\n",
       "<table border=\"1\" class=\"dataframe\">\n",
       "  <thead>\n",
       "    <tr style=\"text-align: right;\">\n",
       "      <th></th>\n",
       "      <th>0</th>\n",
       "    </tr>\n",
       "  </thead>\n",
       "  <tbody>\n",
       "    <tr>\n",
       "      <th>0</th>\n",
       "      <td>504</td>\n",
       "    </tr>\n",
       "    <tr>\n",
       "      <th>1</th>\n",
       "      <td>5</td>\n",
       "    </tr>\n",
       "    <tr>\n",
       "      <th>2</th>\n",
       "      <td>139</td>\n",
       "    </tr>\n",
       "    <tr>\n",
       "      <th>3</th>\n",
       "      <td>209</td>\n",
       "    </tr>\n",
       "    <tr>\n",
       "      <th>4</th>\n",
       "      <td>184</td>\n",
       "    </tr>\n",
       "    <tr>\n",
       "      <th>...</th>\n",
       "      <td>...</td>\n",
       "    </tr>\n",
       "    <tr>\n",
       "      <th>8703</th>\n",
       "      <td>13</td>\n",
       "    </tr>\n",
       "    <tr>\n",
       "      <th>8704</th>\n",
       "      <td>11</td>\n",
       "    </tr>\n",
       "    <tr>\n",
       "      <th>8705</th>\n",
       "      <td>1</td>\n",
       "    </tr>\n",
       "    <tr>\n",
       "      <th>8706</th>\n",
       "      <td>92</td>\n",
       "    </tr>\n",
       "    <tr>\n",
       "      <th>8707</th>\n",
       "      <td>31</td>\n",
       "    </tr>\n",
       "  </tbody>\n",
       "</table>\n",
       "<p>8708 rows × 1 columns</p>\n",
       "</div>"
      ],
      "text/plain": [
       "        0\n",
       "0     504\n",
       "1       5\n",
       "2     139\n",
       "3     209\n",
       "4     184\n",
       "...   ...\n",
       "8703   13\n",
       "8704   11\n",
       "8705    1\n",
       "8706   92\n",
       "8707   31\n",
       "\n",
       "[8708 rows x 1 columns]"
      ]
     },
     "execution_count": 8,
     "metadata": {},
     "output_type": "execute_result"
    }
   ],
   "source": [
    "#Import train_label dataset\n",
    "df_train_label = pd.read_csv('train_label.csv', header = None)\n",
    "df_train_label"
   ]
  },
  {
   "cell_type": "code",
   "execution_count": 9,
   "metadata": {
    "colab": {
     "base_uri": "https://localhost:8080/",
     "height": 424
    },
    "id": "zv801BKaMjqn",
    "outputId": "0613f964-d2b8-46f7-c130-f6081e5cf3f4"
   },
   "outputs": [
    {
     "data": {
      "text/html": [
       "<div>\n",
       "<style scoped>\n",
       "    .dataframe tbody tr th:only-of-type {\n",
       "        vertical-align: middle;\n",
       "    }\n",
       "\n",
       "    .dataframe tbody tr th {\n",
       "        vertical-align: top;\n",
       "    }\n",
       "\n",
       "    .dataframe thead th {\n",
       "        text-align: right;\n",
       "    }\n",
       "</style>\n",
       "<table border=\"1\" class=\"dataframe\">\n",
       "  <thead>\n",
       "    <tr style=\"text-align: right;\">\n",
       "      <th></th>\n",
       "      <th>0</th>\n",
       "    </tr>\n",
       "  </thead>\n",
       "  <tbody>\n",
       "    <tr>\n",
       "      <th>0</th>\n",
       "      <td>256</td>\n",
       "    </tr>\n",
       "    <tr>\n",
       "      <th>1</th>\n",
       "      <td>87</td>\n",
       "    </tr>\n",
       "    <tr>\n",
       "      <th>2</th>\n",
       "      <td>11</td>\n",
       "    </tr>\n",
       "    <tr>\n",
       "      <th>3</th>\n",
       "      <td>84</td>\n",
       "    </tr>\n",
       "    <tr>\n",
       "      <th>4</th>\n",
       "      <td>668</td>\n",
       "    </tr>\n",
       "    <tr>\n",
       "      <th>...</th>\n",
       "      <td>...</td>\n",
       "    </tr>\n",
       "    <tr>\n",
       "      <th>2173</th>\n",
       "      <td>3</td>\n",
       "    </tr>\n",
       "    <tr>\n",
       "      <th>2174</th>\n",
       "      <td>144</td>\n",
       "    </tr>\n",
       "    <tr>\n",
       "      <th>2175</th>\n",
       "      <td>159</td>\n",
       "    </tr>\n",
       "    <tr>\n",
       "      <th>2176</th>\n",
       "      <td>29</td>\n",
       "    </tr>\n",
       "    <tr>\n",
       "      <th>2177</th>\n",
       "      <td>224</td>\n",
       "    </tr>\n",
       "  </tbody>\n",
       "</table>\n",
       "<p>2178 rows × 1 columns</p>\n",
       "</div>"
      ],
      "text/plain": [
       "        0\n",
       "0     256\n",
       "1      87\n",
       "2      11\n",
       "3      84\n",
       "4     668\n",
       "...   ...\n",
       "2173    3\n",
       "2174  144\n",
       "2175  159\n",
       "2176   29\n",
       "2177  224\n",
       "\n",
       "[2178 rows x 1 columns]"
      ]
     },
     "execution_count": 9,
     "metadata": {},
     "output_type": "execute_result"
    }
   ],
   "source": [
    "#Import test_label dataset\n",
    "df_test_label = pd.read_csv('test_label.csv', header = None)\n",
    "df_test_label"
   ]
  },
  {
   "cell_type": "markdown",
   "metadata": {
    "id": "vMzMRPLGMjqr"
   },
   "source": [
    "Add the column name as 'Total_booking' in train_label dataset"
   ]
  },
  {
   "cell_type": "code",
   "execution_count": 10,
   "metadata": {
    "colab": {
     "base_uri": "https://localhost:8080/",
     "height": 424
    },
    "id": "Y98NnHlTMjq0",
    "outputId": "494d144e-5da3-4711-aa80-8a6fb8edb16e"
   },
   "outputs": [
    {
     "data": {
      "text/html": [
       "<div>\n",
       "<style scoped>\n",
       "    .dataframe tbody tr th:only-of-type {\n",
       "        vertical-align: middle;\n",
       "    }\n",
       "\n",
       "    .dataframe tbody tr th {\n",
       "        vertical-align: top;\n",
       "    }\n",
       "\n",
       "    .dataframe thead th {\n",
       "        text-align: right;\n",
       "    }\n",
       "</style>\n",
       "<table border=\"1\" class=\"dataframe\">\n",
       "  <thead>\n",
       "    <tr style=\"text-align: right;\">\n",
       "      <th></th>\n",
       "      <th>Total_booking</th>\n",
       "    </tr>\n",
       "  </thead>\n",
       "  <tbody>\n",
       "    <tr>\n",
       "      <th>0</th>\n",
       "      <td>504</td>\n",
       "    </tr>\n",
       "    <tr>\n",
       "      <th>1</th>\n",
       "      <td>5</td>\n",
       "    </tr>\n",
       "    <tr>\n",
       "      <th>2</th>\n",
       "      <td>139</td>\n",
       "    </tr>\n",
       "    <tr>\n",
       "      <th>3</th>\n",
       "      <td>209</td>\n",
       "    </tr>\n",
       "    <tr>\n",
       "      <th>4</th>\n",
       "      <td>184</td>\n",
       "    </tr>\n",
       "    <tr>\n",
       "      <th>...</th>\n",
       "      <td>...</td>\n",
       "    </tr>\n",
       "    <tr>\n",
       "      <th>8703</th>\n",
       "      <td>13</td>\n",
       "    </tr>\n",
       "    <tr>\n",
       "      <th>8704</th>\n",
       "      <td>11</td>\n",
       "    </tr>\n",
       "    <tr>\n",
       "      <th>8705</th>\n",
       "      <td>1</td>\n",
       "    </tr>\n",
       "    <tr>\n",
       "      <th>8706</th>\n",
       "      <td>92</td>\n",
       "    </tr>\n",
       "    <tr>\n",
       "      <th>8707</th>\n",
       "      <td>31</td>\n",
       "    </tr>\n",
       "  </tbody>\n",
       "</table>\n",
       "<p>8708 rows × 1 columns</p>\n",
       "</div>"
      ],
      "text/plain": [
       "      Total_booking\n",
       "0               504\n",
       "1                 5\n",
       "2               139\n",
       "3               209\n",
       "4               184\n",
       "...             ...\n",
       "8703             13\n",
       "8704             11\n",
       "8705              1\n",
       "8706             92\n",
       "8707             31\n",
       "\n",
       "[8708 rows x 1 columns]"
      ]
     },
     "execution_count": 10,
     "metadata": {},
     "output_type": "execute_result"
    }
   ],
   "source": [
    "col_name = ['Total_booking']\n",
    "df_train_label = df_train_label.set_axis(col_name, axis = 'columns',inplace = False)\n",
    "df_train_label"
   ]
  },
  {
   "cell_type": "markdown",
   "metadata": {
    "id": "bkdYqwRQMjq5"
   },
   "source": [
    "Append train_label.csv dataset to train.csv dataset"
   ]
  },
  {
   "cell_type": "code",
   "execution_count": 11,
   "metadata": {
    "colab": {
     "base_uri": "https://localhost:8080/",
     "height": 424
    },
    "id": "we-Fp5cFMjq7",
    "outputId": "f886e972-0374-4bfe-ce79-bd31678a629c"
   },
   "outputs": [
    {
     "data": {
      "text/html": [
       "<div>\n",
       "<style scoped>\n",
       "    .dataframe tbody tr th:only-of-type {\n",
       "        vertical-align: middle;\n",
       "    }\n",
       "\n",
       "    .dataframe tbody tr th {\n",
       "        vertical-align: top;\n",
       "    }\n",
       "\n",
       "    .dataframe thead th {\n",
       "        text-align: right;\n",
       "    }\n",
       "</style>\n",
       "<table border=\"1\" class=\"dataframe\">\n",
       "  <thead>\n",
       "    <tr style=\"text-align: right;\">\n",
       "      <th></th>\n",
       "      <th>datetime</th>\n",
       "      <th>season</th>\n",
       "      <th>holiday</th>\n",
       "      <th>workingday</th>\n",
       "      <th>weather</th>\n",
       "      <th>temp</th>\n",
       "      <th>atemp</th>\n",
       "      <th>humidity</th>\n",
       "      <th>windspeed</th>\n",
       "      <th>Total_booking</th>\n",
       "    </tr>\n",
       "  </thead>\n",
       "  <tbody>\n",
       "    <tr>\n",
       "      <th>0</th>\n",
       "      <td>5/2/2012 19:00</td>\n",
       "      <td>Summer</td>\n",
       "      <td>0</td>\n",
       "      <td>1</td>\n",
       "      <td>Clear + Few clouds</td>\n",
       "      <td>22.14</td>\n",
       "      <td>25.760</td>\n",
       "      <td>77</td>\n",
       "      <td>16.9979</td>\n",
       "      <td>504</td>\n",
       "    </tr>\n",
       "    <tr>\n",
       "      <th>1</th>\n",
       "      <td>9/5/2012 4:00</td>\n",
       "      <td>Fall</td>\n",
       "      <td>0</td>\n",
       "      <td>1</td>\n",
       "      <td>Clear + Few clouds</td>\n",
       "      <td>28.70</td>\n",
       "      <td>33.335</td>\n",
       "      <td>79</td>\n",
       "      <td>19.0012</td>\n",
       "      <td>5</td>\n",
       "    </tr>\n",
       "    <tr>\n",
       "      <th>2</th>\n",
       "      <td>1/13/2011 9:00</td>\n",
       "      <td>Spring</td>\n",
       "      <td>0</td>\n",
       "      <td>1</td>\n",
       "      <td>Clear + Few clouds</td>\n",
       "      <td>5.74</td>\n",
       "      <td>6.060</td>\n",
       "      <td>50</td>\n",
       "      <td>22.0028</td>\n",
       "      <td>139</td>\n",
       "    </tr>\n",
       "    <tr>\n",
       "      <th>3</th>\n",
       "      <td>11/18/2011 16:00</td>\n",
       "      <td>Winter</td>\n",
       "      <td>0</td>\n",
       "      <td>1</td>\n",
       "      <td>Clear + Few clouds</td>\n",
       "      <td>13.94</td>\n",
       "      <td>16.665</td>\n",
       "      <td>29</td>\n",
       "      <td>8.9981</td>\n",
       "      <td>209</td>\n",
       "    </tr>\n",
       "    <tr>\n",
       "      <th>4</th>\n",
       "      <td>9/13/2011 13:00</td>\n",
       "      <td>Fall</td>\n",
       "      <td>0</td>\n",
       "      <td>1</td>\n",
       "      <td>Clear + Few clouds</td>\n",
       "      <td>30.34</td>\n",
       "      <td>33.335</td>\n",
       "      <td>51</td>\n",
       "      <td>19.0012</td>\n",
       "      <td>184</td>\n",
       "    </tr>\n",
       "    <tr>\n",
       "      <th>...</th>\n",
       "      <td>...</td>\n",
       "      <td>...</td>\n",
       "      <td>...</td>\n",
       "      <td>...</td>\n",
       "      <td>...</td>\n",
       "      <td>...</td>\n",
       "      <td>...</td>\n",
       "      <td>...</td>\n",
       "      <td>...</td>\n",
       "      <td>...</td>\n",
       "    </tr>\n",
       "    <tr>\n",
       "      <th>8703</th>\n",
       "      <td>1/16/2012 6:00</td>\n",
       "      <td>Spring</td>\n",
       "      <td>1</td>\n",
       "      <td>0</td>\n",
       "      <td>Clear + Few clouds</td>\n",
       "      <td>4.10</td>\n",
       "      <td>6.820</td>\n",
       "      <td>54</td>\n",
       "      <td>6.0032</td>\n",
       "      <td>13</td>\n",
       "    </tr>\n",
       "    <tr>\n",
       "      <th>8704</th>\n",
       "      <td>11/10/2011 1:00</td>\n",
       "      <td>Winter</td>\n",
       "      <td>0</td>\n",
       "      <td>1</td>\n",
       "      <td>Mist + Cloudy</td>\n",
       "      <td>16.40</td>\n",
       "      <td>20.455</td>\n",
       "      <td>87</td>\n",
       "      <td>0.0000</td>\n",
       "      <td>11</td>\n",
       "    </tr>\n",
       "    <tr>\n",
       "      <th>8705</th>\n",
       "      <td>4/12/2011 3:00</td>\n",
       "      <td>Summer</td>\n",
       "      <td>0</td>\n",
       "      <td>1</td>\n",
       "      <td>Mist + Cloudy</td>\n",
       "      <td>23.78</td>\n",
       "      <td>27.275</td>\n",
       "      <td>56</td>\n",
       "      <td>8.9981</td>\n",
       "      <td>1</td>\n",
       "    </tr>\n",
       "    <tr>\n",
       "      <th>8706</th>\n",
       "      <td>11/7/2012 1:00</td>\n",
       "      <td>Winter</td>\n",
       "      <td>0</td>\n",
       "      <td>1</td>\n",
       "      <td>Mist + Cloudy</td>\n",
       "      <td>11.48</td>\n",
       "      <td>13.635</td>\n",
       "      <td>61</td>\n",
       "      <td>16.9979</td>\n",
       "      <td>92</td>\n",
       "    </tr>\n",
       "    <tr>\n",
       "      <th>8707</th>\n",
       "      <td>1/10/2011 10:00</td>\n",
       "      <td>Spring</td>\n",
       "      <td>0</td>\n",
       "      <td>1</td>\n",
       "      <td>Mist + Cloudy</td>\n",
       "      <td>5.74</td>\n",
       "      <td>6.060</td>\n",
       "      <td>50</td>\n",
       "      <td>19.9995</td>\n",
       "      <td>31</td>\n",
       "    </tr>\n",
       "  </tbody>\n",
       "</table>\n",
       "<p>8708 rows × 10 columns</p>\n",
       "</div>"
      ],
      "text/plain": [
       "              datetime  season  holiday  workingday              weather  \\\n",
       "0       5/2/2012 19:00  Summer        0           1   Clear + Few clouds   \n",
       "1        9/5/2012 4:00    Fall        0           1   Clear + Few clouds   \n",
       "2       1/13/2011 9:00  Spring        0           1   Clear + Few clouds   \n",
       "3     11/18/2011 16:00  Winter        0           1   Clear + Few clouds   \n",
       "4      9/13/2011 13:00    Fall        0           1   Clear + Few clouds   \n",
       "...                ...     ...      ...         ...                  ...   \n",
       "8703    1/16/2012 6:00  Spring        1           0   Clear + Few clouds   \n",
       "8704   11/10/2011 1:00  Winter        0           1       Mist + Cloudy    \n",
       "8705    4/12/2011 3:00  Summer        0           1       Mist + Cloudy    \n",
       "8706    11/7/2012 1:00  Winter        0           1       Mist + Cloudy    \n",
       "8707   1/10/2011 10:00  Spring        0           1       Mist + Cloudy    \n",
       "\n",
       "       temp   atemp  humidity  windspeed  Total_booking  \n",
       "0     22.14  25.760        77    16.9979            504  \n",
       "1     28.70  33.335        79    19.0012              5  \n",
       "2      5.74   6.060        50    22.0028            139  \n",
       "3     13.94  16.665        29     8.9981            209  \n",
       "4     30.34  33.335        51    19.0012            184  \n",
       "...     ...     ...       ...        ...            ...  \n",
       "8703   4.10   6.820        54     6.0032             13  \n",
       "8704  16.40  20.455        87     0.0000             11  \n",
       "8705  23.78  27.275        56     8.9981              1  \n",
       "8706  11.48  13.635        61    16.9979             92  \n",
       "8707   5.74   6.060        50    19.9995             31  \n",
       "\n",
       "[8708 rows x 10 columns]"
      ]
     },
     "execution_count": 11,
     "metadata": {},
     "output_type": "execute_result"
    }
   ],
   "source": [
    "data = pd.concat([df_train, df_train_label], axis=1)\n",
    "data"
   ]
  },
  {
   "cell_type": "markdown",
   "metadata": {
    "id": "20cUMov9Mjq-"
   },
   "source": [
    "Shape of train and test datasets"
   ]
  },
  {
   "cell_type": "code",
   "execution_count": 12,
   "metadata": {
    "colab": {
     "base_uri": "https://localhost:8080/"
    },
    "id": "7thKWUY9MjrA",
    "outputId": "10f5814b-38eb-405d-d92d-5af74c59a90f"
   },
   "outputs": [
    {
     "data": {
      "text/plain": [
       "(8708, 9)"
      ]
     },
     "execution_count": 12,
     "metadata": {},
     "output_type": "execute_result"
    }
   ],
   "source": [
    "df_train.shape"
   ]
  },
  {
   "cell_type": "code",
   "execution_count": 13,
   "metadata": {
    "colab": {
     "base_uri": "https://localhost:8080/"
    },
    "id": "Nk0urr3pMjrB",
    "outputId": "31fb728e-1a39-41e9-dec1-f13a5236eea4"
   },
   "outputs": [
    {
     "data": {
      "text/plain": [
       "(2178, 9)"
      ]
     },
     "execution_count": 13,
     "metadata": {},
     "output_type": "execute_result"
    }
   ],
   "source": [
    "df_test.shape"
   ]
  },
  {
   "cell_type": "code",
   "execution_count": 14,
   "metadata": {
    "colab": {
     "base_uri": "https://localhost:8080/"
    },
    "id": "llVP9zz-MjrE",
    "outputId": "2da3c6a2-4122-435a-ef4f-79a732ceaabd"
   },
   "outputs": [
    {
     "data": {
      "text/plain": [
       "(8708, 10)"
      ]
     },
     "execution_count": 14,
     "metadata": {},
     "output_type": "execute_result"
    }
   ],
   "source": [
    "data.shape"
   ]
  },
  {
   "cell_type": "markdown",
   "metadata": {
    "id": "BgYra8cJG7z4"
   },
   "source": [
    "Observation : test size is 0.25"
   ]
  },
  {
   "cell_type": "markdown",
   "metadata": {
    "id": "1oa64vZzMjrG"
   },
   "source": [
    "Data types of each column"
   ]
  },
  {
   "cell_type": "code",
   "execution_count": 15,
   "metadata": {
    "colab": {
     "base_uri": "https://localhost:8080/"
    },
    "id": "TpQsWptEMjrH",
    "outputId": "6e6543f2-8f20-475a-8992-0aa066c6c43b"
   },
   "outputs": [
    {
     "name": "stdout",
     "output_type": "stream",
     "text": [
      "<class 'pandas.core.frame.DataFrame'>\n",
      "RangeIndex: 8708 entries, 0 to 8707\n",
      "Data columns (total 9 columns):\n",
      " #   Column      Non-Null Count  Dtype  \n",
      "---  ------      --------------  -----  \n",
      " 0   datetime    8708 non-null   object \n",
      " 1   season      8708 non-null   object \n",
      " 2   holiday     8708 non-null   int64  \n",
      " 3   workingday  8708 non-null   int64  \n",
      " 4   weather     8708 non-null   object \n",
      " 5   temp        8708 non-null   float64\n",
      " 6   atemp       8708 non-null   float64\n",
      " 7   humidity    8708 non-null   int64  \n",
      " 8   windspeed   8708 non-null   float64\n",
      "dtypes: float64(3), int64(3), object(3)\n",
      "memory usage: 612.4+ KB\n"
     ]
    }
   ],
   "source": [
    "#print(df_train.dtypes)\n",
    "df_train.info()"
   ]
  },
  {
   "cell_type": "markdown",
   "metadata": {
    "id": "nhx-XTTrMjrJ"
   },
   "source": [
    "Observation : dataset contains 9 columns with 3 integer variables, 3 float variables and 3 Categorical variables"
   ]
  },
  {
   "cell_type": "markdown",
   "metadata": {
    "id": "gmDNiujzMjrK"
   },
   "source": [
    "Checking missing values"
   ]
  },
  {
   "cell_type": "code",
   "execution_count": 16,
   "metadata": {
    "colab": {
     "base_uri": "https://localhost:8080/"
    },
    "id": "FcVs-3XVMjrL",
    "outputId": "89789d17-0aef-4cc9-8a58-b3f3607f01a1"
   },
   "outputs": [
    {
     "data": {
      "text/plain": [
       "datetime         0\n",
       "season           0\n",
       "holiday          0\n",
       "workingday       0\n",
       "weather          0\n",
       "temp             0\n",
       "atemp            0\n",
       "humidity         0\n",
       "windspeed        0\n",
       "Total_booking    0\n",
       "dtype: int64"
      ]
     },
     "execution_count": 16,
     "metadata": {},
     "output_type": "execute_result"
    }
   ],
   "source": [
    "data.isnull().sum()"
   ]
  },
  {
   "cell_type": "markdown",
   "metadata": {
    "id": "ldOHRPPMgsZk"
   },
   "source": [
    "Observation : Dataset has no missing values"
   ]
  },
  {
   "cell_type": "markdown",
   "metadata": {
    "id": "mchAZ57OjViv"
   },
   "source": [
    "Feature Engineering"
   ]
  },
  {
   "cell_type": "markdown",
   "metadata": {
    "id": "iWEJ27MzGYaK"
   },
   "source": [
    "Create new columns date, hour, weekDay, month from datetime column"
   ]
  },
  {
   "cell_type": "code",
   "execution_count": 17,
   "metadata": {
    "colab": {
     "base_uri": "https://localhost:8080/",
     "height": 721
    },
    "id": "z7NyE69aMjrN",
    "outputId": "23a1563f-6faa-436e-f06b-d3335313288b"
   },
   "outputs": [
    {
     "data": {
      "text/html": [
       "<div>\n",
       "<style scoped>\n",
       "    .dataframe tbody tr th:only-of-type {\n",
       "        vertical-align: middle;\n",
       "    }\n",
       "\n",
       "    .dataframe tbody tr th {\n",
       "        vertical-align: top;\n",
       "    }\n",
       "\n",
       "    .dataframe thead th {\n",
       "        text-align: right;\n",
       "    }\n",
       "</style>\n",
       "<table border=\"1\" class=\"dataframe\">\n",
       "  <thead>\n",
       "    <tr style=\"text-align: right;\">\n",
       "      <th></th>\n",
       "      <th>datetime</th>\n",
       "      <th>season</th>\n",
       "      <th>holiday</th>\n",
       "      <th>workingday</th>\n",
       "      <th>weather</th>\n",
       "      <th>temp</th>\n",
       "      <th>atemp</th>\n",
       "      <th>humidity</th>\n",
       "      <th>windspeed</th>\n",
       "      <th>Total_booking</th>\n",
       "      <th>date</th>\n",
       "      <th>hour</th>\n",
       "      <th>weekDay</th>\n",
       "      <th>month</th>\n",
       "    </tr>\n",
       "  </thead>\n",
       "  <tbody>\n",
       "    <tr>\n",
       "      <th>0</th>\n",
       "      <td>2012-05-02 19:00:00</td>\n",
       "      <td>Summer</td>\n",
       "      <td>0</td>\n",
       "      <td>1</td>\n",
       "      <td>Clear + Few clouds</td>\n",
       "      <td>22.14</td>\n",
       "      <td>25.760</td>\n",
       "      <td>77</td>\n",
       "      <td>16.9979</td>\n",
       "      <td>504</td>\n",
       "      <td>2012-05-02</td>\n",
       "      <td>19</td>\n",
       "      <td>Wednesday</td>\n",
       "      <td>May</td>\n",
       "    </tr>\n",
       "    <tr>\n",
       "      <th>1</th>\n",
       "      <td>2012-09-05 04:00:00</td>\n",
       "      <td>Fall</td>\n",
       "      <td>0</td>\n",
       "      <td>1</td>\n",
       "      <td>Clear + Few clouds</td>\n",
       "      <td>28.70</td>\n",
       "      <td>33.335</td>\n",
       "      <td>79</td>\n",
       "      <td>19.0012</td>\n",
       "      <td>5</td>\n",
       "      <td>2012-09-05</td>\n",
       "      <td>4</td>\n",
       "      <td>Wednesday</td>\n",
       "      <td>September</td>\n",
       "    </tr>\n",
       "    <tr>\n",
       "      <th>2</th>\n",
       "      <td>2011-01-13 09:00:00</td>\n",
       "      <td>Spring</td>\n",
       "      <td>0</td>\n",
       "      <td>1</td>\n",
       "      <td>Clear + Few clouds</td>\n",
       "      <td>5.74</td>\n",
       "      <td>6.060</td>\n",
       "      <td>50</td>\n",
       "      <td>22.0028</td>\n",
       "      <td>139</td>\n",
       "      <td>2011-01-13</td>\n",
       "      <td>9</td>\n",
       "      <td>Thursday</td>\n",
       "      <td>January</td>\n",
       "    </tr>\n",
       "    <tr>\n",
       "      <th>3</th>\n",
       "      <td>2011-11-18 16:00:00</td>\n",
       "      <td>Winter</td>\n",
       "      <td>0</td>\n",
       "      <td>1</td>\n",
       "      <td>Clear + Few clouds</td>\n",
       "      <td>13.94</td>\n",
       "      <td>16.665</td>\n",
       "      <td>29</td>\n",
       "      <td>8.9981</td>\n",
       "      <td>209</td>\n",
       "      <td>2011-11-18</td>\n",
       "      <td>16</td>\n",
       "      <td>Friday</td>\n",
       "      <td>November</td>\n",
       "    </tr>\n",
       "    <tr>\n",
       "      <th>4</th>\n",
       "      <td>2011-09-13 13:00:00</td>\n",
       "      <td>Fall</td>\n",
       "      <td>0</td>\n",
       "      <td>1</td>\n",
       "      <td>Clear + Few clouds</td>\n",
       "      <td>30.34</td>\n",
       "      <td>33.335</td>\n",
       "      <td>51</td>\n",
       "      <td>19.0012</td>\n",
       "      <td>184</td>\n",
       "      <td>2011-09-13</td>\n",
       "      <td>13</td>\n",
       "      <td>Tuesday</td>\n",
       "      <td>September</td>\n",
       "    </tr>\n",
       "    <tr>\n",
       "      <th>...</th>\n",
       "      <td>...</td>\n",
       "      <td>...</td>\n",
       "      <td>...</td>\n",
       "      <td>...</td>\n",
       "      <td>...</td>\n",
       "      <td>...</td>\n",
       "      <td>...</td>\n",
       "      <td>...</td>\n",
       "      <td>...</td>\n",
       "      <td>...</td>\n",
       "      <td>...</td>\n",
       "      <td>...</td>\n",
       "      <td>...</td>\n",
       "      <td>...</td>\n",
       "    </tr>\n",
       "    <tr>\n",
       "      <th>8703</th>\n",
       "      <td>2012-01-16 06:00:00</td>\n",
       "      <td>Spring</td>\n",
       "      <td>1</td>\n",
       "      <td>0</td>\n",
       "      <td>Clear + Few clouds</td>\n",
       "      <td>4.10</td>\n",
       "      <td>6.820</td>\n",
       "      <td>54</td>\n",
       "      <td>6.0032</td>\n",
       "      <td>13</td>\n",
       "      <td>2012-01-16</td>\n",
       "      <td>6</td>\n",
       "      <td>Monday</td>\n",
       "      <td>January</td>\n",
       "    </tr>\n",
       "    <tr>\n",
       "      <th>8704</th>\n",
       "      <td>2011-11-10 01:00:00</td>\n",
       "      <td>Winter</td>\n",
       "      <td>0</td>\n",
       "      <td>1</td>\n",
       "      <td>Mist + Cloudy</td>\n",
       "      <td>16.40</td>\n",
       "      <td>20.455</td>\n",
       "      <td>87</td>\n",
       "      <td>0.0000</td>\n",
       "      <td>11</td>\n",
       "      <td>2011-11-10</td>\n",
       "      <td>1</td>\n",
       "      <td>Thursday</td>\n",
       "      <td>November</td>\n",
       "    </tr>\n",
       "    <tr>\n",
       "      <th>8705</th>\n",
       "      <td>2011-04-12 03:00:00</td>\n",
       "      <td>Summer</td>\n",
       "      <td>0</td>\n",
       "      <td>1</td>\n",
       "      <td>Mist + Cloudy</td>\n",
       "      <td>23.78</td>\n",
       "      <td>27.275</td>\n",
       "      <td>56</td>\n",
       "      <td>8.9981</td>\n",
       "      <td>1</td>\n",
       "      <td>2011-04-12</td>\n",
       "      <td>3</td>\n",
       "      <td>Tuesday</td>\n",
       "      <td>April</td>\n",
       "    </tr>\n",
       "    <tr>\n",
       "      <th>8706</th>\n",
       "      <td>2012-11-07 01:00:00</td>\n",
       "      <td>Winter</td>\n",
       "      <td>0</td>\n",
       "      <td>1</td>\n",
       "      <td>Mist + Cloudy</td>\n",
       "      <td>11.48</td>\n",
       "      <td>13.635</td>\n",
       "      <td>61</td>\n",
       "      <td>16.9979</td>\n",
       "      <td>92</td>\n",
       "      <td>2012-11-07</td>\n",
       "      <td>1</td>\n",
       "      <td>Wednesday</td>\n",
       "      <td>November</td>\n",
       "    </tr>\n",
       "    <tr>\n",
       "      <th>8707</th>\n",
       "      <td>2011-01-10 10:00:00</td>\n",
       "      <td>Spring</td>\n",
       "      <td>0</td>\n",
       "      <td>1</td>\n",
       "      <td>Mist + Cloudy</td>\n",
       "      <td>5.74</td>\n",
       "      <td>6.060</td>\n",
       "      <td>50</td>\n",
       "      <td>19.9995</td>\n",
       "      <td>31</td>\n",
       "      <td>2011-01-10</td>\n",
       "      <td>10</td>\n",
       "      <td>Monday</td>\n",
       "      <td>January</td>\n",
       "    </tr>\n",
       "  </tbody>\n",
       "</table>\n",
       "<p>8708 rows × 14 columns</p>\n",
       "</div>"
      ],
      "text/plain": [
       "                datetime  season  holiday  workingday              weather  \\\n",
       "0    2012-05-02 19:00:00  Summer        0           1   Clear + Few clouds   \n",
       "1    2012-09-05 04:00:00    Fall        0           1   Clear + Few clouds   \n",
       "2    2011-01-13 09:00:00  Spring        0           1   Clear + Few clouds   \n",
       "3    2011-11-18 16:00:00  Winter        0           1   Clear + Few clouds   \n",
       "4    2011-09-13 13:00:00    Fall        0           1   Clear + Few clouds   \n",
       "...                  ...     ...      ...         ...                  ...   \n",
       "8703 2012-01-16 06:00:00  Spring        1           0   Clear + Few clouds   \n",
       "8704 2011-11-10 01:00:00  Winter        0           1       Mist + Cloudy    \n",
       "8705 2011-04-12 03:00:00  Summer        0           1       Mist + Cloudy    \n",
       "8706 2012-11-07 01:00:00  Winter        0           1       Mist + Cloudy    \n",
       "8707 2011-01-10 10:00:00  Spring        0           1       Mist + Cloudy    \n",
       "\n",
       "       temp   atemp  humidity  windspeed  Total_booking        date  hour  \\\n",
       "0     22.14  25.760        77    16.9979            504  2012-05-02    19   \n",
       "1     28.70  33.335        79    19.0012              5  2012-09-05     4   \n",
       "2      5.74   6.060        50    22.0028            139  2011-01-13     9   \n",
       "3     13.94  16.665        29     8.9981            209  2011-11-18    16   \n",
       "4     30.34  33.335        51    19.0012            184  2011-09-13    13   \n",
       "...     ...     ...       ...        ...            ...         ...   ...   \n",
       "8703   4.10   6.820        54     6.0032             13  2012-01-16     6   \n",
       "8704  16.40  20.455        87     0.0000             11  2011-11-10     1   \n",
       "8705  23.78  27.275        56     8.9981              1  2011-04-12     3   \n",
       "8706  11.48  13.635        61    16.9979             92  2012-11-07     1   \n",
       "8707   5.74   6.060        50    19.9995             31  2011-01-10    10   \n",
       "\n",
       "        weekDay      month  \n",
       "0     Wednesday        May  \n",
       "1     Wednesday  September  \n",
       "2      Thursday    January  \n",
       "3        Friday   November  \n",
       "4       Tuesday  September  \n",
       "...         ...        ...  \n",
       "8703     Monday    January  \n",
       "8704   Thursday   November  \n",
       "8705    Tuesday      April  \n",
       "8706  Wednesday   November  \n",
       "8707     Monday    January  \n",
       "\n",
       "[8708 rows x 14 columns]"
      ]
     },
     "execution_count": 17,
     "metadata": {},
     "output_type": "execute_result"
    }
   ],
   "source": [
    "data['datetime'] = pd.to_datetime(data['datetime'])\n",
    "data['date'] = data['datetime'].dt.date\n",
    "data['hour'] = data['datetime'].dt.hour\n",
    "data['weekDay'] = data['datetime'].dt.day_name()\n",
    "data['month'] = data['datetime'].dt.month_name()\n",
    "data"
   ]
  },
  {
   "cell_type": "markdown",
   "metadata": {
    "id": "UaZW69AcluNo"
   },
   "source": [
    "Conversion to Categorical Variables"
   ]
  },
  {
   "cell_type": "code",
   "execution_count": 18,
   "metadata": {
    "id": "c_6nSc3ukam_"
   },
   "outputs": [],
   "source": [
    "data['season'] = data['season'].astype('category')\n",
    "data['holiday'] = data['holiday'].astype('category')\n",
    "data['workingday'] = data['workingday'].astype('category')\n",
    "data['weather'] = data['weather'].astype('category')"
   ]
  },
  {
   "cell_type": "code",
   "execution_count": 19,
   "metadata": {
    "colab": {
     "base_uri": "https://localhost:8080/"
    },
    "id": "S6VFaGyymd4q",
    "outputId": "b3a7ecb3-c9ec-44ee-e9d8-3bd930b82eae"
   },
   "outputs": [
    {
     "data": {
      "text/plain": [
       "datetime         datetime64[ns]\n",
       "season                 category\n",
       "holiday                category\n",
       "workingday             category\n",
       "weather                category\n",
       "temp                    float64\n",
       "atemp                   float64\n",
       "humidity                  int64\n",
       "windspeed               float64\n",
       "Total_booking             int64\n",
       "date                     object\n",
       "hour                      int64\n",
       "weekDay                  object\n",
       "month                    object\n",
       "dtype: object"
      ]
     },
     "execution_count": 19,
     "metadata": {},
     "output_type": "execute_result"
    }
   ],
   "source": [
    "data.dtypes"
   ]
  },
  {
   "cell_type": "markdown",
   "metadata": {
    "id": "SeKd5y4lIqWx"
   },
   "source": [
    "Drop the datetime column"
   ]
  },
  {
   "cell_type": "code",
   "execution_count": 20,
   "metadata": {
    "id": "btIK74aKvXr6"
   },
   "outputs": [],
   "source": [
    "data = data.drop('datetime', axis=1)"
   ]
  },
  {
   "cell_type": "code",
   "execution_count": 21,
   "metadata": {
    "colab": {
     "base_uri": "https://localhost:8080/",
     "height": 528
    },
    "id": "n5B0m6uSvgIP",
    "outputId": "7580b7a2-a801-4b2c-f25d-743bec0f8176"
   },
   "outputs": [
    {
     "data": {
      "text/html": [
       "<div>\n",
       "<style scoped>\n",
       "    .dataframe tbody tr th:only-of-type {\n",
       "        vertical-align: middle;\n",
       "    }\n",
       "\n",
       "    .dataframe tbody tr th {\n",
       "        vertical-align: top;\n",
       "    }\n",
       "\n",
       "    .dataframe thead th {\n",
       "        text-align: right;\n",
       "    }\n",
       "</style>\n",
       "<table border=\"1\" class=\"dataframe\">\n",
       "  <thead>\n",
       "    <tr style=\"text-align: right;\">\n",
       "      <th></th>\n",
       "      <th>season</th>\n",
       "      <th>holiday</th>\n",
       "      <th>workingday</th>\n",
       "      <th>weather</th>\n",
       "      <th>temp</th>\n",
       "      <th>atemp</th>\n",
       "      <th>humidity</th>\n",
       "      <th>windspeed</th>\n",
       "      <th>Total_booking</th>\n",
       "      <th>date</th>\n",
       "      <th>hour</th>\n",
       "      <th>weekDay</th>\n",
       "      <th>month</th>\n",
       "    </tr>\n",
       "  </thead>\n",
       "  <tbody>\n",
       "    <tr>\n",
       "      <th>0</th>\n",
       "      <td>Summer</td>\n",
       "      <td>0</td>\n",
       "      <td>1</td>\n",
       "      <td>Clear + Few clouds</td>\n",
       "      <td>22.14</td>\n",
       "      <td>25.760</td>\n",
       "      <td>77</td>\n",
       "      <td>16.9979</td>\n",
       "      <td>504</td>\n",
       "      <td>2012-05-02</td>\n",
       "      <td>19</td>\n",
       "      <td>Wednesday</td>\n",
       "      <td>May</td>\n",
       "    </tr>\n",
       "    <tr>\n",
       "      <th>1</th>\n",
       "      <td>Fall</td>\n",
       "      <td>0</td>\n",
       "      <td>1</td>\n",
       "      <td>Clear + Few clouds</td>\n",
       "      <td>28.70</td>\n",
       "      <td>33.335</td>\n",
       "      <td>79</td>\n",
       "      <td>19.0012</td>\n",
       "      <td>5</td>\n",
       "      <td>2012-09-05</td>\n",
       "      <td>4</td>\n",
       "      <td>Wednesday</td>\n",
       "      <td>September</td>\n",
       "    </tr>\n",
       "    <tr>\n",
       "      <th>2</th>\n",
       "      <td>Spring</td>\n",
       "      <td>0</td>\n",
       "      <td>1</td>\n",
       "      <td>Clear + Few clouds</td>\n",
       "      <td>5.74</td>\n",
       "      <td>6.060</td>\n",
       "      <td>50</td>\n",
       "      <td>22.0028</td>\n",
       "      <td>139</td>\n",
       "      <td>2011-01-13</td>\n",
       "      <td>9</td>\n",
       "      <td>Thursday</td>\n",
       "      <td>January</td>\n",
       "    </tr>\n",
       "    <tr>\n",
       "      <th>3</th>\n",
       "      <td>Winter</td>\n",
       "      <td>0</td>\n",
       "      <td>1</td>\n",
       "      <td>Clear + Few clouds</td>\n",
       "      <td>13.94</td>\n",
       "      <td>16.665</td>\n",
       "      <td>29</td>\n",
       "      <td>8.9981</td>\n",
       "      <td>209</td>\n",
       "      <td>2011-11-18</td>\n",
       "      <td>16</td>\n",
       "      <td>Friday</td>\n",
       "      <td>November</td>\n",
       "    </tr>\n",
       "    <tr>\n",
       "      <th>4</th>\n",
       "      <td>Fall</td>\n",
       "      <td>0</td>\n",
       "      <td>1</td>\n",
       "      <td>Clear + Few clouds</td>\n",
       "      <td>30.34</td>\n",
       "      <td>33.335</td>\n",
       "      <td>51</td>\n",
       "      <td>19.0012</td>\n",
       "      <td>184</td>\n",
       "      <td>2011-09-13</td>\n",
       "      <td>13</td>\n",
       "      <td>Tuesday</td>\n",
       "      <td>September</td>\n",
       "    </tr>\n",
       "    <tr>\n",
       "      <th>...</th>\n",
       "      <td>...</td>\n",
       "      <td>...</td>\n",
       "      <td>...</td>\n",
       "      <td>...</td>\n",
       "      <td>...</td>\n",
       "      <td>...</td>\n",
       "      <td>...</td>\n",
       "      <td>...</td>\n",
       "      <td>...</td>\n",
       "      <td>...</td>\n",
       "      <td>...</td>\n",
       "      <td>...</td>\n",
       "      <td>...</td>\n",
       "    </tr>\n",
       "    <tr>\n",
       "      <th>8703</th>\n",
       "      <td>Spring</td>\n",
       "      <td>1</td>\n",
       "      <td>0</td>\n",
       "      <td>Clear + Few clouds</td>\n",
       "      <td>4.10</td>\n",
       "      <td>6.820</td>\n",
       "      <td>54</td>\n",
       "      <td>6.0032</td>\n",
       "      <td>13</td>\n",
       "      <td>2012-01-16</td>\n",
       "      <td>6</td>\n",
       "      <td>Monday</td>\n",
       "      <td>January</td>\n",
       "    </tr>\n",
       "    <tr>\n",
       "      <th>8704</th>\n",
       "      <td>Winter</td>\n",
       "      <td>0</td>\n",
       "      <td>1</td>\n",
       "      <td>Mist + Cloudy</td>\n",
       "      <td>16.40</td>\n",
       "      <td>20.455</td>\n",
       "      <td>87</td>\n",
       "      <td>0.0000</td>\n",
       "      <td>11</td>\n",
       "      <td>2011-11-10</td>\n",
       "      <td>1</td>\n",
       "      <td>Thursday</td>\n",
       "      <td>November</td>\n",
       "    </tr>\n",
       "    <tr>\n",
       "      <th>8705</th>\n",
       "      <td>Summer</td>\n",
       "      <td>0</td>\n",
       "      <td>1</td>\n",
       "      <td>Mist + Cloudy</td>\n",
       "      <td>23.78</td>\n",
       "      <td>27.275</td>\n",
       "      <td>56</td>\n",
       "      <td>8.9981</td>\n",
       "      <td>1</td>\n",
       "      <td>2011-04-12</td>\n",
       "      <td>3</td>\n",
       "      <td>Tuesday</td>\n",
       "      <td>April</td>\n",
       "    </tr>\n",
       "    <tr>\n",
       "      <th>8706</th>\n",
       "      <td>Winter</td>\n",
       "      <td>0</td>\n",
       "      <td>1</td>\n",
       "      <td>Mist + Cloudy</td>\n",
       "      <td>11.48</td>\n",
       "      <td>13.635</td>\n",
       "      <td>61</td>\n",
       "      <td>16.9979</td>\n",
       "      <td>92</td>\n",
       "      <td>2012-11-07</td>\n",
       "      <td>1</td>\n",
       "      <td>Wednesday</td>\n",
       "      <td>November</td>\n",
       "    </tr>\n",
       "    <tr>\n",
       "      <th>8707</th>\n",
       "      <td>Spring</td>\n",
       "      <td>0</td>\n",
       "      <td>1</td>\n",
       "      <td>Mist + Cloudy</td>\n",
       "      <td>5.74</td>\n",
       "      <td>6.060</td>\n",
       "      <td>50</td>\n",
       "      <td>19.9995</td>\n",
       "      <td>31</td>\n",
       "      <td>2011-01-10</td>\n",
       "      <td>10</td>\n",
       "      <td>Monday</td>\n",
       "      <td>January</td>\n",
       "    </tr>\n",
       "  </tbody>\n",
       "</table>\n",
       "<p>8708 rows × 13 columns</p>\n",
       "</div>"
      ],
      "text/plain": [
       "      season holiday workingday              weather   temp   atemp  humidity  \\\n",
       "0     Summer       0          1   Clear + Few clouds  22.14  25.760        77   \n",
       "1       Fall       0          1   Clear + Few clouds  28.70  33.335        79   \n",
       "2     Spring       0          1   Clear + Few clouds   5.74   6.060        50   \n",
       "3     Winter       0          1   Clear + Few clouds  13.94  16.665        29   \n",
       "4       Fall       0          1   Clear + Few clouds  30.34  33.335        51   \n",
       "...      ...     ...        ...                  ...    ...     ...       ...   \n",
       "8703  Spring       1          0   Clear + Few clouds   4.10   6.820        54   \n",
       "8704  Winter       0          1       Mist + Cloudy   16.40  20.455        87   \n",
       "8705  Summer       0          1       Mist + Cloudy   23.78  27.275        56   \n",
       "8706  Winter       0          1       Mist + Cloudy   11.48  13.635        61   \n",
       "8707  Spring       0          1       Mist + Cloudy    5.74   6.060        50   \n",
       "\n",
       "      windspeed  Total_booking        date  hour    weekDay      month  \n",
       "0       16.9979            504  2012-05-02    19  Wednesday        May  \n",
       "1       19.0012              5  2012-09-05     4  Wednesday  September  \n",
       "2       22.0028            139  2011-01-13     9   Thursday    January  \n",
       "3        8.9981            209  2011-11-18    16     Friday   November  \n",
       "4       19.0012            184  2011-09-13    13    Tuesday  September  \n",
       "...         ...            ...         ...   ...        ...        ...  \n",
       "8703     6.0032             13  2012-01-16     6     Monday    January  \n",
       "8704     0.0000             11  2011-11-10     1   Thursday   November  \n",
       "8705     8.9981              1  2011-04-12     3    Tuesday      April  \n",
       "8706    16.9979             92  2012-11-07     1  Wednesday   November  \n",
       "8707    19.9995             31  2011-01-10    10     Monday    January  \n",
       "\n",
       "[8708 rows x 13 columns]"
      ]
     },
     "execution_count": 21,
     "metadata": {},
     "output_type": "execute_result"
    }
   ],
   "source": [
    "df = pd.DataFrame(data)\n",
    "df"
   ]
  },
  {
   "cell_type": "markdown",
   "metadata": {
    "id": "tiAkKedUv8Y3"
   },
   "source": [
    "# Outlier Analysis : "
   ]
  },
  {
   "cell_type": "markdown",
   "metadata": {
    "id": "CWZBDWcEJ2LQ"
   },
   "source": [
    "Plot Boxplots for detecting outliers"
   ]
  },
  {
   "cell_type": "code",
   "execution_count": 22,
   "metadata": {
    "colab": {
     "base_uri": "https://localhost:8080/",
     "height": 357
    },
    "id": "0JchnlyLvnYx",
    "outputId": "f257e52a-7fdc-44b2-e975-46c90b1b85e5"
   },
   "outputs": [
    {
     "data": {
      "text/plain": [
       "<AxesSubplot:xlabel='temp'>"
      ]
     },
     "execution_count": 22,
     "metadata": {},
     "output_type": "execute_result"
    },
    {
     "data": {
      "image/png": "[encoded data removed]",
      "text/plain": [
       "<Figure size 360x360 with 1 Axes>"
      ]
     },
     "metadata": {},
     "output_type": "display_data"
    }
   ],
   "source": [
    "#Boxplot for temp\n",
    "sns.set(rc={'figure.figsize':(5,5)})\n",
    "sns.boxplot(x='temp',data=df)"
   ]
  },
  {
   "cell_type": "code",
   "execution_count": 23,
   "metadata": {
    "colab": {
     "base_uri": "https://localhost:8080/",
     "height": 357
    },
    "id": "lKYJWyNFycTF",
    "outputId": "9722708a-4318-4546-c12d-6ab08abb59e4"
   },
   "outputs": [
    {
     "data": {
      "text/plain": [
       "<AxesSubplot:xlabel='atemp'>"
      ]
     },
     "execution_count": 23,
     "metadata": {},
     "output_type": "execute_result"
    },
    {
     "data": {
      "image/png": "[encoded data removed]",
      "text/plain": [
       "<Figure size 360x360 with 1 Axes>"
      ]
     },
     "metadata": {},
     "output_type": "display_data"
    }
   ],
   "source": [
    "#Boxplot for atemp\n",
    "sns.set(rc={'figure.figsize':(5,5)})\n",
    "sns.boxplot(x=\"atemp\",data=df)"
   ]
  },
  {
   "cell_type": "code",
   "execution_count": 24,
   "metadata": {
    "colab": {
     "base_uri": "https://localhost:8080/",
     "height": 357
    },
    "id": "Ou7S-8LjHwt6",
    "outputId": "55547017-700d-4f56-ccfe-ce5753873f19"
   },
   "outputs": [
    {
     "data": {
      "text/plain": [
       "<AxesSubplot:xlabel='humidity'>"
      ]
     },
     "execution_count": 24,
     "metadata": {},
     "output_type": "execute_result"
    },
    {
     "data": {
      "image/png": "[encoded data removed]",
      "text/plain": [
       "<Figure size 360x360 with 1 Axes>"
      ]
     },
     "metadata": {},
     "output_type": "display_data"
    }
   ],
   "source": [
    "#Boxplot for humidity\n",
    "sns.set(rc={'figure.figsize':(5,5)})\n",
    "sns.boxplot(x=\"humidity\",data=df)"
   ]
  },
  {
   "cell_type": "code",
   "execution_count": 25,
   "metadata": {
    "colab": {
     "base_uri": "https://localhost:8080/",
     "height": 357
    },
    "id": "fmPkuddpIJDH",
    "outputId": "927ce3db-5b69-4b3f-c0b3-07442c83cd0d"
   },
   "outputs": [
    {
     "data": {
      "text/plain": [
       "<AxesSubplot:xlabel='windspeed'>"
      ]
     },
     "execution_count": 25,
     "metadata": {},
     "output_type": "execute_result"
    },
    {
     "data": {
      "image/png": "[encoded data removed]",
      "text/plain": [
       "<Figure size 360x360 with 1 Axes>"
      ]
     },
     "metadata": {},
     "output_type": "display_data"
    }
   ],
   "source": [
    "#Boxplot for windspeed\n",
    "sns.set(rc={'figure.figsize':(5,5)})\n",
    "sns.boxplot(x=\"windspeed\",data=df)"
   ]
  },
  {
   "cell_type": "code",
   "execution_count": 26,
   "metadata": {
    "colab": {
     "base_uri": "https://localhost:8080/",
     "height": 357
    },
    "id": "_ugIDzh_I0-K",
    "outputId": "eab01075-d617-4d53-e1f7-a39b501218e0"
   },
   "outputs": [
    {
     "data": {
      "text/plain": [
       "<AxesSubplot:xlabel='Total_booking'>"
      ]
     },
     "execution_count": 26,
     "metadata": {},
     "output_type": "execute_result"
    },
    {
     "data": {
      "image/png": "[encoded data removed]",
      "text/plain": [
       "<Figure size 360x360 with 1 Axes>"
      ]
     },
     "metadata": {},
     "output_type": "display_data"
    }
   ],
   "source": [
    "#Boxplot for Total_booking\n",
    "sns.set(rc={'figure.figsize':(5,5)})\n",
    "sns.boxplot(x=\"Total_booking\",data=df)"
   ]
  },
  {
   "cell_type": "code",
   "execution_count": 27,
   "metadata": {
    "colab": {
     "base_uri": "https://localhost:8080/",
     "height": 357
    },
    "id": "m7EzcP29JY0B",
    "outputId": "53ce3134-c5c8-409f-93d8-51e295a39ad5"
   },
   "outputs": [
    {
     "data": {
      "text/plain": [
       "<AxesSubplot:xlabel='hour'>"
      ]
     },
     "execution_count": 27,
     "metadata": {},
     "output_type": "execute_result"
    },
    {
     "data": {
      "image/png": "[encoded data removed]",
      "text/plain": [
       "<Figure size 360x360 with 1 Axes>"
      ]
     },
     "metadata": {},
     "output_type": "display_data"
    }
   ],
   "source": [
    "#Boxplot for hour\n",
    "sns.set(rc={'figure.figsize':(5,5)})\n",
    "sns.boxplot(x=\"hour\",data=df)"
   ]
  },
  {
   "cell_type": "markdown",
   "metadata": {
    "id": "29sMt4NvJeDg"
   },
   "source": [
    "Inferences : There are few outliers present in windspeed and Total_booking columns"
   ]
  },
  {
   "cell_type": "code",
   "execution_count": 28,
   "metadata": {
    "colab": {
     "base_uri": "https://localhost:8080/",
     "height": 383
    },
    "id": "PMXeAWCZVnVm",
    "outputId": "4b05e2e2-5b85-4bf9-81dc-db45399e863c"
   },
   "outputs": [],
   "source": [
    "#Checking the distribution of windspeed column\n",
    "#sns.displot(x=\"windspeed\", data = df, kde = True)"
   ]
  },
  {
   "cell_type": "code",
   "execution_count": 29,
   "metadata": {
    "colab": {
     "base_uri": "https://localhost:8080/",
     "height": 357
    },
    "id": "JDptjeRmWTn3",
    "outputId": "dc10cb77-2f08-49cd-9657-d0061aa013ba"
   },
   "outputs": [],
   "source": [
    "#Checking the distribution of Total_booking column\n",
    "#sns.histplot(x=\"Total_booking\", data = df, kde = True)"
   ]
  },
  {
   "cell_type": "markdown",
   "metadata": {
    "id": "QRMq4NX4XV31"
   },
   "source": [
    "# Outlier detection and removal :\n",
    "As per the above distribution plots, the distribution of data is not a normal distribution, Hence we may use IQR method for Outlier removal"
   ]
  },
  {
   "cell_type": "markdown",
   "metadata": {
    "id": "ITXxrrqtLbls"
   },
   "source": [
    "Outlier detection and removal for windspeed column"
   ]
  },
  {
   "cell_type": "code",
   "execution_count": 30,
   "metadata": {
    "colab": {
     "base_uri": "https://localhost:8080/"
    },
    "id": "KQTltmXCWqm5",
    "outputId": "751fb16f-8fe8-4340-b48a-131db6ed9c72"
   },
   "outputs": [
    {
     "data": {
      "text/plain": [
       "9.996400000000001"
      ]
     },
     "execution_count": 30,
     "metadata": {},
     "output_type": "execute_result"
    }
   ],
   "source": [
    "Q1 = df['windspeed'].quantile(0.25)\n",
    "Q3 = df['windspeed'].quantile(0.75)\n",
    "IQR = Q3-Q1\n",
    "IQR\n"
   ]
  },
  {
   "cell_type": "code",
   "execution_count": 31,
   "metadata": {
    "colab": {
     "base_uri": "https://localhost:8080/"
    },
    "id": "OY2HHFX3X9jP",
    "outputId": "edec5c40-e0f2-4749-cf60-89661c8a6f3c"
   },
   "outputs": [
    {
     "data": {
      "text/plain": [
       "(-7.993100000000002, 31.992500000000003)"
      ]
     },
     "execution_count": 31,
     "metadata": {},
     "output_type": "execute_result"
    }
   ],
   "source": [
    "lower_limit = Q1-(1.5*IQR)\n",
    "upper_limit = Q3+(1.5*IQR)\n",
    "lower_limit,upper_limit"
   ]
  },
  {
   "cell_type": "code",
   "execution_count": 32,
   "metadata": {
    "colab": {
     "base_uri": "https://localhost:8080/",
     "height": 424
    },
    "id": "5VMuAVbtdIZS",
    "outputId": "0e81ec35-2575-49c8-ce10-1881d68ae7fd"
   },
   "outputs": [
    {
     "data": {
      "text/html": [
       "<div>\n",
       "<style scoped>\n",
       "    .dataframe tbody tr th:only-of-type {\n",
       "        vertical-align: middle;\n",
       "    }\n",
       "\n",
       "    .dataframe tbody tr th {\n",
       "        vertical-align: top;\n",
       "    }\n",
       "\n",
       "    .dataframe thead th {\n",
       "        text-align: right;\n",
       "    }\n",
       "</style>\n",
       "<table border=\"1\" class=\"dataframe\">\n",
       "  <thead>\n",
       "    <tr style=\"text-align: right;\">\n",
       "      <th></th>\n",
       "      <th>windspeed</th>\n",
       "    </tr>\n",
       "  </thead>\n",
       "  <tbody>\n",
       "    <tr>\n",
       "      <th>10</th>\n",
       "      <td>32.9975</td>\n",
       "    </tr>\n",
       "    <tr>\n",
       "      <th>32</th>\n",
       "      <td>32.9975</td>\n",
       "    </tr>\n",
       "    <tr>\n",
       "      <th>86</th>\n",
       "      <td>32.9975</td>\n",
       "    </tr>\n",
       "    <tr>\n",
       "      <th>105</th>\n",
       "      <td>36.9974</td>\n",
       "    </tr>\n",
       "    <tr>\n",
       "      <th>182</th>\n",
       "      <td>35.0008</td>\n",
       "    </tr>\n",
       "    <tr>\n",
       "      <th>...</th>\n",
       "      <td>...</td>\n",
       "    </tr>\n",
       "    <tr>\n",
       "      <th>8496</th>\n",
       "      <td>32.9975</td>\n",
       "    </tr>\n",
       "    <tr>\n",
       "      <th>8555</th>\n",
       "      <td>36.9974</td>\n",
       "    </tr>\n",
       "    <tr>\n",
       "      <th>8563</th>\n",
       "      <td>32.9975</td>\n",
       "    </tr>\n",
       "    <tr>\n",
       "      <th>8603</th>\n",
       "      <td>35.0008</td>\n",
       "    </tr>\n",
       "    <tr>\n",
       "      <th>8640</th>\n",
       "      <td>43.0006</td>\n",
       "    </tr>\n",
       "  </tbody>\n",
       "</table>\n",
       "<p>182 rows × 1 columns</p>\n",
       "</div>"
      ],
      "text/plain": [
       "      windspeed\n",
       "10      32.9975\n",
       "32      32.9975\n",
       "86      32.9975\n",
       "105     36.9974\n",
       "182     35.0008\n",
       "...         ...\n",
       "8496    32.9975\n",
       "8555    36.9974\n",
       "8563    32.9975\n",
       "8603    35.0008\n",
       "8640    43.0006\n",
       "\n",
       "[182 rows x 1 columns]"
      ]
     },
     "execution_count": 32,
     "metadata": {},
     "output_type": "execute_result"
    }
   ],
   "source": [
    "#Printing outliers in windspeed column\n",
    "df_windspeed = pd.DataFrame(df[(df['windspeed'] <= lower_limit) | (df['windspeed'] >= upper_limit)]['windspeed'])\n",
    "df_windspeed"
   ]
  },
  {
   "cell_type": "markdown",
   "metadata": {
    "id": "yZHiRaWogEEn"
   },
   "source": [
    "Inference : There are 182 Outliers in windspeed column"
   ]
  },
  {
   "cell_type": "code",
   "execution_count": 33,
   "metadata": {
    "colab": {
     "base_uri": "https://localhost:8080/",
     "height": 528
    },
    "id": "Bl4PPCqdY4OE",
    "outputId": "4cdd43f6-67cb-4d0e-e46f-5c659b514b4f"
   },
   "outputs": [
    {
     "data": {
      "text/html": [
       "<div>\n",
       "<style scoped>\n",
       "    .dataframe tbody tr th:only-of-type {\n",
       "        vertical-align: middle;\n",
       "    }\n",
       "\n",
       "    .dataframe tbody tr th {\n",
       "        vertical-align: top;\n",
       "    }\n",
       "\n",
       "    .dataframe thead th {\n",
       "        text-align: right;\n",
       "    }\n",
       "</style>\n",
       "<table border=\"1\" class=\"dataframe\">\n",
       "  <thead>\n",
       "    <tr style=\"text-align: right;\">\n",
       "      <th></th>\n",
       "      <th>season</th>\n",
       "      <th>holiday</th>\n",
       "      <th>workingday</th>\n",
       "      <th>weather</th>\n",
       "      <th>temp</th>\n",
       "      <th>atemp</th>\n",
       "      <th>humidity</th>\n",
       "      <th>windspeed</th>\n",
       "      <th>Total_booking</th>\n",
       "      <th>date</th>\n",
       "      <th>hour</th>\n",
       "      <th>weekDay</th>\n",
       "      <th>month</th>\n",
       "    </tr>\n",
       "  </thead>\n",
       "  <tbody>\n",
       "    <tr>\n",
       "      <th>0</th>\n",
       "      <td>Summer</td>\n",
       "      <td>0</td>\n",
       "      <td>1</td>\n",
       "      <td>Clear + Few clouds</td>\n",
       "      <td>22.14</td>\n",
       "      <td>25.760</td>\n",
       "      <td>77</td>\n",
       "      <td>16.9979</td>\n",
       "      <td>504</td>\n",
       "      <td>2012-05-02</td>\n",
       "      <td>19</td>\n",
       "      <td>Wednesday</td>\n",
       "      <td>May</td>\n",
       "    </tr>\n",
       "    <tr>\n",
       "      <th>1</th>\n",
       "      <td>Fall</td>\n",
       "      <td>0</td>\n",
       "      <td>1</td>\n",
       "      <td>Clear + Few clouds</td>\n",
       "      <td>28.70</td>\n",
       "      <td>33.335</td>\n",
       "      <td>79</td>\n",
       "      <td>19.0012</td>\n",
       "      <td>5</td>\n",
       "      <td>2012-09-05</td>\n",
       "      <td>4</td>\n",
       "      <td>Wednesday</td>\n",
       "      <td>September</td>\n",
       "    </tr>\n",
       "    <tr>\n",
       "      <th>2</th>\n",
       "      <td>Spring</td>\n",
       "      <td>0</td>\n",
       "      <td>1</td>\n",
       "      <td>Clear + Few clouds</td>\n",
       "      <td>5.74</td>\n",
       "      <td>6.060</td>\n",
       "      <td>50</td>\n",
       "      <td>22.0028</td>\n",
       "      <td>139</td>\n",
       "      <td>2011-01-13</td>\n",
       "      <td>9</td>\n",
       "      <td>Thursday</td>\n",
       "      <td>January</td>\n",
       "    </tr>\n",
       "    <tr>\n",
       "      <th>3</th>\n",
       "      <td>Winter</td>\n",
       "      <td>0</td>\n",
       "      <td>1</td>\n",
       "      <td>Clear + Few clouds</td>\n",
       "      <td>13.94</td>\n",
       "      <td>16.665</td>\n",
       "      <td>29</td>\n",
       "      <td>8.9981</td>\n",
       "      <td>209</td>\n",
       "      <td>2011-11-18</td>\n",
       "      <td>16</td>\n",
       "      <td>Friday</td>\n",
       "      <td>November</td>\n",
       "    </tr>\n",
       "    <tr>\n",
       "      <th>4</th>\n",
       "      <td>Fall</td>\n",
       "      <td>0</td>\n",
       "      <td>1</td>\n",
       "      <td>Clear + Few clouds</td>\n",
       "      <td>30.34</td>\n",
       "      <td>33.335</td>\n",
       "      <td>51</td>\n",
       "      <td>19.0012</td>\n",
       "      <td>184</td>\n",
       "      <td>2011-09-13</td>\n",
       "      <td>13</td>\n",
       "      <td>Tuesday</td>\n",
       "      <td>September</td>\n",
       "    </tr>\n",
       "    <tr>\n",
       "      <th>...</th>\n",
       "      <td>...</td>\n",
       "      <td>...</td>\n",
       "      <td>...</td>\n",
       "      <td>...</td>\n",
       "      <td>...</td>\n",
       "      <td>...</td>\n",
       "      <td>...</td>\n",
       "      <td>...</td>\n",
       "      <td>...</td>\n",
       "      <td>...</td>\n",
       "      <td>...</td>\n",
       "      <td>...</td>\n",
       "      <td>...</td>\n",
       "    </tr>\n",
       "    <tr>\n",
       "      <th>8703</th>\n",
       "      <td>Spring</td>\n",
       "      <td>1</td>\n",
       "      <td>0</td>\n",
       "      <td>Clear + Few clouds</td>\n",
       "      <td>4.10</td>\n",
       "      <td>6.820</td>\n",
       "      <td>54</td>\n",
       "      <td>6.0032</td>\n",
       "      <td>13</td>\n",
       "      <td>2012-01-16</td>\n",
       "      <td>6</td>\n",
       "      <td>Monday</td>\n",
       "      <td>January</td>\n",
       "    </tr>\n",
       "    <tr>\n",
       "      <th>8704</th>\n",
       "      <td>Winter</td>\n",
       "      <td>0</td>\n",
       "      <td>1</td>\n",
       "      <td>Mist + Cloudy</td>\n",
       "      <td>16.40</td>\n",
       "      <td>20.455</td>\n",
       "      <td>87</td>\n",
       "      <td>0.0000</td>\n",
       "      <td>11</td>\n",
       "      <td>2011-11-10</td>\n",
       "      <td>1</td>\n",
       "      <td>Thursday</td>\n",
       "      <td>November</td>\n",
       "    </tr>\n",
       "    <tr>\n",
       "      <th>8705</th>\n",
       "      <td>Summer</td>\n",
       "      <td>0</td>\n",
       "      <td>1</td>\n",
       "      <td>Mist + Cloudy</td>\n",
       "      <td>23.78</td>\n",
       "      <td>27.275</td>\n",
       "      <td>56</td>\n",
       "      <td>8.9981</td>\n",
       "      <td>1</td>\n",
       "      <td>2011-04-12</td>\n",
       "      <td>3</td>\n",
       "      <td>Tuesday</td>\n",
       "      <td>April</td>\n",
       "    </tr>\n",
       "    <tr>\n",
       "      <th>8706</th>\n",
       "      <td>Winter</td>\n",
       "      <td>0</td>\n",
       "      <td>1</td>\n",
       "      <td>Mist + Cloudy</td>\n",
       "      <td>11.48</td>\n",
       "      <td>13.635</td>\n",
       "      <td>61</td>\n",
       "      <td>16.9979</td>\n",
       "      <td>92</td>\n",
       "      <td>2012-11-07</td>\n",
       "      <td>1</td>\n",
       "      <td>Wednesday</td>\n",
       "      <td>November</td>\n",
       "    </tr>\n",
       "    <tr>\n",
       "      <th>8707</th>\n",
       "      <td>Spring</td>\n",
       "      <td>0</td>\n",
       "      <td>1</td>\n",
       "      <td>Mist + Cloudy</td>\n",
       "      <td>5.74</td>\n",
       "      <td>6.060</td>\n",
       "      <td>50</td>\n",
       "      <td>19.9995</td>\n",
       "      <td>31</td>\n",
       "      <td>2011-01-10</td>\n",
       "      <td>10</td>\n",
       "      <td>Monday</td>\n",
       "      <td>January</td>\n",
       "    </tr>\n",
       "  </tbody>\n",
       "</table>\n",
       "<p>8526 rows × 13 columns</p>\n",
       "</div>"
      ],
      "text/plain": [
       "      season holiday workingday              weather   temp   atemp  humidity  \\\n",
       "0     Summer       0          1   Clear + Few clouds  22.14  25.760        77   \n",
       "1       Fall       0          1   Clear + Few clouds  28.70  33.335        79   \n",
       "2     Spring       0          1   Clear + Few clouds   5.74   6.060        50   \n",
       "3     Winter       0          1   Clear + Few clouds  13.94  16.665        29   \n",
       "4       Fall       0          1   Clear + Few clouds  30.34  33.335        51   \n",
       "...      ...     ...        ...                  ...    ...     ...       ...   \n",
       "8703  Spring       1          0   Clear + Few clouds   4.10   6.820        54   \n",
       "8704  Winter       0          1       Mist + Cloudy   16.40  20.455        87   \n",
       "8705  Summer       0          1       Mist + Cloudy   23.78  27.275        56   \n",
       "8706  Winter       0          1       Mist + Cloudy   11.48  13.635        61   \n",
       "8707  Spring       0          1       Mist + Cloudy    5.74   6.060        50   \n",
       "\n",
       "      windspeed  Total_booking        date  hour    weekDay      month  \n",
       "0       16.9979            504  2012-05-02    19  Wednesday        May  \n",
       "1       19.0012              5  2012-09-05     4  Wednesday  September  \n",
       "2       22.0028            139  2011-01-13     9   Thursday    January  \n",
       "3        8.9981            209  2011-11-18    16     Friday   November  \n",
       "4       19.0012            184  2011-09-13    13    Tuesday  September  \n",
       "...         ...            ...         ...   ...        ...        ...  \n",
       "8703     6.0032             13  2012-01-16     6     Monday    January  \n",
       "8704     0.0000             11  2011-11-10     1   Thursday   November  \n",
       "8705     8.9981              1  2011-04-12     3    Tuesday      April  \n",
       "8706    16.9979             92  2012-11-07     1  Wednesday   November  \n",
       "8707    19.9995             31  2011-01-10    10     Monday    January  \n",
       "\n",
       "[8526 rows x 13 columns]"
      ]
     },
     "execution_count": 33,
     "metadata": {},
     "output_type": "execute_result"
    }
   ],
   "source": [
    "#data after removing outliers in windspeed column\n",
    "df1 = df[(df['windspeed'] >= lower_limit) & (df['windspeed'] <= upper_limit)]\n",
    "df1"
   ]
  },
  {
   "cell_type": "code",
   "execution_count": 34,
   "metadata": {
    "colab": {
     "base_uri": "https://localhost:8080/",
     "height": 357
    },
    "id": "I6sdbb_pbaDv",
    "outputId": "36082284-dad6-4e08-fe55-4b95cf6f2b4c"
   },
   "outputs": [
    {
     "data": {
      "text/plain": [
       "<AxesSubplot:xlabel='windspeed'>"
      ]
     },
     "execution_count": 34,
     "metadata": {},
     "output_type": "execute_result"
    },
    {
     "data": {
      "image/png": "[encoded data removed]",
      "text/plain": [
       "<Figure size 360x360 with 1 Axes>"
      ]
     },
     "metadata": {},
     "output_type": "display_data"
    }
   ],
   "source": [
    "#Boxplot for windspeed after removing outliers\n",
    "sns.set(rc={'figure.figsize':(5,5)})\n",
    "sns.boxplot(x=\"windspeed\",data=df1)"
   ]
  },
  {
   "cell_type": "markdown",
   "metadata": {
    "id": "vrMC3mXSeF3s"
   },
   "source": [
    "Outlier detection and removal for Total_booking column"
   ]
  },
  {
   "cell_type": "code",
   "execution_count": 35,
   "metadata": {
    "colab": {
     "base_uri": "https://localhost:8080/"
    },
    "id": "ugCd2-w5JSuv",
    "outputId": "8b974abe-3e42-441c-84aa-429d02b5e34a"
   },
   "outputs": [
    {
     "data": {
      "text/plain": [
       "243.0"
      ]
     },
     "execution_count": 35,
     "metadata": {},
     "output_type": "execute_result"
    }
   ],
   "source": [
    "Q1 = df1['Total_booking'].quantile(0.25)\n",
    "Q3 = df1['Total_booking'].quantile(0.75)\n",
    "IQR = Q3-Q1\n",
    "IQR"
   ]
  },
  {
   "cell_type": "code",
   "execution_count": 36,
   "metadata": {
    "colab": {
     "base_uri": "https://localhost:8080/"
    },
    "id": "z6fS5pJdeSIx",
    "outputId": "ba16f27e-860d-4e10-f29c-61d8924effba"
   },
   "outputs": [
    {
     "data": {
      "text/plain": [
       "(-321.5, 650.5)"
      ]
     },
     "execution_count": 36,
     "metadata": {},
     "output_type": "execute_result"
    }
   ],
   "source": [
    "lower_limit = Q1-(1.5*IQR)\n",
    "upper_limit = Q3+(1.5*IQR)\n",
    "lower_limit,upper_limit"
   ]
  },
  {
   "cell_type": "code",
   "execution_count": 37,
   "metadata": {
    "colab": {
     "base_uri": "https://localhost:8080/",
     "height": 424
    },
    "id": "_vkJ1g0oevDE",
    "outputId": "83e8811c-db34-4245-d62e-ac6d506d110e"
   },
   "outputs": [
    {
     "data": {
      "text/html": [
       "<div>\n",
       "<style scoped>\n",
       "    .dataframe tbody tr th:only-of-type {\n",
       "        vertical-align: middle;\n",
       "    }\n",
       "\n",
       "    .dataframe tbody tr th {\n",
       "        vertical-align: top;\n",
       "    }\n",
       "\n",
       "    .dataframe thead th {\n",
       "        text-align: right;\n",
       "    }\n",
       "</style>\n",
       "<table border=\"1\" class=\"dataframe\">\n",
       "  <thead>\n",
       "    <tr style=\"text-align: right;\">\n",
       "      <th></th>\n",
       "      <th>Total_booking</th>\n",
       "    </tr>\n",
       "  </thead>\n",
       "  <tbody>\n",
       "    <tr>\n",
       "      <th>5</th>\n",
       "      <td>791</td>\n",
       "    </tr>\n",
       "    <tr>\n",
       "      <th>27</th>\n",
       "      <td>813</td>\n",
       "    </tr>\n",
       "    <tr>\n",
       "      <th>30</th>\n",
       "      <td>872</td>\n",
       "    </tr>\n",
       "    <tr>\n",
       "      <th>52</th>\n",
       "      <td>790</td>\n",
       "    </tr>\n",
       "    <tr>\n",
       "      <th>70</th>\n",
       "      <td>669</td>\n",
       "    </tr>\n",
       "    <tr>\n",
       "      <th>...</th>\n",
       "      <td>...</td>\n",
       "    </tr>\n",
       "    <tr>\n",
       "      <th>8478</th>\n",
       "      <td>662</td>\n",
       "    </tr>\n",
       "    <tr>\n",
       "      <th>8582</th>\n",
       "      <td>737</td>\n",
       "    </tr>\n",
       "    <tr>\n",
       "      <th>8676</th>\n",
       "      <td>659</td>\n",
       "    </tr>\n",
       "    <tr>\n",
       "      <th>8681</th>\n",
       "      <td>858</td>\n",
       "    </tr>\n",
       "    <tr>\n",
       "      <th>8695</th>\n",
       "      <td>827</td>\n",
       "    </tr>\n",
       "  </tbody>\n",
       "</table>\n",
       "<p>235 rows × 1 columns</p>\n",
       "</div>"
      ],
      "text/plain": [
       "      Total_booking\n",
       "5               791\n",
       "27              813\n",
       "30              872\n",
       "52              790\n",
       "70              669\n",
       "...             ...\n",
       "8478            662\n",
       "8582            737\n",
       "8676            659\n",
       "8681            858\n",
       "8695            827\n",
       "\n",
       "[235 rows x 1 columns]"
      ]
     },
     "execution_count": 37,
     "metadata": {},
     "output_type": "execute_result"
    }
   ],
   "source": [
    "#Printing Outliers in Total_booking column\n",
    "df_totalbooking = pd.DataFrame(df1[(df1['Total_booking']<=lower_limit)|(df1['Total_booking']>=upper_limit)]['Total_booking'])\n",
    "df_totalbooking"
   ]
  },
  {
   "cell_type": "markdown",
   "metadata": {
    "id": "IHvMzb9lgKX3"
   },
   "source": [
    "There are 235 Outliers in Total_booking column"
   ]
  },
  {
   "cell_type": "code",
   "execution_count": 38,
   "metadata": {
    "colab": {
     "base_uri": "https://localhost:8080/",
     "height": 528
    },
    "id": "aCkMb8jZe7is",
    "outputId": "7ceec64f-b32f-42a9-c14b-cedebbd22034"
   },
   "outputs": [
    {
     "data": {
      "text/html": [
       "<div>\n",
       "<style scoped>\n",
       "    .dataframe tbody tr th:only-of-type {\n",
       "        vertical-align: middle;\n",
       "    }\n",
       "\n",
       "    .dataframe tbody tr th {\n",
       "        vertical-align: top;\n",
       "    }\n",
       "\n",
       "    .dataframe thead th {\n",
       "        text-align: right;\n",
       "    }\n",
       "</style>\n",
       "<table border=\"1\" class=\"dataframe\">\n",
       "  <thead>\n",
       "    <tr style=\"text-align: right;\">\n",
       "      <th></th>\n",
       "      <th>season</th>\n",
       "      <th>holiday</th>\n",
       "      <th>workingday</th>\n",
       "      <th>weather</th>\n",
       "      <th>temp</th>\n",
       "      <th>atemp</th>\n",
       "      <th>humidity</th>\n",
       "      <th>windspeed</th>\n",
       "      <th>Total_booking</th>\n",
       "      <th>date</th>\n",
       "      <th>hour</th>\n",
       "      <th>weekDay</th>\n",
       "      <th>month</th>\n",
       "    </tr>\n",
       "  </thead>\n",
       "  <tbody>\n",
       "    <tr>\n",
       "      <th>0</th>\n",
       "      <td>Summer</td>\n",
       "      <td>0</td>\n",
       "      <td>1</td>\n",
       "      <td>Clear + Few clouds</td>\n",
       "      <td>22.14</td>\n",
       "      <td>25.760</td>\n",
       "      <td>77</td>\n",
       "      <td>16.9979</td>\n",
       "      <td>504</td>\n",
       "      <td>2012-05-02</td>\n",
       "      <td>19</td>\n",
       "      <td>Wednesday</td>\n",
       "      <td>May</td>\n",
       "    </tr>\n",
       "    <tr>\n",
       "      <th>1</th>\n",
       "      <td>Fall</td>\n",
       "      <td>0</td>\n",
       "      <td>1</td>\n",
       "      <td>Clear + Few clouds</td>\n",
       "      <td>28.70</td>\n",
       "      <td>33.335</td>\n",
       "      <td>79</td>\n",
       "      <td>19.0012</td>\n",
       "      <td>5</td>\n",
       "      <td>2012-09-05</td>\n",
       "      <td>4</td>\n",
       "      <td>Wednesday</td>\n",
       "      <td>September</td>\n",
       "    </tr>\n",
       "    <tr>\n",
       "      <th>2</th>\n",
       "      <td>Spring</td>\n",
       "      <td>0</td>\n",
       "      <td>1</td>\n",
       "      <td>Clear + Few clouds</td>\n",
       "      <td>5.74</td>\n",
       "      <td>6.060</td>\n",
       "      <td>50</td>\n",
       "      <td>22.0028</td>\n",
       "      <td>139</td>\n",
       "      <td>2011-01-13</td>\n",
       "      <td>9</td>\n",
       "      <td>Thursday</td>\n",
       "      <td>January</td>\n",
       "    </tr>\n",
       "    <tr>\n",
       "      <th>3</th>\n",
       "      <td>Winter</td>\n",
       "      <td>0</td>\n",
       "      <td>1</td>\n",
       "      <td>Clear + Few clouds</td>\n",
       "      <td>13.94</td>\n",
       "      <td>16.665</td>\n",
       "      <td>29</td>\n",
       "      <td>8.9981</td>\n",
       "      <td>209</td>\n",
       "      <td>2011-11-18</td>\n",
       "      <td>16</td>\n",
       "      <td>Friday</td>\n",
       "      <td>November</td>\n",
       "    </tr>\n",
       "    <tr>\n",
       "      <th>4</th>\n",
       "      <td>Fall</td>\n",
       "      <td>0</td>\n",
       "      <td>1</td>\n",
       "      <td>Clear + Few clouds</td>\n",
       "      <td>30.34</td>\n",
       "      <td>33.335</td>\n",
       "      <td>51</td>\n",
       "      <td>19.0012</td>\n",
       "      <td>184</td>\n",
       "      <td>2011-09-13</td>\n",
       "      <td>13</td>\n",
       "      <td>Tuesday</td>\n",
       "      <td>September</td>\n",
       "    </tr>\n",
       "    <tr>\n",
       "      <th>...</th>\n",
       "      <td>...</td>\n",
       "      <td>...</td>\n",
       "      <td>...</td>\n",
       "      <td>...</td>\n",
       "      <td>...</td>\n",
       "      <td>...</td>\n",
       "      <td>...</td>\n",
       "      <td>...</td>\n",
       "      <td>...</td>\n",
       "      <td>...</td>\n",
       "      <td>...</td>\n",
       "      <td>...</td>\n",
       "      <td>...</td>\n",
       "    </tr>\n",
       "    <tr>\n",
       "      <th>8703</th>\n",
       "      <td>Spring</td>\n",
       "      <td>1</td>\n",
       "      <td>0</td>\n",
       "      <td>Clear + Few clouds</td>\n",
       "      <td>4.10</td>\n",
       "      <td>6.820</td>\n",
       "      <td>54</td>\n",
       "      <td>6.0032</td>\n",
       "      <td>13</td>\n",
       "      <td>2012-01-16</td>\n",
       "      <td>6</td>\n",
       "      <td>Monday</td>\n",
       "      <td>January</td>\n",
       "    </tr>\n",
       "    <tr>\n",
       "      <th>8704</th>\n",
       "      <td>Winter</td>\n",
       "      <td>0</td>\n",
       "      <td>1</td>\n",
       "      <td>Mist + Cloudy</td>\n",
       "      <td>16.40</td>\n",
       "      <td>20.455</td>\n",
       "      <td>87</td>\n",
       "      <td>0.0000</td>\n",
       "      <td>11</td>\n",
       "      <td>2011-11-10</td>\n",
       "      <td>1</td>\n",
       "      <td>Thursday</td>\n",
       "      <td>November</td>\n",
       "    </tr>\n",
       "    <tr>\n",
       "      <th>8705</th>\n",
       "      <td>Summer</td>\n",
       "      <td>0</td>\n",
       "      <td>1</td>\n",
       "      <td>Mist + Cloudy</td>\n",
       "      <td>23.78</td>\n",
       "      <td>27.275</td>\n",
       "      <td>56</td>\n",
       "      <td>8.9981</td>\n",
       "      <td>1</td>\n",
       "      <td>2011-04-12</td>\n",
       "      <td>3</td>\n",
       "      <td>Tuesday</td>\n",
       "      <td>April</td>\n",
       "    </tr>\n",
       "    <tr>\n",
       "      <th>8706</th>\n",
       "      <td>Winter</td>\n",
       "      <td>0</td>\n",
       "      <td>1</td>\n",
       "      <td>Mist + Cloudy</td>\n",
       "      <td>11.48</td>\n",
       "      <td>13.635</td>\n",
       "      <td>61</td>\n",
       "      <td>16.9979</td>\n",
       "      <td>92</td>\n",
       "      <td>2012-11-07</td>\n",
       "      <td>1</td>\n",
       "      <td>Wednesday</td>\n",
       "      <td>November</td>\n",
       "    </tr>\n",
       "    <tr>\n",
       "      <th>8707</th>\n",
       "      <td>Spring</td>\n",
       "      <td>0</td>\n",
       "      <td>1</td>\n",
       "      <td>Mist + Cloudy</td>\n",
       "      <td>5.74</td>\n",
       "      <td>6.060</td>\n",
       "      <td>50</td>\n",
       "      <td>19.9995</td>\n",
       "      <td>31</td>\n",
       "      <td>2011-01-10</td>\n",
       "      <td>10</td>\n",
       "      <td>Monday</td>\n",
       "      <td>January</td>\n",
       "    </tr>\n",
       "  </tbody>\n",
       "</table>\n",
       "<p>8291 rows × 13 columns</p>\n",
       "</div>"
      ],
      "text/plain": [
       "      season holiday workingday              weather   temp   atemp  humidity  \\\n",
       "0     Summer       0          1   Clear + Few clouds  22.14  25.760        77   \n",
       "1       Fall       0          1   Clear + Few clouds  28.70  33.335        79   \n",
       "2     Spring       0          1   Clear + Few clouds   5.74   6.060        50   \n",
       "3     Winter       0          1   Clear + Few clouds  13.94  16.665        29   \n",
       "4       Fall       0          1   Clear + Few clouds  30.34  33.335        51   \n",
       "...      ...     ...        ...                  ...    ...     ...       ...   \n",
       "8703  Spring       1          0   Clear + Few clouds   4.10   6.820        54   \n",
       "8704  Winter       0          1       Mist + Cloudy   16.40  20.455        87   \n",
       "8705  Summer       0          1       Mist + Cloudy   23.78  27.275        56   \n",
       "8706  Winter       0          1       Mist + Cloudy   11.48  13.635        61   \n",
       "8707  Spring       0          1       Mist + Cloudy    5.74   6.060        50   \n",
       "\n",
       "      windspeed  Total_booking        date  hour    weekDay      month  \n",
       "0       16.9979            504  2012-05-02    19  Wednesday        May  \n",
       "1       19.0012              5  2012-09-05     4  Wednesday  September  \n",
       "2       22.0028            139  2011-01-13     9   Thursday    January  \n",
       "3        8.9981            209  2011-11-18    16     Friday   November  \n",
       "4       19.0012            184  2011-09-13    13    Tuesday  September  \n",
       "...         ...            ...         ...   ...        ...        ...  \n",
       "8703     6.0032             13  2012-01-16     6     Monday    January  \n",
       "8704     0.0000             11  2011-11-10     1   Thursday   November  \n",
       "8705     8.9981              1  2011-04-12     3    Tuesday      April  \n",
       "8706    16.9979             92  2012-11-07     1  Wednesday   November  \n",
       "8707    19.9995             31  2011-01-10    10     Monday    January  \n",
       "\n",
       "[8291 rows x 13 columns]"
      ]
     },
     "execution_count": 38,
     "metadata": {},
     "output_type": "execute_result"
    }
   ],
   "source": [
    "#data after removal of outliers in Total_booking column\n",
    "df2 = df1[(df1['Total_booking']>=lower_limit)&(df1['Total_booking']<=upper_limit)]\n",
    "df2"
   ]
  },
  {
   "cell_type": "code",
   "execution_count": 39,
   "metadata": {
    "colab": {
     "base_uri": "https://localhost:8080/",
     "height": 528
    },
    "id": "0mkG0WTWfkb2",
    "outputId": "05bcca5f-d7f6-43ca-ace7-28825c8a1b38"
   },
   "outputs": [
    {
     "data": {
      "text/html": [
       "<div>\n",
       "<style scoped>\n",
       "    .dataframe tbody tr th:only-of-type {\n",
       "        vertical-align: middle;\n",
       "    }\n",
       "\n",
       "    .dataframe tbody tr th {\n",
       "        vertical-align: top;\n",
       "    }\n",
       "\n",
       "    .dataframe thead th {\n",
       "        text-align: right;\n",
       "    }\n",
       "</style>\n",
       "<table border=\"1\" class=\"dataframe\">\n",
       "  <thead>\n",
       "    <tr style=\"text-align: right;\">\n",
       "      <th></th>\n",
       "      <th>season</th>\n",
       "      <th>holiday</th>\n",
       "      <th>workingday</th>\n",
       "      <th>weather</th>\n",
       "      <th>temp</th>\n",
       "      <th>atemp</th>\n",
       "      <th>humidity</th>\n",
       "      <th>windspeed</th>\n",
       "      <th>Total_booking</th>\n",
       "      <th>date</th>\n",
       "      <th>hour</th>\n",
       "      <th>weekDay</th>\n",
       "      <th>month</th>\n",
       "    </tr>\n",
       "  </thead>\n",
       "  <tbody>\n",
       "    <tr>\n",
       "      <th>0</th>\n",
       "      <td>Summer</td>\n",
       "      <td>0</td>\n",
       "      <td>1</td>\n",
       "      <td>Clear + Few clouds</td>\n",
       "      <td>22.14</td>\n",
       "      <td>25.760</td>\n",
       "      <td>77</td>\n",
       "      <td>16.9979</td>\n",
       "      <td>504</td>\n",
       "      <td>2012-05-02</td>\n",
       "      <td>19</td>\n",
       "      <td>Wednesday</td>\n",
       "      <td>May</td>\n",
       "    </tr>\n",
       "    <tr>\n",
       "      <th>1</th>\n",
       "      <td>Fall</td>\n",
       "      <td>0</td>\n",
       "      <td>1</td>\n",
       "      <td>Clear + Few clouds</td>\n",
       "      <td>28.70</td>\n",
       "      <td>33.335</td>\n",
       "      <td>79</td>\n",
       "      <td>19.0012</td>\n",
       "      <td>5</td>\n",
       "      <td>2012-09-05</td>\n",
       "      <td>4</td>\n",
       "      <td>Wednesday</td>\n",
       "      <td>September</td>\n",
       "    </tr>\n",
       "    <tr>\n",
       "      <th>2</th>\n",
       "      <td>Spring</td>\n",
       "      <td>0</td>\n",
       "      <td>1</td>\n",
       "      <td>Clear + Few clouds</td>\n",
       "      <td>5.74</td>\n",
       "      <td>6.060</td>\n",
       "      <td>50</td>\n",
       "      <td>22.0028</td>\n",
       "      <td>139</td>\n",
       "      <td>2011-01-13</td>\n",
       "      <td>9</td>\n",
       "      <td>Thursday</td>\n",
       "      <td>January</td>\n",
       "    </tr>\n",
       "    <tr>\n",
       "      <th>3</th>\n",
       "      <td>Winter</td>\n",
       "      <td>0</td>\n",
       "      <td>1</td>\n",
       "      <td>Clear + Few clouds</td>\n",
       "      <td>13.94</td>\n",
       "      <td>16.665</td>\n",
       "      <td>29</td>\n",
       "      <td>8.9981</td>\n",
       "      <td>209</td>\n",
       "      <td>2011-11-18</td>\n",
       "      <td>16</td>\n",
       "      <td>Friday</td>\n",
       "      <td>November</td>\n",
       "    </tr>\n",
       "    <tr>\n",
       "      <th>4</th>\n",
       "      <td>Fall</td>\n",
       "      <td>0</td>\n",
       "      <td>1</td>\n",
       "      <td>Clear + Few clouds</td>\n",
       "      <td>30.34</td>\n",
       "      <td>33.335</td>\n",
       "      <td>51</td>\n",
       "      <td>19.0012</td>\n",
       "      <td>184</td>\n",
       "      <td>2011-09-13</td>\n",
       "      <td>13</td>\n",
       "      <td>Tuesday</td>\n",
       "      <td>September</td>\n",
       "    </tr>\n",
       "    <tr>\n",
       "      <th>...</th>\n",
       "      <td>...</td>\n",
       "      <td>...</td>\n",
       "      <td>...</td>\n",
       "      <td>...</td>\n",
       "      <td>...</td>\n",
       "      <td>...</td>\n",
       "      <td>...</td>\n",
       "      <td>...</td>\n",
       "      <td>...</td>\n",
       "      <td>...</td>\n",
       "      <td>...</td>\n",
       "      <td>...</td>\n",
       "      <td>...</td>\n",
       "    </tr>\n",
       "    <tr>\n",
       "      <th>8703</th>\n",
       "      <td>Spring</td>\n",
       "      <td>1</td>\n",
       "      <td>0</td>\n",
       "      <td>Clear + Few clouds</td>\n",
       "      <td>4.10</td>\n",
       "      <td>6.820</td>\n",
       "      <td>54</td>\n",
       "      <td>6.0032</td>\n",
       "      <td>13</td>\n",
       "      <td>2012-01-16</td>\n",
       "      <td>6</td>\n",
       "      <td>Monday</td>\n",
       "      <td>January</td>\n",
       "    </tr>\n",
       "    <tr>\n",
       "      <th>8704</th>\n",
       "      <td>Winter</td>\n",
       "      <td>0</td>\n",
       "      <td>1</td>\n",
       "      <td>Mist + Cloudy</td>\n",
       "      <td>16.40</td>\n",
       "      <td>20.455</td>\n",
       "      <td>87</td>\n",
       "      <td>0.0000</td>\n",
       "      <td>11</td>\n",
       "      <td>2011-11-10</td>\n",
       "      <td>1</td>\n",
       "      <td>Thursday</td>\n",
       "      <td>November</td>\n",
       "    </tr>\n",
       "    <tr>\n",
       "      <th>8705</th>\n",
       "      <td>Summer</td>\n",
       "      <td>0</td>\n",
       "      <td>1</td>\n",
       "      <td>Mist + Cloudy</td>\n",
       "      <td>23.78</td>\n",
       "      <td>27.275</td>\n",
       "      <td>56</td>\n",
       "      <td>8.9981</td>\n",
       "      <td>1</td>\n",
       "      <td>2011-04-12</td>\n",
       "      <td>3</td>\n",
       "      <td>Tuesday</td>\n",
       "      <td>April</td>\n",
       "    </tr>\n",
       "    <tr>\n",
       "      <th>8706</th>\n",
       "      <td>Winter</td>\n",
       "      <td>0</td>\n",
       "      <td>1</td>\n",
       "      <td>Mist + Cloudy</td>\n",
       "      <td>11.48</td>\n",
       "      <td>13.635</td>\n",
       "      <td>61</td>\n",
       "      <td>16.9979</td>\n",
       "      <td>92</td>\n",
       "      <td>2012-11-07</td>\n",
       "      <td>1</td>\n",
       "      <td>Wednesday</td>\n",
       "      <td>November</td>\n",
       "    </tr>\n",
       "    <tr>\n",
       "      <th>8707</th>\n",
       "      <td>Spring</td>\n",
       "      <td>0</td>\n",
       "      <td>1</td>\n",
       "      <td>Mist + Cloudy</td>\n",
       "      <td>5.74</td>\n",
       "      <td>6.060</td>\n",
       "      <td>50</td>\n",
       "      <td>19.9995</td>\n",
       "      <td>31</td>\n",
       "      <td>2011-01-10</td>\n",
       "      <td>10</td>\n",
       "      <td>Monday</td>\n",
       "      <td>January</td>\n",
       "    </tr>\n",
       "  </tbody>\n",
       "</table>\n",
       "<p>8291 rows × 13 columns</p>\n",
       "</div>"
      ],
      "text/plain": [
       "      season holiday workingday              weather   temp   atemp  humidity  \\\n",
       "0     Summer       0          1   Clear + Few clouds  22.14  25.760        77   \n",
       "1       Fall       0          1   Clear + Few clouds  28.70  33.335        79   \n",
       "2     Spring       0          1   Clear + Few clouds   5.74   6.060        50   \n",
       "3     Winter       0          1   Clear + Few clouds  13.94  16.665        29   \n",
       "4       Fall       0          1   Clear + Few clouds  30.34  33.335        51   \n",
       "...      ...     ...        ...                  ...    ...     ...       ...   \n",
       "8703  Spring       1          0   Clear + Few clouds   4.10   6.820        54   \n",
       "8704  Winter       0          1       Mist + Cloudy   16.40  20.455        87   \n",
       "8705  Summer       0          1       Mist + Cloudy   23.78  27.275        56   \n",
       "8706  Winter       0          1       Mist + Cloudy   11.48  13.635        61   \n",
       "8707  Spring       0          1       Mist + Cloudy    5.74   6.060        50   \n",
       "\n",
       "      windspeed  Total_booking        date  hour    weekDay      month  \n",
       "0       16.9979            504  2012-05-02    19  Wednesday        May  \n",
       "1       19.0012              5  2012-09-05     4  Wednesday  September  \n",
       "2       22.0028            139  2011-01-13     9   Thursday    January  \n",
       "3        8.9981            209  2011-11-18    16     Friday   November  \n",
       "4       19.0012            184  2011-09-13    13    Tuesday  September  \n",
       "...         ...            ...         ...   ...        ...        ...  \n",
       "8703     6.0032             13  2012-01-16     6     Monday    January  \n",
       "8704     0.0000             11  2011-11-10     1   Thursday   November  \n",
       "8705     8.9981              1  2011-04-12     3    Tuesday      April  \n",
       "8706    16.9979             92  2012-11-07     1  Wednesday   November  \n",
       "8707    19.9995             31  2011-01-10    10     Monday    January  \n",
       "\n",
       "[8291 rows x 13 columns]"
      ]
     },
     "execution_count": 39,
     "metadata": {},
     "output_type": "execute_result"
    }
   ],
   "source": [
    "new_df = pd.DataFrame(df2)\n",
    "new_df"
   ]
  },
  {
   "cell_type": "markdown",
   "metadata": {
    "id": "ziXgADjILx2d"
   },
   "source": [
    "# Correlation Analysis :"
   ]
  },
  {
   "cell_type": "code",
   "execution_count": 40,
   "metadata": {
    "id": "W3RxkWyr1xmu"
   },
   "outputs": [],
   "source": [
    "#Check correlation between the features\n",
    "corr = new_df[[\"Total_booking\",\"temp\",\"atemp\",\"humidity\",\"windspeed\"]].corr()"
   ]
  },
  {
   "cell_type": "code",
   "execution_count": 41,
   "metadata": {
    "colab": {
     "base_uri": "https://localhost:8080/",
     "height": 206
    },
    "id": "GLvQ8okL19rY",
    "outputId": "3a20233b-a1de-4ce0-a778-d100f46f9e79"
   },
   "outputs": [
    {
     "data": {
      "text/html": [
       "<div>\n",
       "<style scoped>\n",
       "    .dataframe tbody tr th:only-of-type {\n",
       "        vertical-align: middle;\n",
       "    }\n",
       "\n",
       "    .dataframe tbody tr th {\n",
       "        vertical-align: top;\n",
       "    }\n",
       "\n",
       "    .dataframe thead th {\n",
       "        text-align: right;\n",
       "    }\n",
       "</style>\n",
       "<table border=\"1\" class=\"dataframe\">\n",
       "  <thead>\n",
       "    <tr style=\"text-align: right;\">\n",
       "      <th></th>\n",
       "      <th>Total_booking</th>\n",
       "      <th>temp</th>\n",
       "      <th>atemp</th>\n",
       "      <th>humidity</th>\n",
       "      <th>windspeed</th>\n",
       "    </tr>\n",
       "  </thead>\n",
       "  <tbody>\n",
       "    <tr>\n",
       "      <th>Total_booking</th>\n",
       "      <td>1.000000</td>\n",
       "      <td>0.386336</td>\n",
       "      <td>0.383333</td>\n",
       "      <td>-0.318384</td>\n",
       "      <td>0.117670</td>\n",
       "    </tr>\n",
       "    <tr>\n",
       "      <th>temp</th>\n",
       "      <td>0.386336</td>\n",
       "      <td>1.000000</td>\n",
       "      <td>0.985352</td>\n",
       "      <td>-0.059516</td>\n",
       "      <td>-0.012856</td>\n",
       "    </tr>\n",
       "    <tr>\n",
       "      <th>atemp</th>\n",
       "      <td>0.383333</td>\n",
       "      <td>0.985352</td>\n",
       "      <td>1.000000</td>\n",
       "      <td>-0.039574</td>\n",
       "      <td>-0.052472</td>\n",
       "    </tr>\n",
       "    <tr>\n",
       "      <th>humidity</th>\n",
       "      <td>-0.318384</td>\n",
       "      <td>-0.059516</td>\n",
       "      <td>-0.039574</td>\n",
       "      <td>1.000000</td>\n",
       "      <td>-0.301955</td>\n",
       "    </tr>\n",
       "    <tr>\n",
       "      <th>windspeed</th>\n",
       "      <td>0.117670</td>\n",
       "      <td>-0.012856</td>\n",
       "      <td>-0.052472</td>\n",
       "      <td>-0.301955</td>\n",
       "      <td>1.000000</td>\n",
       "    </tr>\n",
       "  </tbody>\n",
       "</table>\n",
       "</div>"
      ],
      "text/plain": [
       "               Total_booking      temp     atemp  humidity  windspeed\n",
       "Total_booking       1.000000  0.386336  0.383333 -0.318384   0.117670\n",
       "temp                0.386336  1.000000  0.985352 -0.059516  -0.012856\n",
       "atemp               0.383333  0.985352  1.000000 -0.039574  -0.052472\n",
       "humidity           -0.318384 -0.059516 -0.039574  1.000000  -0.301955\n",
       "windspeed           0.117670 -0.012856 -0.052472 -0.301955   1.000000"
      ]
     },
     "execution_count": 41,
     "metadata": {},
     "output_type": "execute_result"
    }
   ],
   "source": [
    "#Print correlation matrix\n",
    "corr"
   ]
  },
  {
   "cell_type": "code",
   "execution_count": 42,
   "metadata": {
    "colab": {
     "base_uri": "https://localhost:8080/",
     "height": 596
    },
    "id": "PmMVuYtn2F2G",
    "outputId": "8306a3e4-fc86-4236-f67a-8b31ee3f30b4"
   },
   "outputs": [
    {
     "data": {
      "text/plain": [
       "<AxesSubplot:title={'center':'Correlation between features'}>"
      ]
     },
     "execution_count": 42,
     "metadata": {},
     "output_type": "execute_result"
    },
    {
     "data": {
      "image/png": "[encoded data removed]",
      "text/plain": [
       "<Figure size 720x720 with 2 Axes>"
      ]
     },
     "metadata": {},
     "output_type": "display_data"
    }
   ],
   "source": [
    "#Correlation heatmap\n",
    "plt.figure(figsize=(10,10))\n",
    "plt.title('Correlation between features');\n",
    "sns.heatmap(corr, square=True, annot=True, cmap=\"YlGnBu\")"
   ]
  },
  {
   "cell_type": "markdown",
   "metadata": {
    "id": "jt2BPEKM4kD1"
   },
   "source": [
    "Inference : From the above correlation heatmap, we can observe that temp and atemp are highly correlated. Hence, we can drop anyone among them from the dataset."
   ]
  },
  {
   "cell_type": "code",
   "execution_count": 43,
   "metadata": {
    "id": "nmcdUQuUCHK5"
   },
   "outputs": [],
   "source": [
    "new_df = new_df.drop('atemp', axis=1)"
   ]
  },
  {
   "cell_type": "code",
   "execution_count": 44,
   "metadata": {
    "colab": {
     "base_uri": "https://localhost:8080/",
     "height": 424
    },
    "id": "AvbkO5RrCUw3",
    "outputId": "3bb60da3-fde3-4dc9-eccf-7bca04a0ad96"
   },
   "outputs": [
    {
     "data": {
      "text/html": [
       "<div>\n",
       "<style scoped>\n",
       "    .dataframe tbody tr th:only-of-type {\n",
       "        vertical-align: middle;\n",
       "    }\n",
       "\n",
       "    .dataframe tbody tr th {\n",
       "        vertical-align: top;\n",
       "    }\n",
       "\n",
       "    .dataframe thead th {\n",
       "        text-align: right;\n",
       "    }\n",
       "</style>\n",
       "<table border=\"1\" class=\"dataframe\">\n",
       "  <thead>\n",
       "    <tr style=\"text-align: right;\">\n",
       "      <th></th>\n",
       "      <th>season</th>\n",
       "      <th>holiday</th>\n",
       "      <th>workingday</th>\n",
       "      <th>weather</th>\n",
       "      <th>temp</th>\n",
       "      <th>humidity</th>\n",
       "      <th>windspeed</th>\n",
       "      <th>Total_booking</th>\n",
       "      <th>date</th>\n",
       "      <th>hour</th>\n",
       "      <th>weekDay</th>\n",
       "      <th>month</th>\n",
       "    </tr>\n",
       "  </thead>\n",
       "  <tbody>\n",
       "    <tr>\n",
       "      <th>0</th>\n",
       "      <td>Summer</td>\n",
       "      <td>0</td>\n",
       "      <td>1</td>\n",
       "      <td>Clear + Few clouds</td>\n",
       "      <td>22.14</td>\n",
       "      <td>77</td>\n",
       "      <td>16.9979</td>\n",
       "      <td>504</td>\n",
       "      <td>2012-05-02</td>\n",
       "      <td>19</td>\n",
       "      <td>Wednesday</td>\n",
       "      <td>May</td>\n",
       "    </tr>\n",
       "    <tr>\n",
       "      <th>1</th>\n",
       "      <td>Fall</td>\n",
       "      <td>0</td>\n",
       "      <td>1</td>\n",
       "      <td>Clear + Few clouds</td>\n",
       "      <td>28.70</td>\n",
       "      <td>79</td>\n",
       "      <td>19.0012</td>\n",
       "      <td>5</td>\n",
       "      <td>2012-09-05</td>\n",
       "      <td>4</td>\n",
       "      <td>Wednesday</td>\n",
       "      <td>September</td>\n",
       "    </tr>\n",
       "    <tr>\n",
       "      <th>2</th>\n",
       "      <td>Spring</td>\n",
       "      <td>0</td>\n",
       "      <td>1</td>\n",
       "      <td>Clear + Few clouds</td>\n",
       "      <td>5.74</td>\n",
       "      <td>50</td>\n",
       "      <td>22.0028</td>\n",
       "      <td>139</td>\n",
       "      <td>2011-01-13</td>\n",
       "      <td>9</td>\n",
       "      <td>Thursday</td>\n",
       "      <td>January</td>\n",
       "    </tr>\n",
       "    <tr>\n",
       "      <th>3</th>\n",
       "      <td>Winter</td>\n",
       "      <td>0</td>\n",
       "      <td>1</td>\n",
       "      <td>Clear + Few clouds</td>\n",
       "      <td>13.94</td>\n",
       "      <td>29</td>\n",
       "      <td>8.9981</td>\n",
       "      <td>209</td>\n",
       "      <td>2011-11-18</td>\n",
       "      <td>16</td>\n",
       "      <td>Friday</td>\n",
       "      <td>November</td>\n",
       "    </tr>\n",
       "    <tr>\n",
       "      <th>4</th>\n",
       "      <td>Fall</td>\n",
       "      <td>0</td>\n",
       "      <td>1</td>\n",
       "      <td>Clear + Few clouds</td>\n",
       "      <td>30.34</td>\n",
       "      <td>51</td>\n",
       "      <td>19.0012</td>\n",
       "      <td>184</td>\n",
       "      <td>2011-09-13</td>\n",
       "      <td>13</td>\n",
       "      <td>Tuesday</td>\n",
       "      <td>September</td>\n",
       "    </tr>\n",
       "    <tr>\n",
       "      <th>...</th>\n",
       "      <td>...</td>\n",
       "      <td>...</td>\n",
       "      <td>...</td>\n",
       "      <td>...</td>\n",
       "      <td>...</td>\n",
       "      <td>...</td>\n",
       "      <td>...</td>\n",
       "      <td>...</td>\n",
       "      <td>...</td>\n",
       "      <td>...</td>\n",
       "      <td>...</td>\n",
       "      <td>...</td>\n",
       "    </tr>\n",
       "    <tr>\n",
       "      <th>8703</th>\n",
       "      <td>Spring</td>\n",
       "      <td>1</td>\n",
       "      <td>0</td>\n",
       "      <td>Clear + Few clouds</td>\n",
       "      <td>4.10</td>\n",
       "      <td>54</td>\n",
       "      <td>6.0032</td>\n",
       "      <td>13</td>\n",
       "      <td>2012-01-16</td>\n",
       "      <td>6</td>\n",
       "      <td>Monday</td>\n",
       "      <td>January</td>\n",
       "    </tr>\n",
       "    <tr>\n",
       "      <th>8704</th>\n",
       "      <td>Winter</td>\n",
       "      <td>0</td>\n",
       "      <td>1</td>\n",
       "      <td>Mist + Cloudy</td>\n",
       "      <td>16.40</td>\n",
       "      <td>87</td>\n",
       "      <td>0.0000</td>\n",
       "      <td>11</td>\n",
       "      <td>2011-11-10</td>\n",
       "      <td>1</td>\n",
       "      <td>Thursday</td>\n",
       "      <td>November</td>\n",
       "    </tr>\n",
       "    <tr>\n",
       "      <th>8705</th>\n",
       "      <td>Summer</td>\n",
       "      <td>0</td>\n",
       "      <td>1</td>\n",
       "      <td>Mist + Cloudy</td>\n",
       "      <td>23.78</td>\n",
       "      <td>56</td>\n",
       "      <td>8.9981</td>\n",
       "      <td>1</td>\n",
       "      <td>2011-04-12</td>\n",
       "      <td>3</td>\n",
       "      <td>Tuesday</td>\n",
       "      <td>April</td>\n",
       "    </tr>\n",
       "    <tr>\n",
       "      <th>8706</th>\n",
       "      <td>Winter</td>\n",
       "      <td>0</td>\n",
       "      <td>1</td>\n",
       "      <td>Mist + Cloudy</td>\n",
       "      <td>11.48</td>\n",
       "      <td>61</td>\n",
       "      <td>16.9979</td>\n",
       "      <td>92</td>\n",
       "      <td>2012-11-07</td>\n",
       "      <td>1</td>\n",
       "      <td>Wednesday</td>\n",
       "      <td>November</td>\n",
       "    </tr>\n",
       "    <tr>\n",
       "      <th>8707</th>\n",
       "      <td>Spring</td>\n",
       "      <td>0</td>\n",
       "      <td>1</td>\n",
       "      <td>Mist + Cloudy</td>\n",
       "      <td>5.74</td>\n",
       "      <td>50</td>\n",
       "      <td>19.9995</td>\n",
       "      <td>31</td>\n",
       "      <td>2011-01-10</td>\n",
       "      <td>10</td>\n",
       "      <td>Monday</td>\n",
       "      <td>January</td>\n",
       "    </tr>\n",
       "  </tbody>\n",
       "</table>\n",
       "<p>8291 rows × 12 columns</p>\n",
       "</div>"
      ],
      "text/plain": [
       "      season holiday workingday              weather   temp  humidity  \\\n",
       "0     Summer       0          1   Clear + Few clouds  22.14        77   \n",
       "1       Fall       0          1   Clear + Few clouds  28.70        79   \n",
       "2     Spring       0          1   Clear + Few clouds   5.74        50   \n",
       "3     Winter       0          1   Clear + Few clouds  13.94        29   \n",
       "4       Fall       0          1   Clear + Few clouds  30.34        51   \n",
       "...      ...     ...        ...                  ...    ...       ...   \n",
       "8703  Spring       1          0   Clear + Few clouds   4.10        54   \n",
       "8704  Winter       0          1       Mist + Cloudy   16.40        87   \n",
       "8705  Summer       0          1       Mist + Cloudy   23.78        56   \n",
       "8706  Winter       0          1       Mist + Cloudy   11.48        61   \n",
       "8707  Spring       0          1       Mist + Cloudy    5.74        50   \n",
       "\n",
       "      windspeed  Total_booking        date  hour    weekDay      month  \n",
       "0       16.9979            504  2012-05-02    19  Wednesday        May  \n",
       "1       19.0012              5  2012-09-05     4  Wednesday  September  \n",
       "2       22.0028            139  2011-01-13     9   Thursday    January  \n",
       "3        8.9981            209  2011-11-18    16     Friday   November  \n",
       "4       19.0012            184  2011-09-13    13    Tuesday  September  \n",
       "...         ...            ...         ...   ...        ...        ...  \n",
       "8703     6.0032             13  2012-01-16     6     Monday    January  \n",
       "8704     0.0000             11  2011-11-10     1   Thursday   November  \n",
       "8705     8.9981              1  2011-04-12     3    Tuesday      April  \n",
       "8706    16.9979             92  2012-11-07     1  Wednesday   November  \n",
       "8707    19.9995             31  2011-01-10    10     Monday    January  \n",
       "\n",
       "[8291 rows x 12 columns]"
      ]
     },
     "execution_count": 44,
     "metadata": {},
     "output_type": "execute_result"
    }
   ],
   "source": [
    "new_df"
   ]
  },
  {
   "cell_type": "markdown",
   "metadata": {
    "id": "5ItEIvUICXvh"
   },
   "source": [
    "# Data Visualization"
   ]
  },
  {
   "cell_type": "code",
   "execution_count": 45,
   "metadata": {
    "colab": {
     "base_uri": "https://localhost:8080/"
    },
    "id": "onfhsSXACWBn",
    "outputId": "7e5741ad-0cfa-48b3-85f5-add142194285"
   },
   "outputs": [
    {
     "data": {
      "text/plain": [
       "count    8291.000000\n",
       "mean      177.119407\n",
       "std       156.753214\n",
       "min         1.000000\n",
       "25%        40.000000\n",
       "50%       140.000000\n",
       "75%       272.000000\n",
       "max       650.000000\n",
       "Name: Total_booking, dtype: float64"
      ]
     },
     "execution_count": 45,
     "metadata": {},
     "output_type": "execute_result"
    }
   ],
   "source": [
    "new_df['Total_booking'].describe()"
   ]
  },
  {
   "cell_type": "markdown",
   "metadata": {
    "id": "oiKCdn_rLxv5"
   },
   "source": [
    "Distribution plot for Total_booking column"
   ]
  },
  {
   "cell_type": "code",
   "execution_count": 46,
   "metadata": {
    "colab": {
     "base_uri": "https://localhost:8080/",
     "height": 430
    },
    "id": "Lcl3dc0gEHPL",
    "outputId": "b568c7de-aa83-4566-a364-aeb0e9a71c0d"
   },
   "outputs": [
    {
     "name": "stderr",
     "output_type": "stream",
     "text": [
      "D:\\Sai\\Anaconda\\lib\\site-packages\\seaborn\\distributions.py:2551: FutureWarning: `distplot` is a deprecated function and will be removed in a future version. Please adapt your code to use either `displot` (a figure-level function with similar flexibility) or `histplot` (an axes-level function for histograms).\n",
      "  warnings.warn(msg, FutureWarning)\n"
     ]
    },
    {
     "data": {
      "text/plain": [
       "Text(0.5, 1.0, 'Distribution of Total booking')"
      ]
     },
     "execution_count": 46,
     "metadata": {},
     "output_type": "execute_result"
    },
    {
     "data": {
      "image/png": "[encoded data removed]",
      "text/plain": [
       "<Figure size 1080x360 with 2 Axes>"
      ]
     },
     "metadata": {},
     "output_type": "display_data"
    }
   ],
   "source": [
    "plt.figure(figsize=(15,5))\n",
    "plt.subplot(1,2,1)\n",
    "sns.distplot(new_df['Total_booking'], bins = 20, color=\"green\", kde=False)\n",
    "plt.title(\"Distribution of Total booking\")\n",
    "plt.ylabel(\"Number of Occurences\")\n",
    "plt.xlabel(\"Total booking\")\n",
    "plt.subplot(1,2,2)\n",
    "sns.distplot(new_df['Total_booking'], bins = 20, color=\"green\", kde=True)\n",
    "plt.title(\"Distribution of Total booking\")"
   ]
  },
  {
   "cell_type": "code",
   "execution_count": 47,
   "metadata": {
    "colab": {
     "base_uri": "https://localhost:8080/",
     "height": 424
    },
    "id": "0ua2fFrqGtRv",
    "outputId": "19e54d87-618c-4e06-8909-16c4d3066eca"
   },
   "outputs": [
    {
     "data": {
      "text/html": [
       "<div>\n",
       "<style scoped>\n",
       "    .dataframe tbody tr th:only-of-type {\n",
       "        vertical-align: middle;\n",
       "    }\n",
       "\n",
       "    .dataframe tbody tr th {\n",
       "        vertical-align: top;\n",
       "    }\n",
       "\n",
       "    .dataframe thead th {\n",
       "        text-align: right;\n",
       "    }\n",
       "</style>\n",
       "<table border=\"1\" class=\"dataframe\">\n",
       "  <thead>\n",
       "    <tr style=\"text-align: right;\">\n",
       "      <th></th>\n",
       "      <th>season</th>\n",
       "      <th>holiday</th>\n",
       "      <th>workingday</th>\n",
       "      <th>weather</th>\n",
       "      <th>temp</th>\n",
       "      <th>humidity</th>\n",
       "      <th>windspeed</th>\n",
       "      <th>Total_booking</th>\n",
       "      <th>date</th>\n",
       "      <th>hour</th>\n",
       "      <th>weekDay</th>\n",
       "      <th>month</th>\n",
       "    </tr>\n",
       "  </thead>\n",
       "  <tbody>\n",
       "    <tr>\n",
       "      <th>0</th>\n",
       "      <td>Summer</td>\n",
       "      <td>0</td>\n",
       "      <td>1</td>\n",
       "      <td>Clear + Few clouds</td>\n",
       "      <td>22.14</td>\n",
       "      <td>77</td>\n",
       "      <td>16.9979</td>\n",
       "      <td>504</td>\n",
       "      <td>2012-05-02</td>\n",
       "      <td>19</td>\n",
       "      <td>Wednesday</td>\n",
       "      <td>May</td>\n",
       "    </tr>\n",
       "    <tr>\n",
       "      <th>1</th>\n",
       "      <td>Fall</td>\n",
       "      <td>0</td>\n",
       "      <td>1</td>\n",
       "      <td>Clear + Few clouds</td>\n",
       "      <td>28.70</td>\n",
       "      <td>79</td>\n",
       "      <td>19.0012</td>\n",
       "      <td>5</td>\n",
       "      <td>2012-09-05</td>\n",
       "      <td>4</td>\n",
       "      <td>Wednesday</td>\n",
       "      <td>September</td>\n",
       "    </tr>\n",
       "    <tr>\n",
       "      <th>2</th>\n",
       "      <td>Spring</td>\n",
       "      <td>0</td>\n",
       "      <td>1</td>\n",
       "      <td>Clear + Few clouds</td>\n",
       "      <td>5.74</td>\n",
       "      <td>50</td>\n",
       "      <td>22.0028</td>\n",
       "      <td>139</td>\n",
       "      <td>2011-01-13</td>\n",
       "      <td>9</td>\n",
       "      <td>Thursday</td>\n",
       "      <td>January</td>\n",
       "    </tr>\n",
       "    <tr>\n",
       "      <th>3</th>\n",
       "      <td>Winter</td>\n",
       "      <td>0</td>\n",
       "      <td>1</td>\n",
       "      <td>Clear + Few clouds</td>\n",
       "      <td>13.94</td>\n",
       "      <td>29</td>\n",
       "      <td>8.9981</td>\n",
       "      <td>209</td>\n",
       "      <td>2011-11-18</td>\n",
       "      <td>16</td>\n",
       "      <td>Friday</td>\n",
       "      <td>November</td>\n",
       "    </tr>\n",
       "    <tr>\n",
       "      <th>4</th>\n",
       "      <td>Fall</td>\n",
       "      <td>0</td>\n",
       "      <td>1</td>\n",
       "      <td>Clear + Few clouds</td>\n",
       "      <td>30.34</td>\n",
       "      <td>51</td>\n",
       "      <td>19.0012</td>\n",
       "      <td>184</td>\n",
       "      <td>2011-09-13</td>\n",
       "      <td>13</td>\n",
       "      <td>Tuesday</td>\n",
       "      <td>September</td>\n",
       "    </tr>\n",
       "    <tr>\n",
       "      <th>...</th>\n",
       "      <td>...</td>\n",
       "      <td>...</td>\n",
       "      <td>...</td>\n",
       "      <td>...</td>\n",
       "      <td>...</td>\n",
       "      <td>...</td>\n",
       "      <td>...</td>\n",
       "      <td>...</td>\n",
       "      <td>...</td>\n",
       "      <td>...</td>\n",
       "      <td>...</td>\n",
       "      <td>...</td>\n",
       "    </tr>\n",
       "    <tr>\n",
       "      <th>8703</th>\n",
       "      <td>Spring</td>\n",
       "      <td>1</td>\n",
       "      <td>0</td>\n",
       "      <td>Clear + Few clouds</td>\n",
       "      <td>4.10</td>\n",
       "      <td>54</td>\n",
       "      <td>6.0032</td>\n",
       "      <td>13</td>\n",
       "      <td>2012-01-16</td>\n",
       "      <td>6</td>\n",
       "      <td>Monday</td>\n",
       "      <td>January</td>\n",
       "    </tr>\n",
       "    <tr>\n",
       "      <th>8704</th>\n",
       "      <td>Winter</td>\n",
       "      <td>0</td>\n",
       "      <td>1</td>\n",
       "      <td>Mist + Cloudy</td>\n",
       "      <td>16.40</td>\n",
       "      <td>87</td>\n",
       "      <td>0.0000</td>\n",
       "      <td>11</td>\n",
       "      <td>2011-11-10</td>\n",
       "      <td>1</td>\n",
       "      <td>Thursday</td>\n",
       "      <td>November</td>\n",
       "    </tr>\n",
       "    <tr>\n",
       "      <th>8705</th>\n",
       "      <td>Summer</td>\n",
       "      <td>0</td>\n",
       "      <td>1</td>\n",
       "      <td>Mist + Cloudy</td>\n",
       "      <td>23.78</td>\n",
       "      <td>56</td>\n",
       "      <td>8.9981</td>\n",
       "      <td>1</td>\n",
       "      <td>2011-04-12</td>\n",
       "      <td>3</td>\n",
       "      <td>Tuesday</td>\n",
       "      <td>April</td>\n",
       "    </tr>\n",
       "    <tr>\n",
       "      <th>8706</th>\n",
       "      <td>Winter</td>\n",
       "      <td>0</td>\n",
       "      <td>1</td>\n",
       "      <td>Mist + Cloudy</td>\n",
       "      <td>11.48</td>\n",
       "      <td>61</td>\n",
       "      <td>16.9979</td>\n",
       "      <td>92</td>\n",
       "      <td>2012-11-07</td>\n",
       "      <td>1</td>\n",
       "      <td>Wednesday</td>\n",
       "      <td>November</td>\n",
       "    </tr>\n",
       "    <tr>\n",
       "      <th>8707</th>\n",
       "      <td>Spring</td>\n",
       "      <td>0</td>\n",
       "      <td>1</td>\n",
       "      <td>Mist + Cloudy</td>\n",
       "      <td>5.74</td>\n",
       "      <td>50</td>\n",
       "      <td>19.9995</td>\n",
       "      <td>31</td>\n",
       "      <td>2011-01-10</td>\n",
       "      <td>10</td>\n",
       "      <td>Monday</td>\n",
       "      <td>January</td>\n",
       "    </tr>\n",
       "  </tbody>\n",
       "</table>\n",
       "<p>8291 rows × 12 columns</p>\n",
       "</div>"
      ],
      "text/plain": [
       "      season holiday workingday              weather   temp  humidity  \\\n",
       "0     Summer       0          1   Clear + Few clouds  22.14        77   \n",
       "1       Fall       0          1   Clear + Few clouds  28.70        79   \n",
       "2     Spring       0          1   Clear + Few clouds   5.74        50   \n",
       "3     Winter       0          1   Clear + Few clouds  13.94        29   \n",
       "4       Fall       0          1   Clear + Few clouds  30.34        51   \n",
       "...      ...     ...        ...                  ...    ...       ...   \n",
       "8703  Spring       1          0   Clear + Few clouds   4.10        54   \n",
       "8704  Winter       0          1       Mist + Cloudy   16.40        87   \n",
       "8705  Summer       0          1       Mist + Cloudy   23.78        56   \n",
       "8706  Winter       0          1       Mist + Cloudy   11.48        61   \n",
       "8707  Spring       0          1       Mist + Cloudy    5.74        50   \n",
       "\n",
       "      windspeed  Total_booking        date  hour    weekDay      month  \n",
       "0       16.9979            504  2012-05-02    19  Wednesday        May  \n",
       "1       19.0012              5  2012-09-05     4  Wednesday  September  \n",
       "2       22.0028            139  2011-01-13     9   Thursday    January  \n",
       "3        8.9981            209  2011-11-18    16     Friday   November  \n",
       "4       19.0012            184  2011-09-13    13    Tuesday  September  \n",
       "...         ...            ...         ...   ...        ...        ...  \n",
       "8703     6.0032             13  2012-01-16     6     Monday    January  \n",
       "8704     0.0000             11  2011-11-10     1   Thursday   November  \n",
       "8705     8.9981              1  2011-04-12     3    Tuesday      April  \n",
       "8706    16.9979             92  2012-11-07     1  Wednesday   November  \n",
       "8707    19.9995             31  2011-01-10    10     Monday    January  \n",
       "\n",
       "[8291 rows x 12 columns]"
      ]
     },
     "execution_count": 47,
     "metadata": {},
     "output_type": "execute_result"
    }
   ],
   "source": [
    "new_df"
   ]
  },
  {
   "cell_type": "code",
   "execution_count": 48,
   "metadata": {
    "colab": {
     "base_uri": "https://localhost:8080/",
     "height": 373
    },
    "id": "28UIBmJxJ1ik",
    "outputId": "da02f13c-613d-4397-ebc3-4d38f5094693"
   },
   "outputs": [
    {
     "data": {
      "text/plain": [
       "Text(0, 0.5, 'Total number of bookings')"
      ]
     },
     "execution_count": 48,
     "metadata": {},
     "output_type": "execute_result"
    },
    {
     "data": {
      "image/png": "[encoded data removed]",
      "text/plain": [
       "<Figure size 1080x360 with 1 Axes>"
      ]
     },
     "metadata": {},
     "output_type": "display_data"
    }
   ],
   "source": [
    "#Visualize total booking vs month\n",
    "plt.figure(figsize=(15,5))\n",
    "sns.barplot(x='month', y='Total_booking', estimator = sum, data=new_df)\n",
    "plt.title(\"Total_booking vs month\")\n",
    "plt.xlabel(\"Month\")\n",
    "plt.ylabel(\"Total number of bookings\")"
   ]
  },
  {
   "cell_type": "code",
   "execution_count": 49,
   "metadata": {
    "colab": {
     "base_uri": "https://localhost:8080/",
     "height": 373
    },
    "id": "6987Y99P6f6y",
    "outputId": "59b539a5-3a46-42cb-fdf7-b9dd21ef300a"
   },
   "outputs": [
    {
     "data": {
      "text/plain": [
       "Text(0, 0.5, 'Total number of bookings')"
      ]
     },
     "execution_count": 49,
     "metadata": {},
     "output_type": "execute_result"
    },
    {
     "data": {
      "image/png": "[encoded data removed]",
      "text/plain": [
       "<Figure size 720x360 with 1 Axes>"
      ]
     },
     "metadata": {},
     "output_type": "display_data"
    }
   ],
   "source": [
    "#Visualize total booking vs season\n",
    "plt.figure(figsize=(10,5))\n",
    "sns.barplot(x='season', y='Total_booking', estimator = sum, data=new_df)\n",
    "plt.title(\"Total_booking vs season\")\n",
    "plt.xlabel(\"Season\")\n",
    "plt.ylabel(\"Total number of bookings\")"
   ]
  },
  {
   "cell_type": "code",
   "execution_count": 50,
   "metadata": {
    "colab": {
     "base_uri": "https://localhost:8080/",
     "height": 373
    },
    "id": "aX9ZyxIk_Lty",
    "outputId": "7f1130d1-08f1-4dea-e4f4-1ff5e6e5737a"
   },
   "outputs": [
    {
     "data": {
      "text/plain": [
       "Text(0, 0.5, 'Average Total number of bookings per hour')"
      ]
     },
     "execution_count": 50,
     "metadata": {},
     "output_type": "execute_result"
    },
    {
     "data": {
      "image/png": "[encoded data removed]",
      "text/plain": [
       "<Figure size 1080x360 with 1 Axes>"
      ]
     },
     "metadata": {},
     "output_type": "display_data"
    }
   ],
   "source": [
    "#Visualize total booking vs hour\n",
    "plt.figure(figsize=(15,5))\n",
    "sns.barplot(x='hour', y='Total_booking', estimator = np.mean, data=new_df)\n",
    "plt.title(\"Total_booking vs hour\")\n",
    "plt.xlabel(\"Hour\")\n",
    "plt.ylabel(\"Average Total number of bookings per hour\")"
   ]
  },
  {
   "cell_type": "code",
   "execution_count": 51,
   "metadata": {
    "colab": {
     "base_uri": "https://localhost:8080/",
     "height": 373
    },
    "id": "rD1XbqqXBL8h",
    "outputId": "f8bcbe20-2e97-4cb9-bf91-098748e1033a"
   },
   "outputs": [
    {
     "data": {
      "text/plain": [
       "Text(0, 0.5, 'Total number of bookings')"
      ]
     },
     "execution_count": 51,
     "metadata": {},
     "output_type": "execute_result"
    },
    {
     "data": {
      "image/png": "[encoded data removed]",
      "text/plain": [
       "<Figure size 1080x360 with 1 Axes>"
      ]
     },
     "metadata": {},
     "output_type": "display_data"
    }
   ],
   "source": [
    "#Visualize total booking vs weekDay\n",
    "plt.figure(figsize=(15,5))\n",
    "sns.barplot(x='weekDay', y='Total_booking', estimator = sum, data=new_df)\n",
    "plt.title(\"Total_booking vs weekDay\")\n",
    "plt.xlabel(\"WeekDay\")\n",
    "plt.ylabel(\"Total number of bookings\")"
   ]
  },
  {
   "cell_type": "code",
   "execution_count": 52,
   "metadata": {
    "colab": {
     "base_uri": "https://localhost:8080/",
     "height": 629
    },
    "id": "rOPpiM6EByx8",
    "outputId": "328b6f05-b883-4244-8338-b7771d678456"
   },
   "outputs": [
    {
     "data": {
      "text/plain": [
       "<AxesSubplot:xlabel='month', ylabel='Total_booking'>"
      ]
     },
     "execution_count": 52,
     "metadata": {},
     "output_type": "execute_result"
    },
    {
     "data": {
      "image/png": "[encoded data removed]",
      "text/plain": [
       "<Figure size 1080x720 with 1 Axes>"
      ]
     },
     "metadata": {},
     "output_type": "display_data"
    }
   ],
   "source": [
    "plt.figure(figsize=(15,10))\n",
    "sns.scatterplot(x='month', y='Total_booking' , hue='season', data = new_df)"
   ]
  },
  {
   "cell_type": "markdown",
   "metadata": {
    "id": "cWzXJDyJq8CM"
   },
   "source": [
    "Histograms for Continuous data"
   ]
  },
  {
   "cell_type": "code",
   "execution_count": 53,
   "metadata": {
    "colab": {
     "base_uri": "https://localhost:8080/",
     "height": 383
    },
    "id": "W8mHr_P4iGU1",
    "outputId": "cf654226-3fb6-481a-9eeb-8198bc723c51"
   },
   "outputs": [
    {
     "data": {
      "text/plain": [
       "<seaborn.axisgrid.FacetGrid at 0x243ef0dc808>"
      ]
     },
     "execution_count": 53,
     "metadata": {},
     "output_type": "execute_result"
    },
    {
     "data": {
      "image/png": "[encoded data removed]",
      "text/plain": [
       "<Figure size 720x360 with 1 Axes>"
      ]
     },
     "metadata": {},
     "output_type": "display_data"
    }
   ],
   "source": [
    "#Histogram for temp\n",
    "#plt.figure(figsize=(5,5))\n",
    "sns.displot(data=new_df, x='temp', kind='hist', height=5, aspect=2)"
   ]
  },
  {
   "cell_type": "code",
   "execution_count": 54,
   "metadata": {
    "colab": {
     "base_uri": "https://localhost:8080/",
     "height": 383
    },
    "id": "N8F9Dh7rqU5p",
    "outputId": "d08bf1f1-0750-44fe-f031-1e61734a4771"
   },
   "outputs": [
    {
     "data": {
      "text/plain": [
       "<seaborn.axisgrid.FacetGrid at 0x243f019da08>"
      ]
     },
     "execution_count": 54,
     "metadata": {},
     "output_type": "execute_result"
    },
    {
     "data": {
      "image/png": "[encoded data removed]",
      "text/plain": [
       "<Figure size 720x360 with 1 Axes>"
      ]
     },
     "metadata": {},
     "output_type": "display_data"
    }
   ],
   "source": [
    "#Histogram for humididty\n",
    "sns.displot(data=new_df, x='humidity', kind='hist', height=5, aspect=2)"
   ]
  },
  {
   "cell_type": "code",
   "execution_count": 55,
   "metadata": {
    "colab": {
     "base_uri": "https://localhost:8080/",
     "height": 383
    },
    "id": "mi90qJh_rMIy",
    "outputId": "40c137da-e12f-44d9-b775-15a5e603b958"
   },
   "outputs": [
    {
     "data": {
      "text/plain": [
       "<seaborn.axisgrid.FacetGrid at 0x243f051fe48>"
      ]
     },
     "execution_count": 55,
     "metadata": {},
     "output_type": "execute_result"
    },
    {
     "data": {
      "image/png": "[encoded data removed]",
      "text/plain": [
       "<Figure size 720x360 with 1 Axes>"
      ]
     },
     "metadata": {},
     "output_type": "display_data"
    }
   ],
   "source": [
    "#Histogram for windspeed\n",
    "sns.displot(data=new_df, x='windspeed',bins = 20, kind='hist', height=5, aspect=2)"
   ]
  },
  {
   "cell_type": "code",
   "execution_count": 56,
   "metadata": {
    "colab": {
     "base_uri": "https://localhost:8080/",
     "height": 383
    },
    "id": "Z1XRxUMIrRcL",
    "outputId": "cffb73fe-e146-4695-f2b7-fc3ccdf83fe2"
   },
   "outputs": [
    {
     "data": {
      "text/plain": [
       "<seaborn.axisgrid.FacetGrid at 0x243f0562b88>"
      ]
     },
     "execution_count": 56,
     "metadata": {},
     "output_type": "execute_result"
    },
    {
     "data": {
      "image/png": "[encoded data removed]",
      "text/plain": [
       "<Figure size 720x360 with 1 Axes>"
      ]
     },
     "metadata": {},
     "output_type": "display_data"
    }
   ],
   "source": [
    "#Histogram for Total_booking\n",
    "sns.displot(data=new_df, x='Total_booking', bins = 10, kind='hist', height=5, aspect=2)"
   ]
  },
  {
   "cell_type": "code",
   "execution_count": 57,
   "metadata": {
    "colab": {
     "base_uri": "https://localhost:8080/",
     "height": 383
    },
    "id": "odLN1a94r01P",
    "outputId": "4a805a20-bbce-4bcc-a1ad-7e69b0f0c22f"
   },
   "outputs": [
    {
     "data": {
      "text/plain": [
       "<seaborn.axisgrid.FacetGrid at 0x243f064fb48>"
      ]
     },
     "execution_count": 57,
     "metadata": {},
     "output_type": "execute_result"
    },
    {
     "data": {
      "image/png": "[encoded data removed]",
      "text/plain": [
       "<Figure size 720x360 with 1 Axes>"
      ]
     },
     "metadata": {},
     "output_type": "display_data"
    }
   ],
   "source": [
    "#Histogram for Hour\n",
    "sns.displot(data=new_df, x='hour', kind='hist', height=5, aspect=2)"
   ]
  },
  {
   "cell_type": "code",
   "execution_count": 58,
   "metadata": {
    "colab": {
     "base_uri": "https://localhost:8080/"
    },
    "id": "F9M6wcAe1ipP",
    "outputId": "629e1773-45cc-403e-9c33-21a014850f4a"
   },
   "outputs": [
    {
     "name": "stdout",
     "output_type": "stream",
     "text": [
      "<class 'pandas.core.frame.DataFrame'>\n",
      "Int64Index: 8291 entries, 0 to 8707\n",
      "Data columns (total 12 columns):\n",
      " #   Column         Non-Null Count  Dtype   \n",
      "---  ------         --------------  -----   \n",
      " 0   season         8291 non-null   category\n",
      " 1   holiday        8291 non-null   category\n",
      " 2   workingday     8291 non-null   category\n",
      " 3   weather        8291 non-null   category\n",
      " 4   temp           8291 non-null   float64 \n",
      " 5   humidity       8291 non-null   int64   \n",
      " 6   windspeed      8291 non-null   float64 \n",
      " 7   Total_booking  8291 non-null   int64   \n",
      " 8   date           8291 non-null   object  \n",
      " 9   hour           8291 non-null   int64   \n",
      " 10  weekDay        8291 non-null   object  \n",
      " 11  month          8291 non-null   object  \n",
      "dtypes: category(4), float64(2), int64(3), object(3)\n",
      "memory usage: 874.0+ KB\n"
     ]
    }
   ],
   "source": [
    "new_df.info()"
   ]
  },
  {
   "cell_type": "code",
   "execution_count": 59,
   "metadata": {
    "colab": {
     "base_uri": "https://localhost:8080/",
     "height": 424
    },
    "id": "MofxPVU-NaVB",
    "outputId": "fd3db8a6-1888-48dd-cd30-604504c3f518"
   },
   "outputs": [
    {
     "data": {
      "text/html": [
       "<div>\n",
       "<style scoped>\n",
       "    .dataframe tbody tr th:only-of-type {\n",
       "        vertical-align: middle;\n",
       "    }\n",
       "\n",
       "    .dataframe tbody tr th {\n",
       "        vertical-align: top;\n",
       "    }\n",
       "\n",
       "    .dataframe thead th {\n",
       "        text-align: right;\n",
       "    }\n",
       "</style>\n",
       "<table border=\"1\" class=\"dataframe\">\n",
       "  <thead>\n",
       "    <tr style=\"text-align: right;\">\n",
       "      <th></th>\n",
       "      <th>season</th>\n",
       "      <th>holiday</th>\n",
       "      <th>workingday</th>\n",
       "      <th>weather</th>\n",
       "      <th>temp</th>\n",
       "      <th>humidity</th>\n",
       "      <th>windspeed</th>\n",
       "      <th>Total_booking</th>\n",
       "      <th>hour</th>\n",
       "      <th>weekDay</th>\n",
       "      <th>month</th>\n",
       "    </tr>\n",
       "  </thead>\n",
       "  <tbody>\n",
       "    <tr>\n",
       "      <th>0</th>\n",
       "      <td>Summer</td>\n",
       "      <td>0</td>\n",
       "      <td>1</td>\n",
       "      <td>Clear + Few clouds</td>\n",
       "      <td>22.14</td>\n",
       "      <td>77</td>\n",
       "      <td>16.9979</td>\n",
       "      <td>504</td>\n",
       "      <td>19</td>\n",
       "      <td>Wednesday</td>\n",
       "      <td>May</td>\n",
       "    </tr>\n",
       "    <tr>\n",
       "      <th>1</th>\n",
       "      <td>Fall</td>\n",
       "      <td>0</td>\n",
       "      <td>1</td>\n",
       "      <td>Clear + Few clouds</td>\n",
       "      <td>28.70</td>\n",
       "      <td>79</td>\n",
       "      <td>19.0012</td>\n",
       "      <td>5</td>\n",
       "      <td>4</td>\n",
       "      <td>Wednesday</td>\n",
       "      <td>September</td>\n",
       "    </tr>\n",
       "    <tr>\n",
       "      <th>2</th>\n",
       "      <td>Spring</td>\n",
       "      <td>0</td>\n",
       "      <td>1</td>\n",
       "      <td>Clear + Few clouds</td>\n",
       "      <td>5.74</td>\n",
       "      <td>50</td>\n",
       "      <td>22.0028</td>\n",
       "      <td>139</td>\n",
       "      <td>9</td>\n",
       "      <td>Thursday</td>\n",
       "      <td>January</td>\n",
       "    </tr>\n",
       "    <tr>\n",
       "      <th>3</th>\n",
       "      <td>Winter</td>\n",
       "      <td>0</td>\n",
       "      <td>1</td>\n",
       "      <td>Clear + Few clouds</td>\n",
       "      <td>13.94</td>\n",
       "      <td>29</td>\n",
       "      <td>8.9981</td>\n",
       "      <td>209</td>\n",
       "      <td>16</td>\n",
       "      <td>Friday</td>\n",
       "      <td>November</td>\n",
       "    </tr>\n",
       "    <tr>\n",
       "      <th>4</th>\n",
       "      <td>Fall</td>\n",
       "      <td>0</td>\n",
       "      <td>1</td>\n",
       "      <td>Clear + Few clouds</td>\n",
       "      <td>30.34</td>\n",
       "      <td>51</td>\n",
       "      <td>19.0012</td>\n",
       "      <td>184</td>\n",
       "      <td>13</td>\n",
       "      <td>Tuesday</td>\n",
       "      <td>September</td>\n",
       "    </tr>\n",
       "    <tr>\n",
       "      <th>...</th>\n",
       "      <td>...</td>\n",
       "      <td>...</td>\n",
       "      <td>...</td>\n",
       "      <td>...</td>\n",
       "      <td>...</td>\n",
       "      <td>...</td>\n",
       "      <td>...</td>\n",
       "      <td>...</td>\n",
       "      <td>...</td>\n",
       "      <td>...</td>\n",
       "      <td>...</td>\n",
       "    </tr>\n",
       "    <tr>\n",
       "      <th>8703</th>\n",
       "      <td>Spring</td>\n",
       "      <td>1</td>\n",
       "      <td>0</td>\n",
       "      <td>Clear + Few clouds</td>\n",
       "      <td>4.10</td>\n",
       "      <td>54</td>\n",
       "      <td>6.0032</td>\n",
       "      <td>13</td>\n",
       "      <td>6</td>\n",
       "      <td>Monday</td>\n",
       "      <td>January</td>\n",
       "    </tr>\n",
       "    <tr>\n",
       "      <th>8704</th>\n",
       "      <td>Winter</td>\n",
       "      <td>0</td>\n",
       "      <td>1</td>\n",
       "      <td>Mist + Cloudy</td>\n",
       "      <td>16.40</td>\n",
       "      <td>87</td>\n",
       "      <td>0.0000</td>\n",
       "      <td>11</td>\n",
       "      <td>1</td>\n",
       "      <td>Thursday</td>\n",
       "      <td>November</td>\n",
       "    </tr>\n",
       "    <tr>\n",
       "      <th>8705</th>\n",
       "      <td>Summer</td>\n",
       "      <td>0</td>\n",
       "      <td>1</td>\n",
       "      <td>Mist + Cloudy</td>\n",
       "      <td>23.78</td>\n",
       "      <td>56</td>\n",
       "      <td>8.9981</td>\n",
       "      <td>1</td>\n",
       "      <td>3</td>\n",
       "      <td>Tuesday</td>\n",
       "      <td>April</td>\n",
       "    </tr>\n",
       "    <tr>\n",
       "      <th>8706</th>\n",
       "      <td>Winter</td>\n",
       "      <td>0</td>\n",
       "      <td>1</td>\n",
       "      <td>Mist + Cloudy</td>\n",
       "      <td>11.48</td>\n",
       "      <td>61</td>\n",
       "      <td>16.9979</td>\n",
       "      <td>92</td>\n",
       "      <td>1</td>\n",
       "      <td>Wednesday</td>\n",
       "      <td>November</td>\n",
       "    </tr>\n",
       "    <tr>\n",
       "      <th>8707</th>\n",
       "      <td>Spring</td>\n",
       "      <td>0</td>\n",
       "      <td>1</td>\n",
       "      <td>Mist + Cloudy</td>\n",
       "      <td>5.74</td>\n",
       "      <td>50</td>\n",
       "      <td>19.9995</td>\n",
       "      <td>31</td>\n",
       "      <td>10</td>\n",
       "      <td>Monday</td>\n",
       "      <td>January</td>\n",
       "    </tr>\n",
       "  </tbody>\n",
       "</table>\n",
       "<p>8291 rows × 11 columns</p>\n",
       "</div>"
      ],
      "text/plain": [
       "      season holiday workingday              weather   temp  humidity  \\\n",
       "0     Summer       0          1   Clear + Few clouds  22.14        77   \n",
       "1       Fall       0          1   Clear + Few clouds  28.70        79   \n",
       "2     Spring       0          1   Clear + Few clouds   5.74        50   \n",
       "3     Winter       0          1   Clear + Few clouds  13.94        29   \n",
       "4       Fall       0          1   Clear + Few clouds  30.34        51   \n",
       "...      ...     ...        ...                  ...    ...       ...   \n",
       "8703  Spring       1          0   Clear + Few clouds   4.10        54   \n",
       "8704  Winter       0          1       Mist + Cloudy   16.40        87   \n",
       "8705  Summer       0          1       Mist + Cloudy   23.78        56   \n",
       "8706  Winter       0          1       Mist + Cloudy   11.48        61   \n",
       "8707  Spring       0          1       Mist + Cloudy    5.74        50   \n",
       "\n",
       "      windspeed  Total_booking  hour    weekDay      month  \n",
       "0       16.9979            504    19  Wednesday        May  \n",
       "1       19.0012              5     4  Wednesday  September  \n",
       "2       22.0028            139     9   Thursday    January  \n",
       "3        8.9981            209    16     Friday   November  \n",
       "4       19.0012            184    13    Tuesday  September  \n",
       "...         ...            ...   ...        ...        ...  \n",
       "8703     6.0032             13     6     Monday    January  \n",
       "8704     0.0000             11     1   Thursday   November  \n",
       "8705     8.9981              1     3    Tuesday      April  \n",
       "8706    16.9979             92     1  Wednesday   November  \n",
       "8707    19.9995             31    10     Monday    January  \n",
       "\n",
       "[8291 rows x 11 columns]"
      ]
     },
     "execution_count": 59,
     "metadata": {},
     "output_type": "execute_result"
    }
   ],
   "source": [
    "#Remove date column as the values are unique\n",
    "new_df = new_df.drop('date', axis=1)\n",
    "new_df"
   ]
  },
  {
   "cell_type": "markdown",
   "metadata": {
    "id": "Jnf3av2FszLm"
   },
   "source": [
    "Convert all Categorical variables into one hot vector"
   ]
  },
  {
   "cell_type": "code",
   "execution_count": 60,
   "metadata": {
    "colab": {
     "base_uri": "https://localhost:8080/"
    },
    "id": "UwtimwFRsAI4",
    "outputId": "dc20e872-bb4d-492f-9b23-7ac7442a64a1"
   },
   "outputs": [
    {
     "name": "stdout",
     "output_type": "stream",
     "text": [
      "     holiday workingday   temp  humidity  windspeed  Total_booking  hour  \\\n",
      "0          0          1  22.14        77    16.9979            504    19   \n",
      "1          0          1  28.70        79    19.0012              5     4   \n",
      "2          0          1   5.74        50    22.0028            139     9   \n",
      "3          0          1  13.94        29     8.9981            209    16   \n",
      "4          0          1  30.34        51    19.0012            184    13   \n",
      "...      ...        ...    ...       ...        ...            ...   ...   \n",
      "8703       1          0   4.10        54     6.0032             13     6   \n",
      "8704       0          1  16.40        87     0.0000             11     1   \n",
      "8705       0          1  23.78        56     8.9981              1     3   \n",
      "8706       0          1  11.48        61    16.9979             92     1   \n",
      "8707       0          1   5.74        50    19.9995             31    10   \n",
      "\n",
      "      month_April  month_August  month_December  ...  weekDay_Tuesday  \\\n",
      "0               0             0               0  ...                0   \n",
      "1               0             0               0  ...                0   \n",
      "2               0             0               0  ...                0   \n",
      "3               0             0               0  ...                0   \n",
      "4               0             0               0  ...                1   \n",
      "...           ...           ...             ...  ...              ...   \n",
      "8703            0             0               0  ...                0   \n",
      "8704            0             0               0  ...                0   \n",
      "8705            1             0               0  ...                1   \n",
      "8706            0             0               0  ...                0   \n",
      "8707            0             0               0  ...                0   \n",
      "\n",
      "      weekDay_Wednesday  weather_ Clear + Few clouds  \\\n",
      "0                     1                            1   \n",
      "1                     1                            1   \n",
      "2                     0                            1   \n",
      "3                     0                            1   \n",
      "4                     0                            1   \n",
      "...                 ...                          ...   \n",
      "8703                  0                            1   \n",
      "8704                  0                            0   \n",
      "8705                  0                            0   \n",
      "8706                  1                            0   \n",
      "8707                  0                            0   \n",
      "\n",
      "      weather_ Heavy Rain + Thunderstorm   weather_ Light Snow, Light Rain  \\\n",
      "0                                       0                                0   \n",
      "1                                       0                                0   \n",
      "2                                       0                                0   \n",
      "3                                       0                                0   \n",
      "4                                       0                                0   \n",
      "...                                   ...                              ...   \n",
      "8703                                    0                                0   \n",
      "8704                                    0                                0   \n",
      "8705                                    0                                0   \n",
      "8706                                    0                                0   \n",
      "8707                                    0                                0   \n",
      "\n",
      "      weather_ Mist + Cloudy   season_Fall  season_Spring  season_Summer  \\\n",
      "0                           0            0              0              1   \n",
      "1                           0            1              0              0   \n",
      "2                           0            0              1              0   \n",
      "3                           0            0              0              0   \n",
      "4                           0            1              0              0   \n",
      "...                       ...          ...            ...            ...   \n",
      "8703                        0            0              1              0   \n",
      "8704                        1            0              0              0   \n",
      "8705                        1            0              0              1   \n",
      "8706                        1            0              0              0   \n",
      "8707                        1            0              1              0   \n",
      "\n",
      "      season_Winter  \n",
      "0                 0  \n",
      "1                 0  \n",
      "2                 0  \n",
      "3                 1  \n",
      "4                 0  \n",
      "...             ...  \n",
      "8703              0  \n",
      "8704              1  \n",
      "8705              0  \n",
      "8706              1  \n",
      "8707              0  \n",
      "\n",
      "[8291 rows x 34 columns]\n"
     ]
    }
   ],
   "source": [
    "one_hot_encoded_data = pd.get_dummies(new_df, columns = ['month','weekDay','weather','season'])\n",
    "print(one_hot_encoded_data)"
   ]
  },
  {
   "cell_type": "code",
   "execution_count": 61,
   "metadata": {
    "id": "4ldCQHUB3Lnv"
   },
   "outputs": [],
   "source": [
    "df_encoded = pd.DataFrame(one_hot_encoded_data)"
   ]
  },
  {
   "cell_type": "code",
   "execution_count": 62,
   "metadata": {
    "colab": {
     "base_uri": "https://localhost:8080/",
     "height": 513
    },
    "id": "uTCfaMb5Nyk3",
    "outputId": "d5283d16-2f78-4b43-85ba-384d4270e9c7"
   },
   "outputs": [
    {
     "data": {
      "text/html": [
       "<div>\n",
       "<style scoped>\n",
       "    .dataframe tbody tr th:only-of-type {\n",
       "        vertical-align: middle;\n",
       "    }\n",
       "\n",
       "    .dataframe tbody tr th {\n",
       "        vertical-align: top;\n",
       "    }\n",
       "\n",
       "    .dataframe thead th {\n",
       "        text-align: right;\n",
       "    }\n",
       "</style>\n",
       "<table border=\"1\" class=\"dataframe\">\n",
       "  <thead>\n",
       "    <tr style=\"text-align: right;\">\n",
       "      <th></th>\n",
       "      <th>holiday</th>\n",
       "      <th>workingday</th>\n",
       "      <th>temp</th>\n",
       "      <th>humidity</th>\n",
       "      <th>windspeed</th>\n",
       "      <th>Total_booking</th>\n",
       "      <th>hour</th>\n",
       "      <th>month_April</th>\n",
       "      <th>month_August</th>\n",
       "      <th>month_December</th>\n",
       "      <th>...</th>\n",
       "      <th>weekDay_Tuesday</th>\n",
       "      <th>weekDay_Wednesday</th>\n",
       "      <th>weather_ Clear + Few clouds</th>\n",
       "      <th>weather_ Heavy Rain + Thunderstorm</th>\n",
       "      <th>weather_ Light Snow, Light Rain</th>\n",
       "      <th>weather_ Mist + Cloudy</th>\n",
       "      <th>season_Fall</th>\n",
       "      <th>season_Spring</th>\n",
       "      <th>season_Summer</th>\n",
       "      <th>season_Winter</th>\n",
       "    </tr>\n",
       "  </thead>\n",
       "  <tbody>\n",
       "    <tr>\n",
       "      <th>0</th>\n",
       "      <td>0</td>\n",
       "      <td>1</td>\n",
       "      <td>22.14</td>\n",
       "      <td>77</td>\n",
       "      <td>16.9979</td>\n",
       "      <td>504</td>\n",
       "      <td>19</td>\n",
       "      <td>0</td>\n",
       "      <td>0</td>\n",
       "      <td>0</td>\n",
       "      <td>...</td>\n",
       "      <td>0</td>\n",
       "      <td>1</td>\n",
       "      <td>1</td>\n",
       "      <td>0</td>\n",
       "      <td>0</td>\n",
       "      <td>0</td>\n",
       "      <td>0</td>\n",
       "      <td>0</td>\n",
       "      <td>1</td>\n",
       "      <td>0</td>\n",
       "    </tr>\n",
       "    <tr>\n",
       "      <th>1</th>\n",
       "      <td>0</td>\n",
       "      <td>1</td>\n",
       "      <td>28.70</td>\n",
       "      <td>79</td>\n",
       "      <td>19.0012</td>\n",
       "      <td>5</td>\n",
       "      <td>4</td>\n",
       "      <td>0</td>\n",
       "      <td>0</td>\n",
       "      <td>0</td>\n",
       "      <td>...</td>\n",
       "      <td>0</td>\n",
       "      <td>1</td>\n",
       "      <td>1</td>\n",
       "      <td>0</td>\n",
       "      <td>0</td>\n",
       "      <td>0</td>\n",
       "      <td>1</td>\n",
       "      <td>0</td>\n",
       "      <td>0</td>\n",
       "      <td>0</td>\n",
       "    </tr>\n",
       "    <tr>\n",
       "      <th>2</th>\n",
       "      <td>0</td>\n",
       "      <td>1</td>\n",
       "      <td>5.74</td>\n",
       "      <td>50</td>\n",
       "      <td>22.0028</td>\n",
       "      <td>139</td>\n",
       "      <td>9</td>\n",
       "      <td>0</td>\n",
       "      <td>0</td>\n",
       "      <td>0</td>\n",
       "      <td>...</td>\n",
       "      <td>0</td>\n",
       "      <td>0</td>\n",
       "      <td>1</td>\n",
       "      <td>0</td>\n",
       "      <td>0</td>\n",
       "      <td>0</td>\n",
       "      <td>0</td>\n",
       "      <td>1</td>\n",
       "      <td>0</td>\n",
       "      <td>0</td>\n",
       "    </tr>\n",
       "    <tr>\n",
       "      <th>3</th>\n",
       "      <td>0</td>\n",
       "      <td>1</td>\n",
       "      <td>13.94</td>\n",
       "      <td>29</td>\n",
       "      <td>8.9981</td>\n",
       "      <td>209</td>\n",
       "      <td>16</td>\n",
       "      <td>0</td>\n",
       "      <td>0</td>\n",
       "      <td>0</td>\n",
       "      <td>...</td>\n",
       "      <td>0</td>\n",
       "      <td>0</td>\n",
       "      <td>1</td>\n",
       "      <td>0</td>\n",
       "      <td>0</td>\n",
       "      <td>0</td>\n",
       "      <td>0</td>\n",
       "      <td>0</td>\n",
       "      <td>0</td>\n",
       "      <td>1</td>\n",
       "    </tr>\n",
       "    <tr>\n",
       "      <th>4</th>\n",
       "      <td>0</td>\n",
       "      <td>1</td>\n",
       "      <td>30.34</td>\n",
       "      <td>51</td>\n",
       "      <td>19.0012</td>\n",
       "      <td>184</td>\n",
       "      <td>13</td>\n",
       "      <td>0</td>\n",
       "      <td>0</td>\n",
       "      <td>0</td>\n",
       "      <td>...</td>\n",
       "      <td>1</td>\n",
       "      <td>0</td>\n",
       "      <td>1</td>\n",
       "      <td>0</td>\n",
       "      <td>0</td>\n",
       "      <td>0</td>\n",
       "      <td>1</td>\n",
       "      <td>0</td>\n",
       "      <td>0</td>\n",
       "      <td>0</td>\n",
       "    </tr>\n",
       "    <tr>\n",
       "      <th>...</th>\n",
       "      <td>...</td>\n",
       "      <td>...</td>\n",
       "      <td>...</td>\n",
       "      <td>...</td>\n",
       "      <td>...</td>\n",
       "      <td>...</td>\n",
       "      <td>...</td>\n",
       "      <td>...</td>\n",
       "      <td>...</td>\n",
       "      <td>...</td>\n",
       "      <td>...</td>\n",
       "      <td>...</td>\n",
       "      <td>...</td>\n",
       "      <td>...</td>\n",
       "      <td>...</td>\n",
       "      <td>...</td>\n",
       "      <td>...</td>\n",
       "      <td>...</td>\n",
       "      <td>...</td>\n",
       "      <td>...</td>\n",
       "      <td>...</td>\n",
       "    </tr>\n",
       "    <tr>\n",
       "      <th>8703</th>\n",
       "      <td>1</td>\n",
       "      <td>0</td>\n",
       "      <td>4.10</td>\n",
       "      <td>54</td>\n",
       "      <td>6.0032</td>\n",
       "      <td>13</td>\n",
       "      <td>6</td>\n",
       "      <td>0</td>\n",
       "      <td>0</td>\n",
       "      <td>0</td>\n",
       "      <td>...</td>\n",
       "      <td>0</td>\n",
       "      <td>0</td>\n",
       "      <td>1</td>\n",
       "      <td>0</td>\n",
       "      <td>0</td>\n",
       "      <td>0</td>\n",
       "      <td>0</td>\n",
       "      <td>1</td>\n",
       "      <td>0</td>\n",
       "      <td>0</td>\n",
       "    </tr>\n",
       "    <tr>\n",
       "      <th>8704</th>\n",
       "      <td>0</td>\n",
       "      <td>1</td>\n",
       "      <td>16.40</td>\n",
       "      <td>87</td>\n",
       "      <td>0.0000</td>\n",
       "      <td>11</td>\n",
       "      <td>1</td>\n",
       "      <td>0</td>\n",
       "      <td>0</td>\n",
       "      <td>0</td>\n",
       "      <td>...</td>\n",
       "      <td>0</td>\n",
       "      <td>0</td>\n",
       "      <td>0</td>\n",
       "      <td>0</td>\n",
       "      <td>0</td>\n",
       "      <td>1</td>\n",
       "      <td>0</td>\n",
       "      <td>0</td>\n",
       "      <td>0</td>\n",
       "      <td>1</td>\n",
       "    </tr>\n",
       "    <tr>\n",
       "      <th>8705</th>\n",
       "      <td>0</td>\n",
       "      <td>1</td>\n",
       "      <td>23.78</td>\n",
       "      <td>56</td>\n",
       "      <td>8.9981</td>\n",
       "      <td>1</td>\n",
       "      <td>3</td>\n",
       "      <td>1</td>\n",
       "      <td>0</td>\n",
       "      <td>0</td>\n",
       "      <td>...</td>\n",
       "      <td>1</td>\n",
       "      <td>0</td>\n",
       "      <td>0</td>\n",
       "      <td>0</td>\n",
       "      <td>0</td>\n",
       "      <td>1</td>\n",
       "      <td>0</td>\n",
       "      <td>0</td>\n",
       "      <td>1</td>\n",
       "      <td>0</td>\n",
       "    </tr>\n",
       "    <tr>\n",
       "      <th>8706</th>\n",
       "      <td>0</td>\n",
       "      <td>1</td>\n",
       "      <td>11.48</td>\n",
       "      <td>61</td>\n",
       "      <td>16.9979</td>\n",
       "      <td>92</td>\n",
       "      <td>1</td>\n",
       "      <td>0</td>\n",
       "      <td>0</td>\n",
       "      <td>0</td>\n",
       "      <td>...</td>\n",
       "      <td>0</td>\n",
       "      <td>1</td>\n",
       "      <td>0</td>\n",
       "      <td>0</td>\n",
       "      <td>0</td>\n",
       "      <td>1</td>\n",
       "      <td>0</td>\n",
       "      <td>0</td>\n",
       "      <td>0</td>\n",
       "      <td>1</td>\n",
       "    </tr>\n",
       "    <tr>\n",
       "      <th>8707</th>\n",
       "      <td>0</td>\n",
       "      <td>1</td>\n",
       "      <td>5.74</td>\n",
       "      <td>50</td>\n",
       "      <td>19.9995</td>\n",
       "      <td>31</td>\n",
       "      <td>10</td>\n",
       "      <td>0</td>\n",
       "      <td>0</td>\n",
       "      <td>0</td>\n",
       "      <td>...</td>\n",
       "      <td>0</td>\n",
       "      <td>0</td>\n",
       "      <td>0</td>\n",
       "      <td>0</td>\n",
       "      <td>0</td>\n",
       "      <td>1</td>\n",
       "      <td>0</td>\n",
       "      <td>1</td>\n",
       "      <td>0</td>\n",
       "      <td>0</td>\n",
       "    </tr>\n",
       "  </tbody>\n",
       "</table>\n",
       "<p>8291 rows × 34 columns</p>\n",
       "</div>"
      ],
      "text/plain": [
       "     holiday workingday   temp  humidity  windspeed  Total_booking  hour  \\\n",
       "0          0          1  22.14        77    16.9979            504    19   \n",
       "1          0          1  28.70        79    19.0012              5     4   \n",
       "2          0          1   5.74        50    22.0028            139     9   \n",
       "3          0          1  13.94        29     8.9981            209    16   \n",
       "4          0          1  30.34        51    19.0012            184    13   \n",
       "...      ...        ...    ...       ...        ...            ...   ...   \n",
       "8703       1          0   4.10        54     6.0032             13     6   \n",
       "8704       0          1  16.40        87     0.0000             11     1   \n",
       "8705       0          1  23.78        56     8.9981              1     3   \n",
       "8706       0          1  11.48        61    16.9979             92     1   \n",
       "8707       0          1   5.74        50    19.9995             31    10   \n",
       "\n",
       "      month_April  month_August  month_December  ...  weekDay_Tuesday  \\\n",
       "0               0             0               0  ...                0   \n",
       "1               0             0               0  ...                0   \n",
       "2               0             0               0  ...                0   \n",
       "3               0             0               0  ...                0   \n",
       "4               0             0               0  ...                1   \n",
       "...           ...           ...             ...  ...              ...   \n",
       "8703            0             0               0  ...                0   \n",
       "8704            0             0               0  ...                0   \n",
       "8705            1             0               0  ...                1   \n",
       "8706            0             0               0  ...                0   \n",
       "8707            0             0               0  ...                0   \n",
       "\n",
       "      weekDay_Wednesday  weather_ Clear + Few clouds  \\\n",
       "0                     1                            1   \n",
       "1                     1                            1   \n",
       "2                     0                            1   \n",
       "3                     0                            1   \n",
       "4                     0                            1   \n",
       "...                 ...                          ...   \n",
       "8703                  0                            1   \n",
       "8704                  0                            0   \n",
       "8705                  0                            0   \n",
       "8706                  1                            0   \n",
       "8707                  0                            0   \n",
       "\n",
       "      weather_ Heavy Rain + Thunderstorm   weather_ Light Snow, Light Rain  \\\n",
       "0                                       0                                0   \n",
       "1                                       0                                0   \n",
       "2                                       0                                0   \n",
       "3                                       0                                0   \n",
       "4                                       0                                0   \n",
       "...                                   ...                              ...   \n",
       "8703                                    0                                0   \n",
       "8704                                    0                                0   \n",
       "8705                                    0                                0   \n",
       "8706                                    0                                0   \n",
       "8707                                    0                                0   \n",
       "\n",
       "      weather_ Mist + Cloudy   season_Fall  season_Spring  season_Summer  \\\n",
       "0                           0            0              0              1   \n",
       "1                           0            1              0              0   \n",
       "2                           0            0              1              0   \n",
       "3                           0            0              0              0   \n",
       "4                           0            1              0              0   \n",
       "...                       ...          ...            ...            ...   \n",
       "8703                        0            0              1              0   \n",
       "8704                        1            0              0              0   \n",
       "8705                        1            0              0              1   \n",
       "8706                        1            0              0              0   \n",
       "8707                        1            0              1              0   \n",
       "\n",
       "      season_Winter  \n",
       "0                 0  \n",
       "1                 0  \n",
       "2                 0  \n",
       "3                 1  \n",
       "4                 0  \n",
       "...             ...  \n",
       "8703              0  \n",
       "8704              1  \n",
       "8705              0  \n",
       "8706              1  \n",
       "8707              0  \n",
       "\n",
       "[8291 rows x 34 columns]"
      ]
     },
     "execution_count": 62,
     "metadata": {},
     "output_type": "execute_result"
    }
   ],
   "source": [
    "df_encoded"
   ]
  },
  {
   "cell_type": "code",
   "execution_count": 63,
   "metadata": {
    "id": "Vab2SXbRNzzj"
   },
   "outputs": [],
   "source": [
    "#Define Input and Output/Target variables\n",
    "X = df_encoded.drop('Total_booking', axis=1)\n",
    "y = df_encoded['Total_booking']"
   ]
  },
  {
   "cell_type": "code",
   "execution_count": 64,
   "metadata": {
    "id": "exE-35mJOWM1"
   },
   "outputs": [],
   "source": [
    "#Split your dataset for training and testing\n",
    "from sklearn.model_selection import train_test_split\n",
    "X_train,X_test,y_train,y_test = train_test_split(X,y,test_size = 0.25, random_state=0)"
   ]
  },
  {
   "cell_type": "markdown",
   "metadata": {
    "id": "j2XZWhXPMEqE"
   },
   "source": [
    "Fit various models (Random Forest Regressor, Ada Boost Regressor, Bagging Regressor, SVR, and K-Neighbors Regressor)"
   ]
  },
  {
   "cell_type": "code",
   "execution_count": 65,
   "metadata": {
    "id": "RSboTezSOXDG"
   },
   "outputs": [],
   "source": [
    "#Random Forest Regressor\n",
    "from sklearn.ensemble import RandomForestRegressor\n",
    "model_rf = RandomForestRegressor()\n",
    "model_rf.fit(X_train,y_train)\n",
    "y_pred_test_rf = model_rf.predict(X_test)"
   ]
  },
  {
   "cell_type": "code",
   "execution_count": 66,
   "metadata": {
    "colab": {
     "base_uri": "https://localhost:8080/"
    },
    "id": "00NvQN8QQNza",
    "outputId": "43bb1de6-0cde-4ab9-dc7c-755144dfe257"
   },
   "outputs": [
    {
     "name": "stdout",
     "output_type": "stream",
     "text": [
      "RMSE for Random Forest Model with test dataset is:  59.85513261129355\n",
      "R-Squared for the Random Forest Model with test dataset is :  0.8554117676980796\n"
     ]
    }
   ],
   "source": [
    "#Random Forest Regressor Model Evaluation for Test dataset\n",
    "from sklearn.metrics import mean_squared_error,r2_score\n",
    "mse_test_rf = mean_squared_error(y_test,y_pred_test_rf)\n",
    "rmse_test_rf = np.sqrt(mse_test_rf)\n",
    "r_squared_test_rf = r2_score(y_test,y_pred_test_rf)\n",
    "print('RMSE for Random Forest Model with test dataset is: ',rmse_test_rf)\n",
    "print('R-Squared for the Random Forest Model with test dataset is : ',r_squared_test_rf)"
   ]
  },
  {
   "cell_type": "code",
   "execution_count": 67,
   "metadata": {
    "id": "a6OnCRgxQVhG"
   },
   "outputs": [],
   "source": [
    "#Ada Boost Regressor\n",
    "from sklearn.ensemble import AdaBoostRegressor\n",
    "model_ada = AdaBoostRegressor()\n",
    "model_ada.fit(X_train,y_train)\n",
    "y_pred_test_ada = model_ada.predict(X_test)"
   ]
  },
  {
   "cell_type": "code",
   "execution_count": 68,
   "metadata": {
    "colab": {
     "base_uri": "https://localhost:8080/"
    },
    "id": "u4uLLJEZF3Mm",
    "outputId": "31ae732b-991c-4376-f72b-1f10f4b13633"
   },
   "outputs": [
    {
     "name": "stdout",
     "output_type": "stream",
     "text": [
      "RMSE for Ada Boost Regressor Model with test dataset is:  107.14935265034151\n",
      "R-Squared for the Ada Boost Regressor Model with test dataset is :  0.5366499047335132\n"
     ]
    }
   ],
   "source": [
    "#Ada Boost Regressor Model Evaluation for Test dataset\n",
    "from sklearn.metrics import mean_squared_error,r2_score\n",
    "mse_test_ada = mean_squared_error(y_test,y_pred_test_ada)\n",
    "rmse_test_ada = np.sqrt(mse_test_ada)\n",
    "r_squared_test_ada = r2_score(y_test,y_pred_test_ada)\n",
    "print('RMSE for Ada Boost Regressor Model with test dataset is: ',rmse_test_ada)\n",
    "print('R-Squared for the Ada Boost Regressor Model with test dataset is : ',r_squared_test_ada)"
   ]
  },
  {
   "cell_type": "code",
   "execution_count": 69,
   "metadata": {
    "id": "gLwKGIS4HPEW"
   },
   "outputs": [],
   "source": [
    "#Bagging Regressor\n",
    "from sklearn.ensemble import BaggingRegressor\n",
    "model_bag = BaggingRegressor()\n",
    "model_bag.fit(X_train,y_train)\n",
    "y_pred_test_bag = model_bag.predict(X_test)"
   ]
  },
  {
   "cell_type": "code",
   "execution_count": 70,
   "metadata": {
    "colab": {
     "base_uri": "https://localhost:8080/"
    },
    "id": "jV4UwoTsJLj0",
    "outputId": "aeee4ac3-c4fc-4dbb-f125-c8a00de96e40"
   },
   "outputs": [
    {
     "name": "stdout",
     "output_type": "stream",
     "text": [
      "RMSE for Bagging Regressor Model with test dataset is:  62.96063692005378\n",
      "R-Squared for the Bagging Regressor Model with test dataset is :  0.8400190103424103\n"
     ]
    }
   ],
   "source": [
    "#Bagging Regressor Model Evaluation for Test dataset\n",
    "from sklearn.metrics import mean_squared_error,r2_score\n",
    "mse_test_bag = mean_squared_error(y_test,y_pred_test_bag)\n",
    "rmse_test_bag = np.sqrt(mse_test_bag)\n",
    "r_squared_test_bag = r2_score(y_test,y_pred_test_bag)\n",
    "print('RMSE for Bagging Regressor Model with test dataset is: ',rmse_test_bag)\n",
    "print('R-Squared for the Bagging Regressor Model with test dataset is : ',r_squared_test_bag)"
   ]
  },
  {
   "cell_type": "code",
   "execution_count": 71,
   "metadata": {
    "id": "EjVi4eCRJbIQ"
   },
   "outputs": [],
   "source": [
    "#SVR\n",
    "from sklearn.svm import SVR\n",
    "model_svr = SVR()\n",
    "model_svr.fit(X_train,y_train)\n",
    "y_pred_test_svr = model_svr.predict(X_test)"
   ]
  },
  {
   "cell_type": "code",
   "execution_count": 72,
   "metadata": {
    "colab": {
     "base_uri": "https://localhost:8080/"
    },
    "id": "PLuun3YGKTNW",
    "outputId": "73989dd0-94ea-4c0f-8921-6ed1dbad5123"
   },
   "outputs": [
    {
     "name": "stdout",
     "output_type": "stream",
     "text": [
      "RMSE for SVR Model with test dataset is:  139.07837276324426\n",
      "R-Squared for the SVR Model with test dataset is :  0.21936259878329578\n"
     ]
    }
   ],
   "source": [
    "#SVR Model Evaluation for Test dataset\n",
    "from sklearn.metrics import mean_squared_error,r2_score\n",
    "mse_test_svr = mean_squared_error(y_test,y_pred_test_svr)\n",
    "rmse_test_svr = np.sqrt(mse_test_svr)\n",
    "r_squared_test_svr = r2_score(y_test,y_pred_test_svr)\n",
    "print('RMSE for SVR Model with test dataset is: ',rmse_test_svr)\n",
    "print('R-Squared for the SVR Model with test dataset is : ',r_squared_test_svr)"
   ]
  },
  {
   "cell_type": "code",
   "execution_count": 73,
   "metadata": {
    "id": "AgXousN0Kh7S"
   },
   "outputs": [],
   "source": [
    "#K-Neighbors Regressor\n",
    "from sklearn.neighbors import KNeighborsRegressor\n",
    "model_knr = KNeighborsRegressor()\n",
    "model_knr.fit(X_train,y_train)\n",
    "y_pred_test_knr = model_knr.predict(X_test)"
   ]
  },
  {
   "cell_type": "code",
   "execution_count": 74,
   "metadata": {
    "colab": {
     "base_uri": "https://localhost:8080/"
    },
    "id": "_qvs8IAPLvVf",
    "outputId": "a2f1e7c6-dfa9-4d35-affe-560a9d0260f2"
   },
   "outputs": [
    {
     "name": "stdout",
     "output_type": "stream",
     "text": [
      "RMSE for K-Neighbors Model with test dataset is:  104.10103389534648\n",
      "R-Squared for the K-Neighbors Model with test dataset is :  0.5626388134633452\n"
     ]
    }
   ],
   "source": [
    "#K-Neighbors Regressor Model Evaluation for Test dataset\n",
    "from sklearn.metrics import mean_squared_error,r2_score\n",
    "mse_test_knr = mean_squared_error(y_test,y_pred_test_knr)\n",
    "rmse_test_knr = np.sqrt(mse_test_knr)\n",
    "r_squared_test_knr = r2_score(y_test,y_pred_test_knr)\n",
    "print('RMSE for K-Neighbors Model with test dataset is: ',rmse_test_knr)\n",
    "print('R-Squared for the K-Neighbors Model with test dataset is : ',r_squared_test_knr)"
   ]
  },
  {
   "cell_type": "code",
   "execution_count": 75,
   "metadata": {
    "colab": {
     "base_uri": "https://localhost:8080/",
     "height": 206
    },
    "id": "MIydF1oe6teO",
    "outputId": "48092fe6-4854-405f-c6d4-7be1a882d629"
   },
   "outputs": [
    {
     "data": {
      "text/html": [
       "<div>\n",
       "<style scoped>\n",
       "    .dataframe tbody tr th:only-of-type {\n",
       "        vertical-align: middle;\n",
       "    }\n",
       "\n",
       "    .dataframe tbody tr th {\n",
       "        vertical-align: top;\n",
       "    }\n",
       "\n",
       "    .dataframe thead th {\n",
       "        text-align: right;\n",
       "    }\n",
       "</style>\n",
       "<table border=\"1\" class=\"dataframe\">\n",
       "  <thead>\n",
       "    <tr style=\"text-align: right;\">\n",
       "      <th></th>\n",
       "      <th>Model</th>\n",
       "      <th>RMSE Value</th>\n",
       "    </tr>\n",
       "  </thead>\n",
       "  <tbody>\n",
       "    <tr>\n",
       "      <th>0</th>\n",
       "      <td>Random Forest</td>\n",
       "      <td>59.855133</td>\n",
       "    </tr>\n",
       "    <tr>\n",
       "      <th>1</th>\n",
       "      <td>Ada Boost</td>\n",
       "      <td>107.149353</td>\n",
       "    </tr>\n",
       "    <tr>\n",
       "      <th>2</th>\n",
       "      <td>Bagging</td>\n",
       "      <td>62.960637</td>\n",
       "    </tr>\n",
       "    <tr>\n",
       "      <th>3</th>\n",
       "      <td>SVR</td>\n",
       "      <td>139.078373</td>\n",
       "    </tr>\n",
       "    <tr>\n",
       "      <th>4</th>\n",
       "      <td>K-Neighbors</td>\n",
       "      <td>104.101034</td>\n",
       "    </tr>\n",
       "  </tbody>\n",
       "</table>\n",
       "</div>"
      ],
      "text/plain": [
       "           Model  RMSE Value\n",
       "0  Random Forest   59.855133\n",
       "1      Ada Boost  107.149353\n",
       "2        Bagging   62.960637\n",
       "3            SVR  139.078373\n",
       "4    K-Neighbors  104.101034"
      ]
     },
     "execution_count": 75,
     "metadata": {},
     "output_type": "execute_result"
    }
   ],
   "source": [
    "rmse = {'Model':['Random Forest','Ada Boost','Bagging','SVR','K-Neighbors'], 'RMSE Value': [rmse_test_rf,rmse_test_ada,rmse_test_bag,rmse_test_svr,rmse_test_knr]}\n",
    "rmse_df = pd.DataFrame(rmse)\n",
    "rmse_df"
   ]
  },
  {
   "cell_type": "markdown",
   "metadata": {
    "id": "A-Nbl9YdMg5q"
   },
   "source": [
    "Display a Factor plot to visualize the RMSE values achieved by different modeling algorithm"
   ]
  },
  {
   "cell_type": "code",
   "execution_count": 76,
   "metadata": {
    "colab": {
     "base_uri": "https://localhost:8080/",
     "height": 459
    },
    "id": "airvwhIeM3SI",
    "outputId": "861dbc07-1241-4c7a-f6bc-dab080c6fbd3"
   },
   "outputs": [
    {
     "name": "stderr",
     "output_type": "stream",
     "text": [
      "D:\\Sai\\Anaconda\\lib\\site-packages\\seaborn\\categorical.py:3704: UserWarning: The `factorplot` function has been renamed to `catplot`. The original name will be removed in a future release. Please update your code. Note that the default `kind` in `factorplot` (`'point'`) has changed `'strip'` in `catplot`.\n",
      "  warnings.warn(msg)\n",
      "D:\\Sai\\Anaconda\\lib\\site-packages\\seaborn\\categorical.py:3710: UserWarning: The `size` parameter has been renamed to `height`; please update your code.\n",
      "  warnings.warn(msg, UserWarning)\n"
     ]
    },
    {
     "data": {
      "image/png": "[encoded data removed]",
      "text/plain": [
       "<Figure size 576x288 with 1 Axes>"
      ]
     },
     "metadata": {},
     "output_type": "display_data"
    }
   ],
   "source": [
    "factplot= sns.factorplot(x=\"Model\",y=\"RMSE Value\",size = 4,aspect = 2,data=rmse_df)\n",
    "factplot.set_xticklabels(rotation=45)\n",
    "plt.show()"
   ]
  },
  {
   "cell_type": "markdown",
   "metadata": {
    "id": "SvzS9eu1Ktp_"
   },
   "source": [
    "From the above observations, Random forest is the best model"
   ]
  },
  {
   "cell_type": "markdown",
   "metadata": {
    "id": "HiRbnr3_Kpcb"
   },
   "source": [
    "Perform Hyper-parameter tuning on the best model using GridSearchCV and print the best parameters using model.best_params_"
   ]
  },
  {
   "cell_type": "code",
   "execution_count": 77,
   "metadata": {
    "id": "_7uLy4QVCZOE"
   },
   "outputs": [],
   "source": [
    "rf = RandomForestRegressor(random_state=42)"
   ]
  },
  {
   "cell_type": "code",
   "execution_count": 78,
   "metadata": {
    "id": "4eB9uphjWUhS"
   },
   "outputs": [],
   "source": [
    "param_grid = { \n",
    "    'n_estimators': [200,300,400],\n",
    "    'max_features': ['auto','sqrt','log2'],\n",
    "    'max_depth' : [20,30,40],\n",
    "    'criterion' : ['mse','mae']\n",
    "}"
   ]
  },
  {
   "cell_type": "code",
   "execution_count": 79,
   "metadata": {
    "id": "hWYp_mgUXzfn"
   },
   "outputs": [],
   "source": [
    "from sklearn.model_selection import GridSearchCV"
   ]
  },
  {
   "cell_type": "code",
   "execution_count": 80,
   "metadata": {
    "colab": {
     "base_uri": "https://localhost:8080/"
    },
    "id": "NCkcRz1gX0hD",
    "outputId": "6ce28c87-5869-40ee-ef9c-326448c48879",
    "scrolled": true
   },
   "outputs": [
    {
     "name": "stdout",
     "output_type": "stream",
     "text": [
      "Fitting 5 folds for each of 54 candidates, totalling 270 fits\n"
     ]
    },
    {
     "name": "stderr",
     "output_type": "stream",
     "text": [
      "[Parallel(n_jobs=-1)]: Using backend LokyBackend with 8 concurrent workers.\n",
      "[Parallel(n_jobs=-1)]: Done  34 tasks      | elapsed:   57.4s\n",
      "[Parallel(n_jobs=-1)]: Done 184 tasks      | elapsed: 33.7min\n",
      "[Parallel(n_jobs=-1)]: Done 270 out of 270 | elapsed: 74.4min finished\n"
     ]
    },
    {
     "data": {
      "text/plain": [
       "GridSearchCV(cv=5, error_score=nan,\n",
       "             estimator=RandomForestRegressor(bootstrap=True, ccp_alpha=0.0,\n",
       "                                             criterion='mse', max_depth=None,\n",
       "                                             max_features='auto',\n",
       "                                             max_leaf_nodes=None,\n",
       "                                             max_samples=None,\n",
       "                                             min_impurity_decrease=0.0,\n",
       "                                             min_impurity_split=None,\n",
       "                                             min_samples_leaf=1,\n",
       "                                             min_samples_split=2,\n",
       "                                             min_weight_fraction_leaf=0.0,\n",
       "                                             n_estimators=100, n_jobs=None,\n",
       "                                             oob_score=False, random_state=42,\n",
       "                                             verbose=0, warm_start=False),\n",
       "             iid='deprecated', n_jobs=-1,\n",
       "             param_grid={'criterion': ['mse', 'mae'], 'max_depth': [20, 30, 40],\n",
       "                         'max_features': ['auto', 'sqrt', 'log2'],\n",
       "                         'n_estimators': [200, 300, 400]},\n",
       "             pre_dispatch='2*n_jobs', refit=True, return_train_score=False,\n",
       "             scoring=None, verbose=1)"
      ]
     },
     "execution_count": 80,
     "metadata": {},
     "output_type": "execute_result"
    }
   ],
   "source": [
    "grid_search = GridSearchCV(estimator=rf, param_grid=param_grid, cv= 5, n_jobs=-1,verbose=1)\n",
    "grid_search.fit(X_train, y_train)"
   ]
  },
  {
   "cell_type": "code",
   "execution_count": 81,
   "metadata": {
    "id": "XknEOSmjYvrX"
   },
   "outputs": [
    {
     "name": "stdout",
     "output_type": "stream",
     "text": [
      "Best Parameters for Random Forest Regressor Model :  {'criterion': 'mse', 'max_depth': 40, 'max_features': 'auto', 'n_estimators': 400}\n"
     ]
    }
   ],
   "source": [
    "print('Best Parameters for Random Forest Regressor Model : ',grid_search.best_params_)"
   ]
  },
  {
   "cell_type": "markdown",
   "metadata": {},
   "source": [
    "Perform prediction on the test set and print the mean_squared_log_error"
   ]
  },
  {
   "cell_type": "code",
   "execution_count": 82,
   "metadata": {},
   "outputs": [
    {
     "name": "stderr",
     "output_type": "stream",
     "text": [
      "[Parallel(n_jobs=1)]: Using backend SequentialBackend with 1 concurrent workers.\n",
      "[Parallel(n_jobs=1)]: Done 400 out of 400 | elapsed:   13.3s finished\n",
      "[Parallel(n_jobs=1)]: Using backend SequentialBackend with 1 concurrent workers.\n",
      "[Parallel(n_jobs=1)]: Done 400 out of 400 | elapsed:    0.1s finished\n"
     ]
    }
   ],
   "source": [
    "model_rf = RandomForestRegressor(n_estimators=400,max_depth=40,random_state=0,verbose=1)\n",
    "model_rf.fit(X_train,y_train)\n",
    "y_pred_test_rf = model_rf.predict(X_test)"
   ]
  },
  {
   "cell_type": "code",
   "execution_count": 83,
   "metadata": {},
   "outputs": [
    {
     "name": "stdout",
     "output_type": "stream",
     "text": [
      "RMSE for Random Forest Model with test dataset is:  59.71116605586628\n",
      "R-Squared for the Random Forest Model with test dataset is :  0.8561064729027232\n"
     ]
    }
   ],
   "source": [
    "#Random Forest Regressor Model Evaluation for Test dataset\n",
    "from sklearn.metrics import mean_squared_error,r2_score\n",
    "mse_test_rf = mean_squared_error(y_test,y_pred_test_rf)\n",
    "rmse_test_rf = np.sqrt(mse_test_rf)\n",
    "r_squared_test_rf = r2_score(y_test,y_pred_test_rf)\n",
    "print('RMSE for Random Forest Model with test dataset is: ',rmse_test_rf)\n",
    "print('R-Squared for the Random Forest Model with test dataset is : ',r_squared_test_rf)"
   ]
  },
  {
   "cell_type": "code",
   "execution_count": 84,
   "metadata": {},
   "outputs": [
    {
     "name": "stdout",
     "output_type": "stream",
     "text": [
      "Mean Squared log error for RF Regressor Model :  0.41109175949897886\n"
     ]
    }
   ],
   "source": [
    "from sklearn.metrics import mean_squared_log_error\n",
    "MSLE = np.sqrt(mean_squared_log_error(y_test, y_pred_test_rf ))\n",
    "print('Mean Squared log error for RF Regressor Model : ',MSLE)"
   ]
  },
  {
   "cell_type": "code",
   "execution_count": null,
   "metadata": {},
   "outputs": [],
   "source": []
  }
 ],
 "metadata": {
  "colab": {
   "collapsed_sections": [],
   "name": "Copy2 of Forecast Cab Booking Demand.ipynb",
   "provenance": []
  },
  "kernelspec": {
   "display_name": "Python 3",
   "language": "python",
   "name": "python3"
  },
  "language_info": {
   "codemirror_mode": {
    "name": "ipython",
    "version": 3
   },
   "file_extension": ".py",
   "mimetype": "text/x-python",
   "name": "python",
   "nbconvert_exporter": "python",
   "pygments_lexer": "ipython3",
   "version": "3.8.8"
  }
 },
 "nbformat": 4,
 "nbformat_minor": 1
}
